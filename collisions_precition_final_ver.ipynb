{
 "cells": [
  {
   "cell_type": "markdown",
   "id": "e6c91c9b",
   "metadata": {},
   "source": [
    "# Предсказание риска ДТП"
   ]
  },
  {
   "cell_type": "markdown",
   "id": "ea43ead3",
   "metadata": {},
   "source": [
    "Нужно создать систему, которая могла бы оценить риск ДТП по выбранному маршруту движения. Под риском понимается вероятность ДТП с любым повреждением транспортного средства. Как только водитель забронировал автомобиль, сел за руль и выбрал маршрут, система должна оценить уровень риска. Если уровень риска высок, водитель увидит предупреждение и рекомендации по маршруту.\n",
    "\n",
    "Идея создания такой системы находится в стадии предварительного обсуждения и проработки. Чёткого алгоритма работы и подобных решений на рынке ещё не существует. Текущая задача — понять, возможно ли предсказывать ДТП, опираясь на исторические данные одного из регионов.\n",
    "\n",
    "Идея решения задачи от заказчика:\n",
    "\n",
    "Создать модель предсказания ДТП (целевое значение — at_fault (виновник) в таблице parties)<br>\n",
    "Для модели выбрать тип виновника — только машина (car).<br>\n",
    "Выбрать случаи, когда ДТП привело к любым повреждениям транспортного средства, кроме типа SCRATCH (царапина).<br>\n",
    "Для моделирования ограничиться данными за 2012 год — они самые свежие.<br>\n",
    "Обязательное условие — учесть фактор возраста автомобиля.<br>\n",
    "На основе модели исследовать основные факторы ДТП.<br>\n",
    "Понять, помогут ли результаты моделирования и анализ важности факторов ответить на вопросы:\n",
    "- Возможно ли создать адекватную системы оценки водительского риска при выдаче авто?\n",
    "- Какие ещё факторы нужно учесть?<br>\n",
    "- Нужно ли оборудовать автомобиль какими-либо датчиками или камерой?"
   ]
  },
  {
   "cell_type": "markdown",
   "id": "06201929",
   "metadata": {
    "ExecuteTime": {
     "end_time": "2022-05-05T04:58:05.692448Z",
     "start_time": "2022-05-05T04:58:05.688565Z"
    }
   },
   "source": [
    "## Подключение к базе. Загрузка таблицы данных"
   ]
  },
  {
   "cell_type": "code",
   "execution_count": 1,
   "id": "0dde15c8",
   "metadata": {},
   "outputs": [],
   "source": [
    "import pandas as pd\n",
    "from sqlalchemy import create_engine "
   ]
  },
  {
   "cell_type": "code",
   "execution_count": 2,
   "id": "b7aeea5f",
   "metadata": {},
   "outputs": [],
   "source": [
    "db_config = {\n",
    "'user': 'praktikum_student', # имя пользователя,\n",
    "'pwd': 'Sdf4$2;d-d30pp', # пароль,\n",
    "'host': 'rc1b-wcoijxj3yxfsf3fs.mdb.yandexcloud.net',\n",
    "'port': 6432, # порт подключения,\n",
    "'db': 'data-science-vehicle-db' # название базы данных,\n",
    "} \n",
    "\n",
    "#сторока подключения к базе данных\n",
    "connection_string = 'postgresql://{}:{}@{}:{}/{}'.format(\n",
    "    db_config['user'],\n",
    "    db_config['pwd'],\n",
    "    db_config['host'],\n",
    "    db_config['port'],\n",
    "    db_config['db'],\n",
    ")\n",
    "\n",
    "engine = create_engine(connection_string) "
   ]
  },
  {
   "cell_type": "markdown",
   "id": "99f8ec41",
   "metadata": {},
   "source": [
    "Настройки подключения готовы."
   ]
  },
  {
   "cell_type": "markdown",
   "id": "ec1808b5",
   "metadata": {},
   "source": [
    "## Первичное исследование таблиц"
   ]
  },
  {
   "cell_type": "markdown",
   "id": "89d5d9f3",
   "metadata": {},
   "source": [
    "- Все ли таблицы имеют набор данных;\n",
    "- Соответствует ли количество таблиц условию задачи;\n",
    "- Имеется ли общий ключ для связи таблиц."
   ]
  },
  {
   "cell_type": "code",
   "execution_count": 3,
   "id": "cb47709b",
   "metadata": {},
   "outputs": [
    {
     "name": "stdout",
     "output_type": "stream",
     "text": [
      "Первые пять строк таблицы parties:\n"
     ]
    },
    {
     "data": {
      "text/html": [
       "<div>\n",
       "<style scoped>\n",
       "    .dataframe tbody tr th:only-of-type {\n",
       "        vertical-align: middle;\n",
       "    }\n",
       "\n",
       "    .dataframe tbody tr th {\n",
       "        vertical-align: top;\n",
       "    }\n",
       "\n",
       "    .dataframe thead th {\n",
       "        text-align: right;\n",
       "    }\n",
       "</style>\n",
       "<table border=\"1\" class=\"dataframe\">\n",
       "  <thead>\n",
       "    <tr style=\"text-align: right;\">\n",
       "      <th></th>\n",
       "      <th>id</th>\n",
       "      <th>case_id</th>\n",
       "      <th>party_number</th>\n",
       "      <th>party_type</th>\n",
       "      <th>at_fault</th>\n",
       "      <th>insurance_premium</th>\n",
       "      <th>party_sobriety</th>\n",
       "      <th>party_drug_physical</th>\n",
       "      <th>cellphone_in_use</th>\n",
       "    </tr>\n",
       "  </thead>\n",
       "  <tbody>\n",
       "    <tr>\n",
       "      <th>0</th>\n",
       "      <td>22</td>\n",
       "      <td>3899454</td>\n",
       "      <td>1</td>\n",
       "      <td>road signs</td>\n",
       "      <td>1</td>\n",
       "      <td>29.0</td>\n",
       "      <td>had not been drinking</td>\n",
       "      <td>None</td>\n",
       "      <td>0.0</td>\n",
       "    </tr>\n",
       "    <tr>\n",
       "      <th>1</th>\n",
       "      <td>23</td>\n",
       "      <td>3899454</td>\n",
       "      <td>2</td>\n",
       "      <td>road signs</td>\n",
       "      <td>0</td>\n",
       "      <td>7.0</td>\n",
       "      <td>had not been drinking</td>\n",
       "      <td>None</td>\n",
       "      <td>0.0</td>\n",
       "    </tr>\n",
       "    <tr>\n",
       "      <th>2</th>\n",
       "      <td>29</td>\n",
       "      <td>3899462</td>\n",
       "      <td>2</td>\n",
       "      <td>car</td>\n",
       "      <td>0</td>\n",
       "      <td>21.0</td>\n",
       "      <td>had not been drinking</td>\n",
       "      <td>None</td>\n",
       "      <td>0.0</td>\n",
       "    </tr>\n",
       "    <tr>\n",
       "      <th>3</th>\n",
       "      <td>31</td>\n",
       "      <td>3899465</td>\n",
       "      <td>2</td>\n",
       "      <td>road signs</td>\n",
       "      <td>0</td>\n",
       "      <td>24.0</td>\n",
       "      <td>had not been drinking</td>\n",
       "      <td>None</td>\n",
       "      <td>0.0</td>\n",
       "    </tr>\n",
       "    <tr>\n",
       "      <th>4</th>\n",
       "      <td>41</td>\n",
       "      <td>3899478</td>\n",
       "      <td>2</td>\n",
       "      <td>road bumper</td>\n",
       "      <td>0</td>\n",
       "      <td>NaN</td>\n",
       "      <td>not applicable</td>\n",
       "      <td>not applicable</td>\n",
       "      <td>0.0</td>\n",
       "    </tr>\n",
       "    <tr>\n",
       "      <th>5</th>\n",
       "      <td>43</td>\n",
       "      <td>3899481</td>\n",
       "      <td>2</td>\n",
       "      <td>road bumper</td>\n",
       "      <td>0</td>\n",
       "      <td>NaN</td>\n",
       "      <td>not applicable</td>\n",
       "      <td>not applicable</td>\n",
       "      <td>0.0</td>\n",
       "    </tr>\n",
       "    <tr>\n",
       "      <th>6</th>\n",
       "      <td>72</td>\n",
       "      <td>3899505</td>\n",
       "      <td>2</td>\n",
       "      <td>road bumper</td>\n",
       "      <td>0</td>\n",
       "      <td>NaN</td>\n",
       "      <td>not applicable</td>\n",
       "      <td>not applicable</td>\n",
       "      <td>0.0</td>\n",
       "    </tr>\n",
       "    <tr>\n",
       "      <th>7</th>\n",
       "      <td>73</td>\n",
       "      <td>3899505</td>\n",
       "      <td>3</td>\n",
       "      <td>road bumper</td>\n",
       "      <td>0</td>\n",
       "      <td>NaN</td>\n",
       "      <td>not applicable</td>\n",
       "      <td>not applicable</td>\n",
       "      <td>0.0</td>\n",
       "    </tr>\n",
       "    <tr>\n",
       "      <th>8</th>\n",
       "      <td>76</td>\n",
       "      <td>3899509</td>\n",
       "      <td>1</td>\n",
       "      <td>road bumper</td>\n",
       "      <td>0</td>\n",
       "      <td>NaN</td>\n",
       "      <td>had not been drinking</td>\n",
       "      <td>None</td>\n",
       "      <td>0.0</td>\n",
       "    </tr>\n",
       "    <tr>\n",
       "      <th>9</th>\n",
       "      <td>93</td>\n",
       "      <td>3981292</td>\n",
       "      <td>2</td>\n",
       "      <td>road bumper</td>\n",
       "      <td>0</td>\n",
       "      <td>NaN</td>\n",
       "      <td>had not been drinking</td>\n",
       "      <td>None</td>\n",
       "      <td>NaN</td>\n",
       "    </tr>\n",
       "    <tr>\n",
       "      <th>10</th>\n",
       "      <td>111</td>\n",
       "      <td>3982068</td>\n",
       "      <td>2</td>\n",
       "      <td>road bumper</td>\n",
       "      <td>0</td>\n",
       "      <td>NaN</td>\n",
       "      <td>not applicable</td>\n",
       "      <td>not applicable</td>\n",
       "      <td>0.0</td>\n",
       "    </tr>\n",
       "    <tr>\n",
       "      <th>11</th>\n",
       "      <td>126</td>\n",
       "      <td>3982887</td>\n",
       "      <td>1</td>\n",
       "      <td>None</td>\n",
       "      <td>1</td>\n",
       "      <td>NaN</td>\n",
       "      <td>impairment unknown</td>\n",
       "      <td>G</td>\n",
       "      <td>0.0</td>\n",
       "    </tr>\n",
       "    <tr>\n",
       "      <th>12</th>\n",
       "      <td>115</td>\n",
       "      <td>3982076</td>\n",
       "      <td>2</td>\n",
       "      <td>road bumper</td>\n",
       "      <td>0</td>\n",
       "      <td>NaN</td>\n",
       "      <td>None</td>\n",
       "      <td>None</td>\n",
       "      <td>NaN</td>\n",
       "    </tr>\n",
       "    <tr>\n",
       "      <th>13</th>\n",
       "      <td>135</td>\n",
       "      <td>3982892</td>\n",
       "      <td>2</td>\n",
       "      <td>road bumper</td>\n",
       "      <td>0</td>\n",
       "      <td>NaN</td>\n",
       "      <td>not applicable</td>\n",
       "      <td>not applicable</td>\n",
       "      <td>0.0</td>\n",
       "    </tr>\n",
       "    <tr>\n",
       "      <th>14</th>\n",
       "      <td>142</td>\n",
       "      <td>3982898</td>\n",
       "      <td>2</td>\n",
       "      <td>car</td>\n",
       "      <td>0</td>\n",
       "      <td>71.0</td>\n",
       "      <td>had not been drinking</td>\n",
       "      <td>None</td>\n",
       "      <td>0.0</td>\n",
       "    </tr>\n",
       "    <tr>\n",
       "      <th>15</th>\n",
       "      <td>163</td>\n",
       "      <td>3982910</td>\n",
       "      <td>1</td>\n",
       "      <td>building</td>\n",
       "      <td>1</td>\n",
       "      <td>15.0</td>\n",
       "      <td>had not been drinking</td>\n",
       "      <td>None</td>\n",
       "      <td>0.0</td>\n",
       "    </tr>\n",
       "    <tr>\n",
       "      <th>16</th>\n",
       "      <td>170</td>\n",
       "      <td>3982914</td>\n",
       "      <td>1</td>\n",
       "      <td>building</td>\n",
       "      <td>1</td>\n",
       "      <td>21.0</td>\n",
       "      <td>had not been drinking</td>\n",
       "      <td>None</td>\n",
       "      <td>1.0</td>\n",
       "    </tr>\n",
       "    <tr>\n",
       "      <th>17</th>\n",
       "      <td>171</td>\n",
       "      <td>3982914</td>\n",
       "      <td>2</td>\n",
       "      <td>car</td>\n",
       "      <td>0</td>\n",
       "      <td>43.0</td>\n",
       "      <td>had not been drinking</td>\n",
       "      <td>None</td>\n",
       "      <td>1.0</td>\n",
       "    </tr>\n",
       "    <tr>\n",
       "      <th>18</th>\n",
       "      <td>176</td>\n",
       "      <td>3982918</td>\n",
       "      <td>1</td>\n",
       "      <td>building</td>\n",
       "      <td>1</td>\n",
       "      <td>59.0</td>\n",
       "      <td>had not been drinking</td>\n",
       "      <td>None</td>\n",
       "      <td>0.0</td>\n",
       "    </tr>\n",
       "    <tr>\n",
       "      <th>19</th>\n",
       "      <td>222</td>\n",
       "      <td>3982945</td>\n",
       "      <td>1</td>\n",
       "      <td>building</td>\n",
       "      <td>1</td>\n",
       "      <td>47.0</td>\n",
       "      <td>had not been drinking</td>\n",
       "      <td>None</td>\n",
       "      <td>NaN</td>\n",
       "    </tr>\n",
       "  </tbody>\n",
       "</table>\n",
       "</div>"
      ],
      "text/plain": [
       "     id  case_id  party_number   party_type  at_fault  insurance_premium  \\\n",
       "0    22  3899454             1   road signs         1               29.0   \n",
       "1    23  3899454             2   road signs         0                7.0   \n",
       "2    29  3899462             2          car         0               21.0   \n",
       "3    31  3899465             2   road signs         0               24.0   \n",
       "4    41  3899478             2  road bumper         0                NaN   \n",
       "5    43  3899481             2  road bumper         0                NaN   \n",
       "6    72  3899505             2  road bumper         0                NaN   \n",
       "7    73  3899505             3  road bumper         0                NaN   \n",
       "8    76  3899509             1  road bumper         0                NaN   \n",
       "9    93  3981292             2  road bumper         0                NaN   \n",
       "10  111  3982068             2  road bumper         0                NaN   \n",
       "11  126  3982887             1         None         1                NaN   \n",
       "12  115  3982076             2  road bumper         0                NaN   \n",
       "13  135  3982892             2  road bumper         0                NaN   \n",
       "14  142  3982898             2          car         0               71.0   \n",
       "15  163  3982910             1     building         1               15.0   \n",
       "16  170  3982914             1     building         1               21.0   \n",
       "17  171  3982914             2          car         0               43.0   \n",
       "18  176  3982918             1     building         1               59.0   \n",
       "19  222  3982945             1     building         1               47.0   \n",
       "\n",
       "           party_sobriety party_drug_physical  cellphone_in_use  \n",
       "0   had not been drinking                None               0.0  \n",
       "1   had not been drinking                None               0.0  \n",
       "2   had not been drinking                None               0.0  \n",
       "3   had not been drinking                None               0.0  \n",
       "4          not applicable      not applicable               0.0  \n",
       "5          not applicable      not applicable               0.0  \n",
       "6          not applicable      not applicable               0.0  \n",
       "7          not applicable      not applicable               0.0  \n",
       "8   had not been drinking                None               0.0  \n",
       "9   had not been drinking                None               NaN  \n",
       "10         not applicable      not applicable               0.0  \n",
       "11     impairment unknown                   G               0.0  \n",
       "12                   None                None               NaN  \n",
       "13         not applicable      not applicable               0.0  \n",
       "14  had not been drinking                None               0.0  \n",
       "15  had not been drinking                None               0.0  \n",
       "16  had not been drinking                None               1.0  \n",
       "17  had not been drinking                None               1.0  \n",
       "18  had not been drinking                None               0.0  \n",
       "19  had not been drinking                None               NaN  "
      ]
     },
     "metadata": {},
     "output_type": "display_data"
    },
    {
     "name": "stdout",
     "output_type": "stream",
     "text": [
      "Информация о таблице parties:\n",
      "<class 'pandas.core.frame.DataFrame'>\n",
      "RangeIndex: 2752408 entries, 0 to 2752407\n",
      "Data columns (total 9 columns):\n",
      " #   Column               Dtype  \n",
      "---  ------               -----  \n",
      " 0   id                   int64  \n",
      " 1   case_id              object \n",
      " 2   party_number         int64  \n",
      " 3   party_type           object \n",
      " 4   at_fault             int64  \n",
      " 5   insurance_premium    float64\n",
      " 6   party_sobriety       object \n",
      " 7   party_drug_physical  object \n",
      " 8   cellphone_in_use     float64\n",
      "dtypes: float64(2), int64(3), object(4)\n",
      "memory usage: 189.0+ MB\n",
      "None\n"
     ]
    }
   ],
   "source": [
    "sql_query = \"\"\"\n",
    "SELECT *\n",
    "FROM parties\n",
    "\"\"\"\n",
    "parties = pd.read_sql_query(sql_query, con=engine)\n",
    "print('Первые пять строк таблицы parties:')\n",
    "display(parties.head(20))\n",
    "print('Информация о таблице parties:')\n",
    "print(parties.info())"
   ]
  },
  {
   "cell_type": "markdown",
   "id": "1ba46335",
   "metadata": {},
   "source": [
    "| Описание                                                     | Обозначение в таблице | Подробнее                                                    |\n",
    "|:------------------------------------------------------------ |:--------------------- |:------------------------------------------------------------ |\n",
    "| Идентификационный номер                                      | ID                    | Уникальный идентификатор                                                                          |\n",
    "| Идентификационный номер в базе данных                        | CASE_ID               | Уникальный номер для зарегистрированного происшествия в таблице происшествий. |\n",
    "| Номер участника происшествия                                 | PARTY_NUMBER          | От 1 до N — по числу участников происшествия                 |\n",
    "| Тип участника происшествия                                   | PARTY_TYPE            | 1 — Car (Авто)<br />2 — Road bumper (Дорожные знаки)<br />3 — Building (Строения)<br />4 — Road signs (Отбойник)<br />5 — Other (Другое)<br />6 — Operator (Оператор)<br />- — Not Stated (Не указано) |\n",
    "| Виновность участника                                         | AT_FAULT              | 0/1                                                          |\n",
    "| Сумма страховки (тыс. $)                                     | INSURANCE_PREMIUM     | число                                                        |\n",
    "| Состояние участника: физическое или с учётом принятых лекарств | PARTY_DRUG_PHYSICAL   | E — Under Drug Influence (Под воздействием лекарств)<br />F — Impairment — Physical (Ухудшение состояния)<br />G — Impairment Unknown (Не известно)<br />H — Not Applicable (Не оценивался)<br />I — Sleepy/Fatigued (Сонный/Усталый)- — Not Stated (Не указано) |\n",
    "| Трезвость участника                                          | PARTY_SOBRIETY        | A — Had Not Been Drinking (Не пил)<br />B — Had Been Drinking, Under Influence (Был пьян, под влиянием)<br />C — Had Been Drinking, Not Under Influence (Был пьян, не под влиянием)<br />D — Had Been Drinking, Impairment Unknown (Был пьян, ухудшение неизвестно)<br />G — Impairment Unknown (Неизвестно ухудшение)<br />H — Not Applicable (Не оценивался)<br />- — Not Stated (Не указано) |\n",
    "| Наличие телефона в автомобиле (возможности разговаривать по громкой связи) | CELLPHONE_IN_USE      | 0/1                                                          |"
   ]
  },
  {
   "cell_type": "code",
   "execution_count": 4,
   "id": "db4a9f03",
   "metadata": {},
   "outputs": [
    {
     "name": "stdout",
     "output_type": "stream",
     "text": [
      "Первые пять строк таблицы collisions:\n"
     ]
    },
    {
     "data": {
      "text/html": [
       "<div>\n",
       "<style scoped>\n",
       "    .dataframe tbody tr th:only-of-type {\n",
       "        vertical-align: middle;\n",
       "    }\n",
       "\n",
       "    .dataframe tbody tr th {\n",
       "        vertical-align: top;\n",
       "    }\n",
       "\n",
       "    .dataframe thead th {\n",
       "        text-align: right;\n",
       "    }\n",
       "</style>\n",
       "<table border=\"1\" class=\"dataframe\">\n",
       "  <thead>\n",
       "    <tr style=\"text-align: right;\">\n",
       "      <th></th>\n",
       "      <th>case_id</th>\n",
       "      <th>county_city_location</th>\n",
       "      <th>county_location</th>\n",
       "      <th>distance</th>\n",
       "      <th>direction</th>\n",
       "      <th>intersection</th>\n",
       "      <th>weather_1</th>\n",
       "      <th>location_type</th>\n",
       "      <th>collision_damage</th>\n",
       "      <th>party_count</th>\n",
       "      <th>primary_collision_factor</th>\n",
       "      <th>pcf_violation_category</th>\n",
       "      <th>type_of_collision</th>\n",
       "      <th>motor_vehicle_involved_with</th>\n",
       "      <th>road_surface</th>\n",
       "      <th>road_condition_1</th>\n",
       "      <th>lighting</th>\n",
       "      <th>control_device</th>\n",
       "      <th>collision_date</th>\n",
       "      <th>collision_time</th>\n",
       "    </tr>\n",
       "  </thead>\n",
       "  <tbody>\n",
       "    <tr>\n",
       "      <th>0</th>\n",
       "      <td>4083072</td>\n",
       "      <td>1942</td>\n",
       "      <td>los angeles</td>\n",
       "      <td>528.0</td>\n",
       "      <td>north</td>\n",
       "      <td>0.0</td>\n",
       "      <td>cloudy</td>\n",
       "      <td>highway</td>\n",
       "      <td>small damage</td>\n",
       "      <td>2</td>\n",
       "      <td>vehicle code violation</td>\n",
       "      <td>unsafe lane change</td>\n",
       "      <td>sideswipe</td>\n",
       "      <td>other motor vehicle</td>\n",
       "      <td>wet</td>\n",
       "      <td>normal</td>\n",
       "      <td>daylight</td>\n",
       "      <td>none</td>\n",
       "      <td>2009-01-22</td>\n",
       "      <td>07:25:00</td>\n",
       "    </tr>\n",
       "    <tr>\n",
       "      <th>2</th>\n",
       "      <td>4083073</td>\n",
       "      <td>0109</td>\n",
       "      <td>alameda</td>\n",
       "      <td>0.0</td>\n",
       "      <td>None</td>\n",
       "      <td>1.0</td>\n",
       "      <td>clear</td>\n",
       "      <td>None</td>\n",
       "      <td>scratch</td>\n",
       "      <td>2</td>\n",
       "      <td>vehicle code violation</td>\n",
       "      <td>improper turning</td>\n",
       "      <td>broadside</td>\n",
       "      <td>other motor vehicle</td>\n",
       "      <td>dry</td>\n",
       "      <td>normal</td>\n",
       "      <td>dark with street lights</td>\n",
       "      <td>functioning</td>\n",
       "      <td>2009-01-11</td>\n",
       "      <td>03:32:00</td>\n",
       "    </tr>\n",
       "    <tr>\n",
       "      <th>1</th>\n",
       "      <td>4083075</td>\n",
       "      <td>4313</td>\n",
       "      <td>santa clara</td>\n",
       "      <td>0.0</td>\n",
       "      <td>None</td>\n",
       "      <td>1.0</td>\n",
       "      <td>clear</td>\n",
       "      <td>None</td>\n",
       "      <td>small damage</td>\n",
       "      <td>1</td>\n",
       "      <td>vehicle code violation</td>\n",
       "      <td>improper passing</td>\n",
       "      <td>hit object</td>\n",
       "      <td>fixed object</td>\n",
       "      <td>dry</td>\n",
       "      <td>normal</td>\n",
       "      <td>dark with street lights</td>\n",
       "      <td>functioning</td>\n",
       "      <td>2009-01-03</td>\n",
       "      <td>02:26:00</td>\n",
       "    </tr>\n",
       "    <tr>\n",
       "      <th>3</th>\n",
       "      <td>4083077</td>\n",
       "      <td>0109</td>\n",
       "      <td>alameda</td>\n",
       "      <td>0.0</td>\n",
       "      <td>None</td>\n",
       "      <td>1.0</td>\n",
       "      <td>clear</td>\n",
       "      <td>None</td>\n",
       "      <td>scratch</td>\n",
       "      <td>2</td>\n",
       "      <td>vehicle code violation</td>\n",
       "      <td>automobile right of way</td>\n",
       "      <td>broadside</td>\n",
       "      <td>other motor vehicle</td>\n",
       "      <td>dry</td>\n",
       "      <td>normal</td>\n",
       "      <td>daylight</td>\n",
       "      <td>functioning</td>\n",
       "      <td>2009-01-11</td>\n",
       "      <td>10:35:00</td>\n",
       "    </tr>\n",
       "    <tr>\n",
       "      <th>4</th>\n",
       "      <td>4083087</td>\n",
       "      <td>4313</td>\n",
       "      <td>santa clara</td>\n",
       "      <td>0.0</td>\n",
       "      <td>None</td>\n",
       "      <td>1.0</td>\n",
       "      <td>clear</td>\n",
       "      <td>None</td>\n",
       "      <td>scratch</td>\n",
       "      <td>2</td>\n",
       "      <td>vehicle code violation</td>\n",
       "      <td>speeding</td>\n",
       "      <td>rear end</td>\n",
       "      <td>other motor vehicle</td>\n",
       "      <td>dry</td>\n",
       "      <td>None</td>\n",
       "      <td>dark with street lights</td>\n",
       "      <td>functioning</td>\n",
       "      <td>2009-01-02</td>\n",
       "      <td>22:43:00</td>\n",
       "    </tr>\n",
       "  </tbody>\n",
       "</table>\n",
       "</div>"
      ],
      "text/plain": [
       "   case_id county_city_location county_location  distance direction  \\\n",
       "0  4083072                 1942     los angeles     528.0     north   \n",
       "2  4083073                 0109         alameda       0.0      None   \n",
       "1  4083075                 4313     santa clara       0.0      None   \n",
       "3  4083077                 0109         alameda       0.0      None   \n",
       "4  4083087                 4313     santa clara       0.0      None   \n",
       "\n",
       "   intersection weather_1 location_type collision_damage  party_count  \\\n",
       "0           0.0    cloudy       highway     small damage            2   \n",
       "2           1.0     clear          None          scratch            2   \n",
       "1           1.0     clear          None     small damage            1   \n",
       "3           1.0     clear          None          scratch            2   \n",
       "4           1.0     clear          None          scratch            2   \n",
       "\n",
       "  primary_collision_factor   pcf_violation_category type_of_collision  \\\n",
       "0   vehicle code violation       unsafe lane change         sideswipe   \n",
       "2   vehicle code violation         improper turning         broadside   \n",
       "1   vehicle code violation         improper passing        hit object   \n",
       "3   vehicle code violation  automobile right of way         broadside   \n",
       "4   vehicle code violation                 speeding          rear end   \n",
       "\n",
       "  motor_vehicle_involved_with road_surface road_condition_1  \\\n",
       "0         other motor vehicle          wet           normal   \n",
       "2         other motor vehicle          dry           normal   \n",
       "1                fixed object          dry           normal   \n",
       "3         other motor vehicle          dry           normal   \n",
       "4         other motor vehicle          dry             None   \n",
       "\n",
       "                  lighting control_device collision_date collision_time  \n",
       "0                 daylight           none     2009-01-22       07:25:00  \n",
       "2  dark with street lights    functioning     2009-01-11       03:32:00  \n",
       "1  dark with street lights    functioning     2009-01-03       02:26:00  \n",
       "3                 daylight    functioning     2009-01-11       10:35:00  \n",
       "4  dark with street lights    functioning     2009-01-02       22:43:00  "
      ]
     },
     "metadata": {},
     "output_type": "display_data"
    },
    {
     "name": "stdout",
     "output_type": "stream",
     "text": [
      "Информация о таблице collisions:\n",
      "<class 'pandas.core.frame.DataFrame'>\n",
      "RangeIndex: 1400000 entries, 0 to 1399999\n",
      "Data columns (total 20 columns):\n",
      " #   Column                       Non-Null Count    Dtype  \n",
      "---  ------                       --------------    -----  \n",
      " 0   case_id                      1400000 non-null  object \n",
      " 1   county_city_location         1400000 non-null  object \n",
      " 2   county_location              1400000 non-null  object \n",
      " 3   distance                     1400000 non-null  float64\n",
      " 4   direction                    1059358 non-null  object \n",
      " 5   intersection                 1387781 non-null  float64\n",
      " 6   weather_1                    1392741 non-null  object \n",
      " 7   location_type                518779 non-null   object \n",
      " 8   collision_damage             1400000 non-null  object \n",
      " 9   party_count                  1400000 non-null  int64  \n",
      " 10  primary_collision_factor     1391834 non-null  object \n",
      " 11  pcf_violation_category       1372046 non-null  object \n",
      " 12  type_of_collision            1388176 non-null  object \n",
      " 13  motor_vehicle_involved_with  1393181 non-null  object \n",
      " 14  road_surface                 1386907 non-null  object \n",
      " 15  road_condition_1             1388012 non-null  object \n",
      " 16  lighting                     1391407 non-null  object \n",
      " 17  control_device               1391593 non-null  object \n",
      " 18  collision_date               1400000 non-null  object \n",
      " 19  collision_time               1387692 non-null  object \n",
      "dtypes: float64(2), int64(1), object(17)\n",
      "memory usage: 213.6+ MB\n"
     ]
    },
    {
     "data": {
      "text/plain": [
       "None"
      ]
     },
     "metadata": {},
     "output_type": "display_data"
    }
   ],
   "source": [
    "sql_query = \"\"\"\n",
    "SELECT *\n",
    "FROM collisions\n",
    "\"\"\"\n",
    "collisions = pd.read_sql_query(sql_query, con=engine)\n",
    "print('Первые пять строк таблицы collisions:')\n",
    "display(collisions.head().sort_values('case_id'))\n",
    "print('Информация о таблице collisions:')\n",
    "display(collisions.info())"
   ]
  },
  {
   "cell_type": "markdown",
   "id": "dc41ee3b",
   "metadata": {},
   "source": [
    "| Описание                                           | Обозначение в таблице       | Подробнее                                                    |\n",
    "| :------------------------------------------------- | :-------------------------- | :----------------------------------------------------------- |\n",
    "| Идентификационный Номер в базе данных              | CASE_ID                     | Уникальный номер для зарегистрированного происшествия в таблице происшествий. |\n",
    "| Дата происшествия                                  | COLLISION_DATE              | Формат год/месяц/день                                        |\n",
    "| Время происшествия                                 | COLLISION_TIME              | Формат: 24-часовой                                           |\n",
    "| Является ли место происшествие перекрёстком        | INTERSECTION                | Y — Intersection (перекрёсток)<br />N — Not Intersection (не перекрёсток)<br />-- — Not stated (Не указано) |\n",
    "| Погода                                             | WEATHER_1                   | A — Clear (Ясно)<br />B — Cloudy (Облачно)<br />C — Raining (Дождь)<br />D — Snowing (Снегопад)<br />E — Fog (Туман)<br />F — Other (Другое)<br />G — Wind (Ветер)<br />- — Not Stated (Не указано) |\n",
    "| Серьёзность происшествия                           | COLLISION_DAMAGE            | 1 — FATAL ТС (Не подлежит восстановлению)<br />2 — SEVERE DAMAGE (Серьёзный ремонт, большая часть под замену/Серьёзное повреждение капитального строения)<br />3 — MIDDLE DAMAGE (Средний ремонт, машина в целом на ходу/Строение в целом устояло)<br />4 — SMALL DAMAGE (Отдельный элемент кузова под замену/покраску)<br />0 – SCRATCH (Царапина) |\n",
    "| Основной фактор аварии                             | PRIMARY_COLL_FACTOR         | A — Code Violation (Нарушение правил ПДД)<br />B — Other Improper Driving (Другое неправильное вождение)<br />C — Other Than Driver (Кроме водителя)<br />D — Unknown (Неизвестно)<br />E — Fell Asleep (Заснул)<br />- — Not Stated (Не указано) |\n",
    "| Состояние дороги                                   | ROAD_SURFACE                | A — Dry (Сухая)<br />B — Wet (Мокрая)<br />C — Snowy or Icy (Заснеженная или обледенелая)<br />D — Slippery (Muddy, Oily, etc.) (Скользкая, грязная, маслянистая и т. д.)<br />- — Not Stated (Не указано) |\n",
    "| Освещение                                          | LIGHTING                    | A — Daylight (Дневной свет)<br />B — Dusk-Dawn (Сумерки-Рассвет)<br />C — Dark-Street Lights (Темно-Уличные фонари)<br />D — Dark-No Street Lights (Темно-Нет уличных фонарей)<br />E — Dark-Street Lights Not Functioning (Темно-Уличные фонари не работают)<br />- — Not Stated (Не указано) |\n",
    "| Номер географических районов, где произошло ДТП    | COUNTY_CITY_LOCATION        | число                                                        |\n",
    "| Названия географических районов, где произошло ДТП | COUNTY_LOCATION             | список разных названий, категориальный тип данных            |\n",
    "| Направление движения на перекрёстке                | DIRECTION                   | N — North (Север)<br />E — East (Восток)<br />S — South (Юг)<br />W — West (Запад)<br />- or blank — Not State (Не указано) |\n",
    "| Расстояние от главной дороги (метры)               | DISTANCE                    | число                                                        |\n",
    "| Тип дороги                                         | LOCATION_TYPE               | H — Highway (Шоссе)<br />I — Intersection (Перекрёсток)<br />R — Ramp (or Collector) (Рампа)<br />- or blank — Not State Highway (Не указано) |\n",
    "| Количество участников                              | PARTY_COUNT                 | число                                                        |\n",
    "| Категория нарушения                                | PCF_VIOLATION_CATEGORY      | 01 — Driving or Bicycling Under the Influence of Alcohol or Drug (Вождение или езда на велосипеде в состоянии алкогольного или наркотического опьянения)<br />02 — Impeding Traffic (Препятствие движению транспорта)<br />03 — Unsafe Speed (Превышение скорости)<br />04 — Following Too Closely (Опасное сближение)<br />05 — Wrong Side of Road (Неправильная сторона дороги)<br />06 — Improper Passing (Неправильное движение)<br />07 — Unsafe Lane Change (Небезопасная смена полосы движения)<br />08 — Improper Turning (Неправильный поворот)<br />09 — Automobile Right of Way (Автомобильное право проезда)<br />10 — Pedestrian Right of Way (Пешеходное право проезда)<br />11 — Pedestrian Violation (Нарушение пешеходами)<br />12 — Traffic Signals and Signs (Дорожные сигналы и знаки)<br />13 — Hazardous Parking (Неправильная парковка)<br />14 — Lights (Освещение)<br />15 — Brakes (Тормоза)<br />16 — Other Equipment (Другое оборудование)<br />17 — Other Hazardous Violation (Другие нарушения)<br />18 — Other Than Driver (or Pedestrian) (Кроме водителя или пешехода)<br />19 — Speeding (Скорость)<br />20 — Pedestrian dui (Нарушение пешехода)<br />21 — Unsafe Starting or Backing (Опасный старт)<br />22 — Other Improper Driving (Другое неправильное вождение)<br />23 — Pedestrian or “Other” Under the Influence of Alcohol or Drug (Пешеход или «Другой» в состоянии алкогольного или наркотического опьянения)<br />24 — Fell Asleep (Заснул)<br />00 — Unknown (Неизвестно)<br />- — Not Stated (Не указано) |\n",
    "| Тип аварии                                         | TYPE_OF_COLLISION           | A — Head-On (Лоб в лоб)<br />B — Sideswipe (Сторона)<br />C — Rear End (Столкновение задней частью)<br />D — Broadside (Боковой удар)<br />E — Hit Object (Удар объекта)<br />F — Overturned (Опрокинутый)<br />G — Vehicle (транспортное средство/ Пешеход)<br />H — Other (Другое)<br />- — Not Stated (Не указано) |\n",
    "| Дополнительные участники ДТП                       | MOTOR_VEHICLE_INVOLVED_WITH | Other motor vehicle (Другой автомобиль)<br />Fixed object (Неподвижный объект)<br />Parked motor vehicle (Припаркованный автомобиль)<br />Pedestrian (Пешеход)<br />Parked motor vehicle (Припаркованный автомобиль)<br />Bicycle (Велосипедист)<br />Non-collision (Не столкновение)<br />Other object (Другой объект)<br />Motor vehicle on other roadway (Автомобиль на другой проезжей)<br />Animal (Животное)<br />Train (Поезд) |\n",
    "| Дорожное состояние                                 | ROAD_CONDITION_1            | A — Holes, Deep Ruts (Ямы, глубокая колея)<br />B — Loose Material on Roadway (Сыпучий материал на проезжей части)<br />C — Obstruction on Roadway (Препятствие на проезжей части)<br />D — Construction or Repair Zone (Зона строительства или ремонта)<br />E — Reduced Roadway Width (Уменьшенная ширина проезжей части)<br />F — Flooded (Затоплено)<br />G — Other (Другое)<br />H — No Unusual Condition (Нет ничего необычного)<br />- — Not Stated (Не указано) |\n",
    "| Устройство управления                              | control_device              | A — Functioning (Функционирует)<br />B — Not Functioning (Не функционирует)<br />C — Obscured (Затемнённый)<br />D — None (Нет)<br />- — Not Stated (Не указано) |"
   ]
  },
  {
   "cell_type": "code",
   "execution_count": 5,
   "id": "8c25cc83",
   "metadata": {},
   "outputs": [
    {
     "name": "stdout",
     "output_type": "stream",
     "text": [
      "Первые пять строк таблицы vehicles:\n"
     ]
    },
    {
     "data": {
      "text/html": [
       "<div>\n",
       "<style scoped>\n",
       "    .dataframe tbody tr th:only-of-type {\n",
       "        vertical-align: middle;\n",
       "    }\n",
       "\n",
       "    .dataframe tbody tr th {\n",
       "        vertical-align: top;\n",
       "    }\n",
       "\n",
       "    .dataframe thead th {\n",
       "        text-align: right;\n",
       "    }\n",
       "</style>\n",
       "<table border=\"1\" class=\"dataframe\">\n",
       "  <thead>\n",
       "    <tr style=\"text-align: right;\">\n",
       "      <th></th>\n",
       "      <th>id</th>\n",
       "      <th>case_id</th>\n",
       "      <th>party_number</th>\n",
       "      <th>vehicle_type</th>\n",
       "      <th>vehicle_transmission</th>\n",
       "      <th>vehicle_age</th>\n",
       "    </tr>\n",
       "  </thead>\n",
       "  <tbody>\n",
       "    <tr>\n",
       "      <th>0</th>\n",
       "      <td>1175713</td>\n",
       "      <td>5305032</td>\n",
       "      <td>2</td>\n",
       "      <td>sedan</td>\n",
       "      <td>manual</td>\n",
       "      <td>3.0</td>\n",
       "    </tr>\n",
       "    <tr>\n",
       "      <th>1</th>\n",
       "      <td>1</td>\n",
       "      <td>3858022</td>\n",
       "      <td>1</td>\n",
       "      <td>sedan</td>\n",
       "      <td>auto</td>\n",
       "      <td>3.0</td>\n",
       "    </tr>\n",
       "    <tr>\n",
       "      <th>2</th>\n",
       "      <td>1175712</td>\n",
       "      <td>5305030</td>\n",
       "      <td>1</td>\n",
       "      <td>sedan</td>\n",
       "      <td>auto</td>\n",
       "      <td>3.0</td>\n",
       "    </tr>\n",
       "    <tr>\n",
       "      <th>3</th>\n",
       "      <td>1175717</td>\n",
       "      <td>5305033</td>\n",
       "      <td>3</td>\n",
       "      <td>sedan</td>\n",
       "      <td>auto</td>\n",
       "      <td>5.0</td>\n",
       "    </tr>\n",
       "    <tr>\n",
       "      <th>4</th>\n",
       "      <td>1175722</td>\n",
       "      <td>5305034</td>\n",
       "      <td>2</td>\n",
       "      <td>sedan</td>\n",
       "      <td>auto</td>\n",
       "      <td>5.0</td>\n",
       "    </tr>\n",
       "  </tbody>\n",
       "</table>\n",
       "</div>"
      ],
      "text/plain": [
       "        id  case_id  party_number vehicle_type vehicle_transmission  \\\n",
       "0  1175713  5305032             2        sedan               manual   \n",
       "1        1  3858022             1        sedan                 auto   \n",
       "2  1175712  5305030             1        sedan                 auto   \n",
       "3  1175717  5305033             3        sedan                 auto   \n",
       "4  1175722  5305034             2        sedan                 auto   \n",
       "\n",
       "   vehicle_age  \n",
       "0          3.0  \n",
       "1          3.0  \n",
       "2          3.0  \n",
       "3          5.0  \n",
       "4          5.0  "
      ]
     },
     "metadata": {},
     "output_type": "display_data"
    },
    {
     "name": "stdout",
     "output_type": "stream",
     "text": [
      "Информация о таблице vehicles:\n",
      "<class 'pandas.core.frame.DataFrame'>\n",
      "RangeIndex: 1021234 entries, 0 to 1021233\n",
      "Data columns (total 6 columns):\n",
      " #   Column                Non-Null Count    Dtype  \n",
      "---  ------                --------------    -----  \n",
      " 0   id                    1021234 non-null  int64  \n",
      " 1   case_id               1021234 non-null  object \n",
      " 2   party_number          1021234 non-null  int64  \n",
      " 3   vehicle_type          1021234 non-null  object \n",
      " 4   vehicle_transmission  997575 non-null   object \n",
      " 5   vehicle_age           996652 non-null   float64\n",
      "dtypes: float64(1), int64(2), object(3)\n",
      "memory usage: 46.7+ MB\n",
      "None\n"
     ]
    }
   ],
   "source": [
    "sql_query = \"\"\"\n",
    "SELECT *\n",
    "FROM vehicles\n",
    "\"\"\"\n",
    "vehicles = pd.read_sql_query(sql_query, con=engine)\n",
    "print('Первые пять строк таблицы vehicles:')\n",
    "display(vehicles.head())\n",
    "print('Информация о таблице vehicles:')\n",
    "print(vehicles.info())"
   ]
  },
  {
   "cell_type": "markdown",
   "id": "068df836",
   "metadata": {},
   "source": [
    "| Описание                              | Обозначение в таблице | Подробнее                                                    |\n",
    "| :------------------------------------ | :-------------------- | :----------------------------------------------------------- |\n",
    "| Индекс текущей таблицы                | ID                    | Номер в таблице                                              |\n",
    "| Идентификационный номер в базе данных | CASE_ID               | Уникальный номер для зарегистрированного происшествия в таблице происшествий. |\n",
    "| Тип кузова                            | VEHICLE_TYPE          | MINIVAN<br />COUPE<br />SEDAN<br />HATCHBACK<br />OTHER      |\n",
    "| Тип КПП                               | VEHICLE_TRANSMISSION  | auto (Автоматическая)<br />manual (Ручная)<br />- — Not Stated (Не указано) |\n",
    "| Возраст автомобиля (в годах)          | VEHICLE_AGE           | число                                                        |"
   ]
  },
  {
   "cell_type": "code",
   "execution_count": 6,
   "id": "094b9949",
   "metadata": {},
   "outputs": [
    {
     "name": "stdout",
     "output_type": "stream",
     "text": [
      "Первые пять строк таблицы case_ids:\n"
     ]
    },
    {
     "data": {
      "text/html": [
       "<div>\n",
       "<style scoped>\n",
       "    .dataframe tbody tr th:only-of-type {\n",
       "        vertical-align: middle;\n",
       "    }\n",
       "\n",
       "    .dataframe tbody tr th {\n",
       "        vertical-align: top;\n",
       "    }\n",
       "\n",
       "    .dataframe thead th {\n",
       "        text-align: right;\n",
       "    }\n",
       "</style>\n",
       "<table border=\"1\" class=\"dataframe\">\n",
       "  <thead>\n",
       "    <tr style=\"text-align: right;\">\n",
       "      <th></th>\n",
       "      <th>case_id</th>\n",
       "      <th>db_year</th>\n",
       "    </tr>\n",
       "  </thead>\n",
       "  <tbody>\n",
       "    <tr>\n",
       "      <th>0</th>\n",
       "      <td>0081715</td>\n",
       "      <td>2021</td>\n",
       "    </tr>\n",
       "    <tr>\n",
       "      <th>1</th>\n",
       "      <td>0726202</td>\n",
       "      <td>2021</td>\n",
       "    </tr>\n",
       "    <tr>\n",
       "      <th>2</th>\n",
       "      <td>3858022</td>\n",
       "      <td>2021</td>\n",
       "    </tr>\n",
       "    <tr>\n",
       "      <th>3</th>\n",
       "      <td>3899441</td>\n",
       "      <td>2021</td>\n",
       "    </tr>\n",
       "    <tr>\n",
       "      <th>4</th>\n",
       "      <td>3899442</td>\n",
       "      <td>2021</td>\n",
       "    </tr>\n",
       "  </tbody>\n",
       "</table>\n",
       "</div>"
      ],
      "text/plain": [
       "   case_id db_year\n",
       "0  0081715    2021\n",
       "1  0726202    2021\n",
       "2  3858022    2021\n",
       "3  3899441    2021\n",
       "4  3899442    2021"
      ]
     },
     "metadata": {},
     "output_type": "display_data"
    },
    {
     "name": "stdout",
     "output_type": "stream",
     "text": [
      "Информация о таблице case_ids:\n",
      "<class 'pandas.core.frame.DataFrame'>\n",
      "RangeIndex: 1400000 entries, 0 to 1399999\n",
      "Data columns (total 2 columns):\n",
      " #   Column   Non-Null Count    Dtype \n",
      "---  ------   --------------    ----- \n",
      " 0   case_id  1400000 non-null  object\n",
      " 1   db_year  1400000 non-null  object\n",
      "dtypes: object(2)\n",
      "memory usage: 21.4+ MB\n",
      "None\n"
     ]
    }
   ],
   "source": [
    "sql_query = \"\"\"\n",
    "SELECT *\n",
    "FROM case_ids\n",
    "\"\"\"\n",
    "case_ids = pd.read_sql_query(sql_query, con=engine)\n",
    "print('Первые пять строк таблицы case_ids:')\n",
    "display(case_ids.head())\n",
    "print('Информация о таблице case_ids:')\n",
    "print(case_ids.info())"
   ]
  },
  {
   "cell_type": "markdown",
   "id": "90a827e7",
   "metadata": {},
   "source": [
    "Таблица отличается от того, как она описана на схеме данных. В ней 2 столбца:\n",
    "- case_id - столбец с id проишествия\n",
    "- db_year - столбец с годом"
   ]
  },
  {
   "cell_type": "markdown",
   "id": "0c119a7d",
   "metadata": {},
   "source": [
    "### Вывод\n",
    "**Для оценки риска ДТП на маршруте необходимы данные не только по поездкам с ДТП, но и данные по поездкам без ДТП. Поэтому решение задачи с имеющимися данными не возможно. Ели учить модель на текущих данных то у модели будет 100 процентное смещение в строну предсказания ДТП.**\n",
    "\n",
    "Попробуем подумать, что можно предсказать используя текущие данные. Рассмотрим предложение клиента. Клиент предлагает за целевой взять столбец с виновностью в ДТП. При этом модель будет предсказывать виновность клиента в случае ДТП. Виновность в ДТП устанавливает только полиция или суд, но для предварительной оценки в рамках подсчета ущерба предсказание виновности может быть использовано в документах для внутреннего пользования.\n",
    "\n",
    "Рассмотрим данные при новой постановке задачи:\n",
    "- Предварительно данных достаточно для решения задачи.\n",
    "- Общий ключ всех таблиц case_id.\n",
    "- В таблице case_ids данные отличаются от схемы."
   ]
  },
  {
   "cell_type": "markdown",
   "id": "49851aac",
   "metadata": {},
   "source": [
    "##  Проведите статистический анализ факторов ДТП"
   ]
  },
  {
   "cell_type": "markdown",
   "id": "1cd26783",
   "metadata": {},
   "source": [
    "В какие месяцы происходит наибольшее количество аварий за весь период наблюдений (таблица collisions) (график + вывод)."
   ]
  },
  {
   "cell_type": "code",
   "execution_count": 7,
   "id": "dfbdcfc9",
   "metadata": {},
   "outputs": [],
   "source": [
    "import seaborn as sns\n",
    "import matplotlib.pyplot as plt"
   ]
  },
  {
   "cell_type": "code",
   "execution_count": 8,
   "id": "9ca9c3f7",
   "metadata": {},
   "outputs": [
    {
     "data": {
      "text/html": [
       "<div>\n",
       "<style scoped>\n",
       "    .dataframe tbody tr th:only-of-type {\n",
       "        vertical-align: middle;\n",
       "    }\n",
       "\n",
       "    .dataframe tbody tr th {\n",
       "        vertical-align: top;\n",
       "    }\n",
       "\n",
       "    .dataframe thead th {\n",
       "        text-align: right;\n",
       "    }\n",
       "</style>\n",
       "<table border=\"1\" class=\"dataframe\">\n",
       "  <thead>\n",
       "    <tr style=\"text-align: right;\">\n",
       "      <th></th>\n",
       "      <th>collision_count</th>\n",
       "      <th>collision_date</th>\n",
       "    </tr>\n",
       "  </thead>\n",
       "  <tbody>\n",
       "    <tr>\n",
       "      <th>0</th>\n",
       "      <td>35062</td>\n",
       "      <td>2009-01-01</td>\n",
       "    </tr>\n",
       "    <tr>\n",
       "      <th>1</th>\n",
       "      <td>34480</td>\n",
       "      <td>2009-02-01</td>\n",
       "    </tr>\n",
       "    <tr>\n",
       "      <th>2</th>\n",
       "      <td>36648</td>\n",
       "      <td>2009-03-01</td>\n",
       "    </tr>\n",
       "    <tr>\n",
       "      <th>3</th>\n",
       "      <td>35239</td>\n",
       "      <td>2009-04-01</td>\n",
       "    </tr>\n",
       "    <tr>\n",
       "      <th>4</th>\n",
       "      <td>36916</td>\n",
       "      <td>2009-05-01</td>\n",
       "    </tr>\n",
       "  </tbody>\n",
       "</table>\n",
       "</div>"
      ],
      "text/plain": [
       "   collision_count collision_date\n",
       "0            35062     2009-01-01\n",
       "1            34480     2009-02-01\n",
       "2            36648     2009-03-01\n",
       "3            35239     2009-04-01\n",
       "4            36916     2009-05-01"
      ]
     },
     "execution_count": 8,
     "metadata": {},
     "output_type": "execute_result"
    }
   ],
   "source": [
    "#запрос по количеству проишествий по месяцам\n",
    "sql_query = \"\"\"\n",
    "select COUNT(case_id) as collision_count, date_trunc('month', collision_date)::date as collision_date\n",
    "from collisions\n",
    "group by date_trunc('month', collision_date)\n",
    "\"\"\"\n",
    "#подключение к баде\n",
    "collisions_count = pd.read_sql_query(sql_query, con=engine)\n",
    "collisions_count.head()"
   ]
  },
  {
   "cell_type": "code",
   "execution_count": 9,
   "id": "cfe82066",
   "metadata": {},
   "outputs": [
    {
     "name": "stdout",
     "output_type": "stream",
     "text": [
      "<class 'pandas.core.frame.DataFrame'>\n",
      "RangeIndex: 56 entries, 0 to 55\n",
      "Data columns (total 2 columns):\n",
      " #   Column           Non-Null Count  Dtype \n",
      "---  ------           --------------  ----- \n",
      " 0   collision_count  56 non-null     int64 \n",
      " 1   collision_date   56 non-null     object\n",
      "dtypes: int64(1), object(1)\n",
      "memory usage: 1.0+ KB\n"
     ]
    }
   ],
   "source": [
    "collisions_count.info()"
   ]
  },
  {
   "cell_type": "code",
   "execution_count": 10,
   "id": "c19bf5d9",
   "metadata": {},
   "outputs": [
    {
     "data": {
      "text/plain": [
       "56"
      ]
     },
     "execution_count": 10,
     "metadata": {},
     "output_type": "execute_result"
    }
   ],
   "source": [
    "len(collisions_count)"
   ]
  },
  {
   "cell_type": "code",
   "execution_count": 11,
   "id": "e541cec4",
   "metadata": {},
   "outputs": [
    {
     "data": {
      "image/png": "[encoded data removed]",
      "text/plain": [
       "<Figure size 720x1080 with 1 Axes>"
      ]
     },
     "metadata": {
      "needs_background": "light"
     },
     "output_type": "display_data"
    }
   ],
   "source": [
    "#установка размера\n",
    "f, ax = plt.subplots(figsize=(10, 15))\n",
    "\n",
    "#отрисова\n",
    "sns.barplot(data =collisions_count, \n",
    "            x='collision_count',\n",
    "            y = 'collision_date',\n",
    "            palette = ['r'],\n",
    "            alpha=0.7, label = 'Количество проишествий', ax=ax)\n",
    "ax.legend(ncol=1, loc=\"lower right\", frameon=True)\n",
    "ax.set(xlabel=\"Количество\",\n",
    "       ylabel=\"Дата\")\n",
    "#plt.xticks(rotation=90)\n",
    "plt.title(\"Количество проишествий по месяцам\")\n",
    "plt.show()"
   ]
  },
  {
   "cell_type": "markdown",
   "id": "123ece52",
   "metadata": {},
   "source": [
    "Начиная с января 2012 года данные рассматривать не будем, поскольку происходит резкое падение количество проишествий, которое можно объяснить только недостатком данных. \n",
    "\n",
    "У нас достаточно небольшой период наблюдений, всего 3 года, тоесть по три наблюдения на каждый месяц. Обнаруживаются высокие значения в осенние месяцы. Сентябрь-октябрь, однако в целом их вероятно можно объяснить случайными отклонениями. "
   ]
  },
  {
   "cell_type": "markdown",
   "id": "c4a5068b",
   "metadata": {},
   "source": [
    "### Аналитические задачи\n",
    "\n",
    "- Проведите анализ серьёзности повреждений транспортного средства, исходя из состояния дороги в момент ДТП;\n",
    "- Существует ли зависимость между возрастом автомобиля и суммой страховки;\n",
    "- Самые частые причины ДТП (таблица parties);\n",
    "- Самые частые участники ДТП (таблица parties);\n",
    "- Автомобили с каким типом кузова чаще получают серьезные повреждения при ДТП;\n",
    "- Сравнительный ущерб оот ДТП с участием трезвых и пьяных водителей;\n",
    "- Существует ли зависимость количества ДТП от погодных условий;\n",
    "- Существует ли зависимость серьезности ДТП от погодных факторов;\n",
    "- Существует ли зависимость типа ДТП от погодных факторов;\n",
    "- Существует ли зависимость тип ДТП от погодных факторов"
   ]
  },
  {
   "cell_type": "markdown",
   "id": "c0006b6e",
   "metadata": {},
   "source": [
    "#### Анализ серьёзности повреждений транспортного средства, исходя из состояния дороги в момент ДТП"
   ]
  },
  {
   "cell_type": "code",
   "execution_count": 12,
   "id": "ee20cc87",
   "metadata": {
    "scrolled": false
   },
   "outputs": [
    {
     "data": {
      "text/html": [
       "<div>\n",
       "<style scoped>\n",
       "    .dataframe tbody tr th:only-of-type {\n",
       "        vertical-align: middle;\n",
       "    }\n",
       "\n",
       "    .dataframe tbody tr th {\n",
       "        vertical-align: top;\n",
       "    }\n",
       "\n",
       "    .dataframe thead th {\n",
       "        text-align: right;\n",
       "    }\n",
       "</style>\n",
       "<table border=\"1\" class=\"dataframe\">\n",
       "  <thead>\n",
       "    <tr style=\"text-align: right;\">\n",
       "      <th></th>\n",
       "      <th>road_surface</th>\n",
       "      <th>collision_damage</th>\n",
       "      <th>col_count</th>\n",
       "    </tr>\n",
       "  </thead>\n",
       "  <tbody>\n",
       "    <tr>\n",
       "      <th>0</th>\n",
       "      <td>dry</td>\n",
       "      <td>fatal</td>\n",
       "      <td>9746</td>\n",
       "    </tr>\n",
       "    <tr>\n",
       "      <th>1</th>\n",
       "      <td>dry</td>\n",
       "      <td>middle damage</td>\n",
       "      <td>156935</td>\n",
       "    </tr>\n",
       "    <tr>\n",
       "      <th>2</th>\n",
       "      <td>dry</td>\n",
       "      <td>scratch</td>\n",
       "      <td>463545</td>\n",
       "    </tr>\n",
       "    <tr>\n",
       "      <th>3</th>\n",
       "      <td>dry</td>\n",
       "      <td>severe damage</td>\n",
       "      <td>490510</td>\n",
       "    </tr>\n",
       "    <tr>\n",
       "      <th>4</th>\n",
       "      <td>dry</td>\n",
       "      <td>small damage</td>\n",
       "      <td>1232957</td>\n",
       "    </tr>\n",
       "    <tr>\n",
       "      <th>5</th>\n",
       "      <td>slippery</td>\n",
       "      <td>fatal</td>\n",
       "      <td>12</td>\n",
       "    </tr>\n",
       "    <tr>\n",
       "      <th>6</th>\n",
       "      <td>slippery</td>\n",
       "      <td>middle damage</td>\n",
       "      <td>237</td>\n",
       "    </tr>\n",
       "    <tr>\n",
       "      <th>7</th>\n",
       "      <td>slippery</td>\n",
       "      <td>scratch</td>\n",
       "      <td>541</td>\n",
       "    </tr>\n",
       "    <tr>\n",
       "      <th>8</th>\n",
       "      <td>slippery</td>\n",
       "      <td>severe damage</td>\n",
       "      <td>601</td>\n",
       "    </tr>\n",
       "    <tr>\n",
       "      <th>9</th>\n",
       "      <td>slippery</td>\n",
       "      <td>small damage</td>\n",
       "      <td>1359</td>\n",
       "    </tr>\n",
       "    <tr>\n",
       "      <th>10</th>\n",
       "      <td>snowy</td>\n",
       "      <td>fatal</td>\n",
       "      <td>46</td>\n",
       "    </tr>\n",
       "    <tr>\n",
       "      <th>11</th>\n",
       "      <td>snowy</td>\n",
       "      <td>middle damage</td>\n",
       "      <td>805</td>\n",
       "    </tr>\n",
       "    <tr>\n",
       "      <th>12</th>\n",
       "      <td>snowy</td>\n",
       "      <td>scratch</td>\n",
       "      <td>2060</td>\n",
       "    </tr>\n",
       "    <tr>\n",
       "      <th>13</th>\n",
       "      <td>snowy</td>\n",
       "      <td>severe damage</td>\n",
       "      <td>2215</td>\n",
       "    </tr>\n",
       "    <tr>\n",
       "      <th>14</th>\n",
       "      <td>snowy</td>\n",
       "      <td>small damage</td>\n",
       "      <td>7175</td>\n",
       "    </tr>\n",
       "    <tr>\n",
       "      <th>15</th>\n",
       "      <td>wet</td>\n",
       "      <td>fatal</td>\n",
       "      <td>857</td>\n",
       "    </tr>\n",
       "    <tr>\n",
       "      <th>16</th>\n",
       "      <td>wet</td>\n",
       "      <td>middle damage</td>\n",
       "      <td>13900</td>\n",
       "    </tr>\n",
       "    <tr>\n",
       "      <th>17</th>\n",
       "      <td>wet</td>\n",
       "      <td>scratch</td>\n",
       "      <td>47127</td>\n",
       "    </tr>\n",
       "    <tr>\n",
       "      <th>18</th>\n",
       "      <td>wet</td>\n",
       "      <td>severe damage</td>\n",
       "      <td>49552</td>\n",
       "    </tr>\n",
       "    <tr>\n",
       "      <th>19</th>\n",
       "      <td>wet</td>\n",
       "      <td>small damage</td>\n",
       "      <td>135709</td>\n",
       "    </tr>\n",
       "    <tr>\n",
       "      <th>20</th>\n",
       "      <td>None</td>\n",
       "      <td>fatal</td>\n",
       "      <td>55</td>\n",
       "    </tr>\n",
       "    <tr>\n",
       "      <th>21</th>\n",
       "      <td>None</td>\n",
       "      <td>middle damage</td>\n",
       "      <td>1393</td>\n",
       "    </tr>\n",
       "    <tr>\n",
       "      <th>22</th>\n",
       "      <td>None</td>\n",
       "      <td>scratch</td>\n",
       "      <td>4654</td>\n",
       "    </tr>\n",
       "    <tr>\n",
       "      <th>23</th>\n",
       "      <td>None</td>\n",
       "      <td>severe damage</td>\n",
       "      <td>4880</td>\n",
       "    </tr>\n",
       "    <tr>\n",
       "      <th>24</th>\n",
       "      <td>None</td>\n",
       "      <td>small damage</td>\n",
       "      <td>12968</td>\n",
       "    </tr>\n",
       "  </tbody>\n",
       "</table>\n",
       "</div>"
      ],
      "text/plain": [
       "   road_surface collision_damage  col_count\n",
       "0           dry            fatal       9746\n",
       "1           dry    middle damage     156935\n",
       "2           dry          scratch     463545\n",
       "3           dry    severe damage     490510\n",
       "4           dry     small damage    1232957\n",
       "5      slippery            fatal         12\n",
       "6      slippery    middle damage        237\n",
       "7      slippery          scratch        541\n",
       "8      slippery    severe damage        601\n",
       "9      slippery     small damage       1359\n",
       "10        snowy            fatal         46\n",
       "11        snowy    middle damage        805\n",
       "12        snowy          scratch       2060\n",
       "13        snowy    severe damage       2215\n",
       "14        snowy     small damage       7175\n",
       "15          wet            fatal        857\n",
       "16          wet    middle damage      13900\n",
       "17          wet          scratch      47127\n",
       "18          wet    severe damage      49552\n",
       "19          wet     small damage     135709\n",
       "20         None            fatal         55\n",
       "21         None    middle damage       1393\n",
       "22         None          scratch       4654\n",
       "23         None    severe damage       4880\n",
       "24         None     small damage      12968"
      ]
     },
     "execution_count": 12,
     "metadata": {},
     "output_type": "execute_result"
    }
   ],
   "source": [
    "sql_query = '''\n",
    "select distinct road_surface, collision_damage,\n",
    "COUNT(collision_damage) over (partition by road_surface order by collision_damage) as col_count\n",
    "from collisions c \n",
    "where case_id in (select distinct case_id\n",
    "\t\t\t\t  from parties p \n",
    "\t\t\t\t  where party_type = 'car')\n",
    "order by road_surface, col_count'''\n",
    "#подключение к баде\n",
    "col_with_weather = pd.read_sql_query(sql_query, con=engine)\n",
    "col_with_weather"
   ]
  },
  {
   "cell_type": "code",
   "execution_count": 13,
   "id": "2e39f848",
   "metadata": {},
   "outputs": [
    {
     "data": {
      "image/png": "[encoded data removed]",
      "text/plain": [
       "<Figure size 1080x720 with 1 Axes>"
      ]
     },
     "metadata": {
      "needs_background": "light"
     },
     "output_type": "display_data"
    }
   ],
   "source": [
    "#установка размера\n",
    "f, ax = plt.subplots(figsize=(15, 10))\n",
    "\n",
    "#\n",
    "sns.barplot(data =col_with_weather, \n",
    "            x='road_surface',\n",
    "            y = 'col_count',\n",
    "            hue  = 'collision_damage',\n",
    "            palette = \"Set2\",\n",
    "            alpha=0.7)\n",
    "ax.legend(ncol=1, loc=\"upper right\", frameon=True)\n",
    "ax.set(xlabel=\"Количество\",\n",
    "       ylabel=\"Дата\")\n",
    "#plt.xticks(rotation=90)\n",
    "plt.title(\" Анализ серьёзности повреждений транспортного средства, исходя из состояния дороги в момент ДТП\")\n",
    "plt.show()"
   ]
  },
  {
   "cell_type": "markdown",
   "id": "bbec02a0",
   "metadata": {},
   "source": [
    "Во всех группах состояния дорожного покрытия мы можем заметить крайне схожые паттерны распределения повреждений. И хотя количество проишествий на покрытиях с разным состояние может отличаться в разы, пропорции самих повреждений очень сильно схожи. Больше всего мерких повреждений, за ними идет серьезное повреждение, потом царапины, среднее повреждение и меньше всего фатальных."
   ]
  },
  {
   "cell_type": "markdown",
   "id": "25170303",
   "metadata": {},
   "source": [
    "#### Участники ДТП"
   ]
  },
  {
   "cell_type": "code",
   "execution_count": 14,
   "id": "1821982a",
   "metadata": {},
   "outputs": [
    {
     "data": {
      "text/html": [
       "<div>\n",
       "<style scoped>\n",
       "    .dataframe tbody tr th:only-of-type {\n",
       "        vertical-align: middle;\n",
       "    }\n",
       "\n",
       "    .dataframe tbody tr th {\n",
       "        vertical-align: top;\n",
       "    }\n",
       "\n",
       "    .dataframe thead th {\n",
       "        text-align: right;\n",
       "    }\n",
       "</style>\n",
       "<table border=\"1\" class=\"dataframe\">\n",
       "  <thead>\n",
       "    <tr style=\"text-align: right;\">\n",
       "      <th></th>\n",
       "      <th>col_count</th>\n",
       "      <th>party_type</th>\n",
       "    </tr>\n",
       "  </thead>\n",
       "  <tbody>\n",
       "    <tr>\n",
       "      <th>0</th>\n",
       "      <td>3622</td>\n",
       "      <td>unknown</td>\n",
       "    </tr>\n",
       "    <tr>\n",
       "      <th>1</th>\n",
       "      <td>8879</td>\n",
       "      <td>other</td>\n",
       "    </tr>\n",
       "    <tr>\n",
       "      <th>2</th>\n",
       "      <td>48456</td>\n",
       "      <td>road signs</td>\n",
       "    </tr>\n",
       "    <tr>\n",
       "      <th>3</th>\n",
       "      <td>48649</td>\n",
       "      <td>building</td>\n",
       "    </tr>\n",
       "    <tr>\n",
       "      <th>4</th>\n",
       "      <td>173488</td>\n",
       "      <td>road bumper</td>\n",
       "    </tr>\n",
       "    <tr>\n",
       "      <th>5</th>\n",
       "      <td>2469314</td>\n",
       "      <td>car</td>\n",
       "    </tr>\n",
       "  </tbody>\n",
       "</table>\n",
       "</div>"
      ],
      "text/plain": [
       "   col_count   party_type\n",
       "0       3622      unknown\n",
       "1       8879        other\n",
       "2      48456   road signs\n",
       "3      48649     building\n",
       "4     173488  road bumper\n",
       "5    2469314          car"
      ]
     },
     "execution_count": 14,
     "metadata": {},
     "output_type": "execute_result"
    }
   ],
   "source": [
    "sql_query = '''\n",
    "select count(id) as col_count, party_type\n",
    "from parties p \n",
    "group by party_type \n",
    "order by count(id)'''\n",
    "#подключение к базе\n",
    "col_count = pd.read_sql_query(sql_query, con=engine)\n",
    "#сразу заполним пропуски\n",
    "col_count = col_count.fillna('unknown')\n",
    "col_count"
   ]
  },
  {
   "cell_type": "code",
   "execution_count": 15,
   "id": "733ec0f8",
   "metadata": {},
   "outputs": [
    {
     "data": {
      "image/png": "[encoded data removed]",
      "text/plain": [
       "<Figure size 1080x360 with 1 Axes>"
      ]
     },
     "metadata": {
      "needs_background": "light"
     },
     "output_type": "display_data"
    }
   ],
   "source": [
    "#установка размера\n",
    "f, ax = plt.subplots(figsize=(15, 5))\n",
    "\n",
    "#отрисова\n",
    "sns.barplot(data =col_count, \n",
    "            y='party_type',\n",
    "            x = 'col_count',\n",
    "            palette = ['b'],\n",
    "            alpha=0.7, label = 'Количество участников данной категории')\n",
    "ax.legend(ncol=1, loc=\"upper right\", frameon=True)\n",
    "ax.set(xlabel=\"Количество случаев\",\n",
    "       ylabel=\"Категория участника ДТП\")\n",
    "#plt.xticks(rotation=90)\n",
    "plt.title(\"Участники ДТП\")\n",
    "plt.show()"
   ]
  },
  {
   "cell_type": "markdown",
   "id": "2ddc3f82",
   "metadata": {},
   "source": [
    "Как и ожидались самые частые участники ДТП - автомобили. За ними с количеством почти в 15 раз меньше идут отбойники. Здания и дорожные знаки попадают в ДТП почти в равном количестве случаев, примерно в 4 раза реже отбойников."
   ]
  },
  {
   "cell_type": "markdown",
   "id": "e886e871",
   "metadata": {},
   "source": [
    "####  Автомобили с каким типом кузова чаще получают серьезные повреждения при ДТП"
   ]
  },
  {
   "cell_type": "code",
   "execution_count": 16,
   "id": "b4635407",
   "metadata": {},
   "outputs": [
    {
     "data": {
      "text/html": [
       "<div>\n",
       "<style scoped>\n",
       "    .dataframe tbody tr th:only-of-type {\n",
       "        vertical-align: middle;\n",
       "    }\n",
       "\n",
       "    .dataframe tbody tr th {\n",
       "        vertical-align: top;\n",
       "    }\n",
       "\n",
       "    .dataframe thead th {\n",
       "        text-align: right;\n",
       "    }\n",
       "</style>\n",
       "<table border=\"1\" class=\"dataframe\">\n",
       "  <thead>\n",
       "    <tr style=\"text-align: right;\">\n",
       "      <th></th>\n",
       "      <th>collision_damage</th>\n",
       "      <th>vehicle_type</th>\n",
       "      <th>col_count</th>\n",
       "      <th>prcnt</th>\n",
       "    </tr>\n",
       "  </thead>\n",
       "  <tbody>\n",
       "    <tr>\n",
       "      <th>0</th>\n",
       "      <td>severe damage</td>\n",
       "      <td>coupe</td>\n",
       "      <td>442780</td>\n",
       "      <td>0.437932</td>\n",
       "    </tr>\n",
       "    <tr>\n",
       "      <th>1</th>\n",
       "      <td>middle damage</td>\n",
       "      <td>coupe</td>\n",
       "      <td>140402</td>\n",
       "      <td>0.138865</td>\n",
       "    </tr>\n",
       "    <tr>\n",
       "      <th>2</th>\n",
       "      <td>scratch</td>\n",
       "      <td>coupe</td>\n",
       "      <td>418973</td>\n",
       "      <td>0.414385</td>\n",
       "    </tr>\n",
       "    <tr>\n",
       "      <th>3</th>\n",
       "      <td>fatal</td>\n",
       "      <td>coupe</td>\n",
       "      <td>8916</td>\n",
       "      <td>0.008818</td>\n",
       "    </tr>\n",
       "    <tr>\n",
       "      <th>4</th>\n",
       "      <td>severe damage</td>\n",
       "      <td>hatchback</td>\n",
       "      <td>45595</td>\n",
       "      <td>0.420385</td>\n",
       "    </tr>\n",
       "    <tr>\n",
       "      <th>5</th>\n",
       "      <td>middle damage</td>\n",
       "      <td>hatchback</td>\n",
       "      <td>20362</td>\n",
       "      <td>0.187737</td>\n",
       "    </tr>\n",
       "    <tr>\n",
       "      <th>6</th>\n",
       "      <td>fatal</td>\n",
       "      <td>hatchback</td>\n",
       "      <td>2786</td>\n",
       "      <td>0.025687</td>\n",
       "    </tr>\n",
       "    <tr>\n",
       "      <th>7</th>\n",
       "      <td>scratch</td>\n",
       "      <td>hatchback</td>\n",
       "      <td>39717</td>\n",
       "      <td>0.366190</td>\n",
       "    </tr>\n",
       "    <tr>\n",
       "      <th>8</th>\n",
       "      <td>middle damage</td>\n",
       "      <td>minivan</td>\n",
       "      <td>22573</td>\n",
       "      <td>0.212981</td>\n",
       "    </tr>\n",
       "    <tr>\n",
       "      <th>9</th>\n",
       "      <td>fatal</td>\n",
       "      <td>minivan</td>\n",
       "      <td>527</td>\n",
       "      <td>0.004972</td>\n",
       "    </tr>\n",
       "    <tr>\n",
       "      <th>10</th>\n",
       "      <td>scratch</td>\n",
       "      <td>minivan</td>\n",
       "      <td>39886</td>\n",
       "      <td>0.376333</td>\n",
       "    </tr>\n",
       "    <tr>\n",
       "      <th>11</th>\n",
       "      <td>severe damage</td>\n",
       "      <td>minivan</td>\n",
       "      <td>43000</td>\n",
       "      <td>0.405714</td>\n",
       "    </tr>\n",
       "    <tr>\n",
       "      <th>12</th>\n",
       "      <td>severe damage</td>\n",
       "      <td>other</td>\n",
       "      <td>1194</td>\n",
       "      <td>0.435290</td>\n",
       "    </tr>\n",
       "    <tr>\n",
       "      <th>13</th>\n",
       "      <td>fatal</td>\n",
       "      <td>other</td>\n",
       "      <td>22</td>\n",
       "      <td>0.008020</td>\n",
       "    </tr>\n",
       "    <tr>\n",
       "      <th>14</th>\n",
       "      <td>scratch</td>\n",
       "      <td>other</td>\n",
       "      <td>1069</td>\n",
       "      <td>0.389719</td>\n",
       "    </tr>\n",
       "    <tr>\n",
       "      <th>15</th>\n",
       "      <td>middle damage</td>\n",
       "      <td>other</td>\n",
       "      <td>458</td>\n",
       "      <td>0.166970</td>\n",
       "    </tr>\n",
       "    <tr>\n",
       "      <th>16</th>\n",
       "      <td>scratch</td>\n",
       "      <td>sedan</td>\n",
       "      <td>197080</td>\n",
       "      <td>0.208163</td>\n",
       "    </tr>\n",
       "    <tr>\n",
       "      <th>17</th>\n",
       "      <td>fatal</td>\n",
       "      <td>sedan</td>\n",
       "      <td>2892</td>\n",
       "      <td>0.003055</td>\n",
       "    </tr>\n",
       "    <tr>\n",
       "      <th>18</th>\n",
       "      <td>middle damage</td>\n",
       "      <td>sedan</td>\n",
       "      <td>52871</td>\n",
       "      <td>0.055844</td>\n",
       "    </tr>\n",
       "    <tr>\n",
       "      <th>19</th>\n",
       "      <td>small damage</td>\n",
       "      <td>sedan</td>\n",
       "      <td>488665</td>\n",
       "      <td>0.516145</td>\n",
       "    </tr>\n",
       "    <tr>\n",
       "      <th>20</th>\n",
       "      <td>severe damage</td>\n",
       "      <td>sedan</td>\n",
       "      <td>205252</td>\n",
       "      <td>0.216794</td>\n",
       "    </tr>\n",
       "  </tbody>\n",
       "</table>\n",
       "</div>"
      ],
      "text/plain": [
       "   collision_damage vehicle_type  col_count     prcnt\n",
       "0     severe damage        coupe     442780  0.437932\n",
       "1     middle damage        coupe     140402  0.138865\n",
       "2           scratch        coupe     418973  0.414385\n",
       "3             fatal        coupe       8916  0.008818\n",
       "4     severe damage    hatchback      45595  0.420385\n",
       "5     middle damage    hatchback      20362  0.187737\n",
       "6             fatal    hatchback       2786  0.025687\n",
       "7           scratch    hatchback      39717  0.366190\n",
       "8     middle damage      minivan      22573  0.212981\n",
       "9             fatal      minivan        527  0.004972\n",
       "10          scratch      minivan      39886  0.376333\n",
       "11    severe damage      minivan      43000  0.405714\n",
       "12    severe damage        other       1194  0.435290\n",
       "13            fatal        other         22  0.008020\n",
       "14          scratch        other       1069  0.389719\n",
       "15    middle damage        other        458  0.166970\n",
       "16          scratch        sedan     197080  0.208163\n",
       "17            fatal        sedan       2892  0.003055\n",
       "18    middle damage        sedan      52871  0.055844\n",
       "19     small damage        sedan     488665  0.516145\n",
       "20    severe damage        sedan     205252  0.216794"
      ]
     },
     "execution_count": 16,
     "metadata": {},
     "output_type": "execute_result"
    }
   ],
   "source": [
    "sql_query = '''\n",
    "select *,\n",
    "col_count/SUM(col_count) over (partition by vehicle_type) as prcnt\n",
    "from (\n",
    "select distinct collision_damage, vehicle_type,\n",
    "count(collision_damage) over(partition by vehicle_type order by collision_damage) as col_count\n",
    "from\n",
    "(select case_id , collision_damage \n",
    "from collisions) c \n",
    "join\n",
    "(select case_id, vehicle_type\n",
    "from vehicles) v  on c.case_id = v.case_id) t\n",
    "'''\n",
    "#подключение к базе\n",
    "car_crash = pd.read_sql_query(sql_query, con=engine)\n",
    "#сразу заполним пропуски\n",
    "car_crash = car_crash.fillna('unknown')\n",
    "car_crash"
   ]
  },
  {
   "cell_type": "code",
   "execution_count": 17,
   "id": "0c256d3b",
   "metadata": {},
   "outputs": [
    {
     "data": {
      "image/png": "[encoded data removed]",
      "text/plain": [
       "<Figure size 1080x576 with 1 Axes>"
      ]
     },
     "metadata": {
      "needs_background": "light"
     },
     "output_type": "display_data"
    }
   ],
   "source": [
    "#установка размера\n",
    "f, ax = plt.subplots(figsize=(15, 8))\n",
    "\n",
    "#\n",
    "sns.barplot(data =car_crash, \n",
    "            x='vehicle_type',\n",
    "            y = 'col_count',\n",
    "            hue  = 'collision_damage',\n",
    "            palette = \"Set2\",\n",
    "            alpha=0.7)\n",
    "ax.legend(ncol=1, loc=\"upper right\", frameon=True)\n",
    "ax.set(xlabel=\"Количество\",\n",
    "       ylabel=\"Дата\")\n",
    "#plt.xticks(rotation=90)\n",
    "plt.title(\"Количество проишествий по месяцам\")\n",
    "plt.show()"
   ]
  },
  {
   "cell_type": "markdown",
   "id": "b69efbb3",
   "metadata": {},
   "source": [
    "В количественном отношении во всех категориях кроме легких повреждений лидируют машины с типом кузова купе. Надо посмотреть еще в процентном соотношении. "
   ]
  },
  {
   "cell_type": "code",
   "execution_count": 18,
   "id": "41911427",
   "metadata": {
    "scrolled": false
   },
   "outputs": [
    {
     "data": {
      "image/png": "[encoded data removed]",
      "text/plain": [
       "<Figure size 1080x576 with 1 Axes>"
      ]
     },
     "metadata": {
      "needs_background": "light"
     },
     "output_type": "display_data"
    }
   ],
   "source": [
    "#установка размера\n",
    "f, ax = plt.subplots(figsize=(15, 8))\n",
    "\n",
    "#\n",
    "sns.barplot(data =car_crash, \n",
    "            x='vehicle_type',\n",
    "            y = 'prcnt',\n",
    "            hue  = 'collision_damage',\n",
    "            palette = \"Set2\",\n",
    "            alpha=0.7)\n",
    "ax.legend(ncol=1, loc=\"upper right\", frameon=True)\n",
    "ax.set(xlabel=\"Количество\",\n",
    "       ylabel=\"Дата\")\n",
    "#plt.xticks(rotation=90)\n",
    "plt.title(\"Количество проишествий по месяцам\")\n",
    "plt.show()"
   ]
  },
  {
   "cell_type": "markdown",
   "id": "297803c5",
   "metadata": {},
   "source": [
    "В процентном соотношении лидеры поменялись. Категория Other слишком маленькая, ее можно не рассматривать. В категории Серьезные повреждения и царапины все еще лидируют Купе. В категории средние повреждения лидируют Минивены а в категории не подлежит восстановлению - лидер Хачбек. Мне кажется в наших данных есть аномалия в разрезе малые повреждения. К сожалению в категории кузова Седан у нас имеется аномалии и рассматривать ее в данной статистике не представляется возможным."
   ]
  },
  {
   "cell_type": "markdown",
   "id": "1113eadc",
   "metadata": {},
   "source": [
    "### Вывод"
   ]
  },
  {
   "cell_type": "markdown",
   "id": "42b1adee",
   "metadata": {},
   "source": [
    "- Наименьшее количество ДТП регистрируется в Январе. Рост можно отметить в сентябре. Я думаю что январская просадка связана с наличием праздничных дней и возможно порой отпусков и + зимой автомобилисты часто начинают меньше использовать свой транспорт, а порой в целом не используют личный транспорт до весны. А сентябрьский подъем связан с началом делового сезона после летних отпусков.\n",
    "- Во всех группах состояния дорожного покрытия мы можем заметить крайне схожые паттерны распределения повреждений. И хотя количество проишествий на покрытиях с разным состояние может отличаться в разы, пропорции самих повреждений очень сильно схожи. Больше всего мелких повреждений, за ними идет серьезное повреждение, потом царапины, среднее повреждение и меньше всего фатальных.\n",
    "- Как и ожидались самые частые участники ДТП - автомобили. За ними с количеством почти в 15 раз меньше идут отбойники. Здания и дорожные знаки попадают в ДТП почти в равном количестве случаев, примерно в 4 раза реже отбойников.\n",
    "- В количественном отношении во всех категориях кроме легких повреждений лидируют машины с типом кузова купе. Надо посмотреть еще в процентном соотношении. В процентном соотношении лидеры поменялись. Категория Other слишком маленькая, ее можно не рассматривать. В категории Серьезные повреждения и царапины все еще лидируют Купе. В категории средние повреждения лидируют Минивены а в категории не подлежит восстановлению - лидер Хачбек. Мне кажется в наших данных есть аномалия в разрезе малые повреждения. К сожалению в категории кузова Седан у нас имеется аномалии и рассматривать ее в данной статистике не представляется возможным."
   ]
  },
  {
   "cell_type": "markdown",
   "id": "66b4ac01",
   "metadata": {},
   "source": [
    "## Модель для оценки водительского риска"
   ]
  },
  {
   "cell_type": "markdown",
   "id": "0f38d109",
   "metadata": {},
   "source": [
    "Подготовим предварительный набор данных на основе предположения заказчика."
   ]
  },
  {
   "cell_type": "code",
   "execution_count": 19,
   "id": "c77f05d6",
   "metadata": {
    "scrolled": true
   },
   "outputs": [
    {
     "data": {
      "text/html": [
       "<div>\n",
       "<style scoped>\n",
       "    .dataframe tbody tr th:only-of-type {\n",
       "        vertical-align: middle;\n",
       "    }\n",
       "\n",
       "    .dataframe tbody tr th {\n",
       "        vertical-align: top;\n",
       "    }\n",
       "\n",
       "    .dataframe thead th {\n",
       "        text-align: right;\n",
       "    }\n",
       "</style>\n",
       "<table border=\"1\" class=\"dataframe\">\n",
       "  <thead>\n",
       "    <tr style=\"text-align: right;\">\n",
       "      <th></th>\n",
       "      <th>at_fault</th>\n",
       "      <th>vehicle_type</th>\n",
       "      <th>vehicle_transmission</th>\n",
       "      <th>vehicle_age</th>\n",
       "      <th>party_type</th>\n",
       "      <th>insurance_premium</th>\n",
       "      <th>party_sobriety</th>\n",
       "      <th>party_drug_physical</th>\n",
       "      <th>cellphone_in_use</th>\n",
       "      <th>county_city_location</th>\n",
       "      <th>...</th>\n",
       "      <th>primary_collision_factor</th>\n",
       "      <th>pcf_violation_category</th>\n",
       "      <th>type_of_collision</th>\n",
       "      <th>motor_vehicle_involved_with</th>\n",
       "      <th>road_surface</th>\n",
       "      <th>road_condition_1</th>\n",
       "      <th>lighting</th>\n",
       "      <th>control_device</th>\n",
       "      <th>collision_date</th>\n",
       "      <th>collision_time</th>\n",
       "    </tr>\n",
       "  </thead>\n",
       "  <tbody>\n",
       "    <tr>\n",
       "      <th>0</th>\n",
       "      <td>1</td>\n",
       "      <td>coupe</td>\n",
       "      <td>auto</td>\n",
       "      <td>13.0</td>\n",
       "      <td>car</td>\n",
       "      <td>86.0</td>\n",
       "      <td>had not been drinking</td>\n",
       "      <td>None</td>\n",
       "      <td>0.0</td>\n",
       "      <td>3700</td>\n",
       "      <td>...</td>\n",
       "      <td>vehicle code violation</td>\n",
       "      <td>improper turning</td>\n",
       "      <td>hit object</td>\n",
       "      <td>fixed object</td>\n",
       "      <td>dry</td>\n",
       "      <td>normal</td>\n",
       "      <td>daylight</td>\n",
       "      <td>none</td>\n",
       "      <td>2012-01-05</td>\n",
       "      <td>12:50:00</td>\n",
       "    </tr>\n",
       "    <tr>\n",
       "      <th>1</th>\n",
       "      <td>1</td>\n",
       "      <td>sedan</td>\n",
       "      <td>manual</td>\n",
       "      <td>0.0</td>\n",
       "      <td>car</td>\n",
       "      <td>19.0</td>\n",
       "      <td>had not been drinking</td>\n",
       "      <td>None</td>\n",
       "      <td>0.0</td>\n",
       "      <td>3010</td>\n",
       "      <td>...</td>\n",
       "      <td>vehicle code violation</td>\n",
       "      <td>speeding</td>\n",
       "      <td>rear end</td>\n",
       "      <td>other motor vehicle</td>\n",
       "      <td>wet</td>\n",
       "      <td>normal</td>\n",
       "      <td>daylight</td>\n",
       "      <td>functioning</td>\n",
       "      <td>2012-01-23</td>\n",
       "      <td>11:07:00</td>\n",
       "    </tr>\n",
       "    <tr>\n",
       "      <th>2</th>\n",
       "      <td>0</td>\n",
       "      <td>sedan</td>\n",
       "      <td>manual</td>\n",
       "      <td>0.0</td>\n",
       "      <td>car</td>\n",
       "      <td>26.0</td>\n",
       "      <td>had not been drinking</td>\n",
       "      <td>None</td>\n",
       "      <td>0.0</td>\n",
       "      <td>3010</td>\n",
       "      <td>...</td>\n",
       "      <td>vehicle code violation</td>\n",
       "      <td>speeding</td>\n",
       "      <td>rear end</td>\n",
       "      <td>other motor vehicle</td>\n",
       "      <td>wet</td>\n",
       "      <td>normal</td>\n",
       "      <td>daylight</td>\n",
       "      <td>functioning</td>\n",
       "      <td>2012-01-23</td>\n",
       "      <td>11:07:00</td>\n",
       "    </tr>\n",
       "    <tr>\n",
       "      <th>3</th>\n",
       "      <td>0</td>\n",
       "      <td>sedan</td>\n",
       "      <td>auto</td>\n",
       "      <td>1.0</td>\n",
       "      <td>car</td>\n",
       "      <td>30.0</td>\n",
       "      <td>had not been drinking</td>\n",
       "      <td>None</td>\n",
       "      <td>0.0</td>\n",
       "      <td>4803</td>\n",
       "      <td>...</td>\n",
       "      <td>vehicle code violation</td>\n",
       "      <td>speeding</td>\n",
       "      <td>rear end</td>\n",
       "      <td>other motor vehicle</td>\n",
       "      <td>dry</td>\n",
       "      <td>normal</td>\n",
       "      <td>daylight</td>\n",
       "      <td>not functioning</td>\n",
       "      <td>2012-01-11</td>\n",
       "      <td>14:28:00</td>\n",
       "    </tr>\n",
       "    <tr>\n",
       "      <th>4</th>\n",
       "      <td>0</td>\n",
       "      <td>sedan</td>\n",
       "      <td>auto</td>\n",
       "      <td>10.0</td>\n",
       "      <td>car</td>\n",
       "      <td>30.0</td>\n",
       "      <td>had not been drinking</td>\n",
       "      <td>None</td>\n",
       "      <td>0.0</td>\n",
       "      <td>4803</td>\n",
       "      <td>...</td>\n",
       "      <td>vehicle code violation</td>\n",
       "      <td>speeding</td>\n",
       "      <td>rear end</td>\n",
       "      <td>other motor vehicle</td>\n",
       "      <td>dry</td>\n",
       "      <td>normal</td>\n",
       "      <td>daylight</td>\n",
       "      <td>not functioning</td>\n",
       "      <td>2012-01-11</td>\n",
       "      <td>14:28:00</td>\n",
       "    </tr>\n",
       "  </tbody>\n",
       "</table>\n",
       "<p>5 rows × 28 columns</p>\n",
       "</div>"
      ],
      "text/plain": [
       "   at_fault vehicle_type vehicle_transmission  vehicle_age party_type  \\\n",
       "0         1        coupe                 auto         13.0        car   \n",
       "1         1        sedan               manual          0.0        car   \n",
       "2         0        sedan               manual          0.0        car   \n",
       "3         0        sedan                 auto          1.0        car   \n",
       "4         0        sedan                 auto         10.0        car   \n",
       "\n",
       "   insurance_premium         party_sobriety party_drug_physical  \\\n",
       "0               86.0  had not been drinking                None   \n",
       "1               19.0  had not been drinking                None   \n",
       "2               26.0  had not been drinking                None   \n",
       "3               30.0  had not been drinking                None   \n",
       "4               30.0  had not been drinking                None   \n",
       "\n",
       "   cellphone_in_use county_city_location  ... primary_collision_factor  \\\n",
       "0               0.0                 3700  ...   vehicle code violation   \n",
       "1               0.0                 3010  ...   vehicle code violation   \n",
       "2               0.0                 3010  ...   vehicle code violation   \n",
       "3               0.0                 4803  ...   vehicle code violation   \n",
       "4               0.0                 4803  ...   vehicle code violation   \n",
       "\n",
       "   pcf_violation_category type_of_collision  motor_vehicle_involved_with  \\\n",
       "0        improper turning        hit object                 fixed object   \n",
       "1                speeding          rear end          other motor vehicle   \n",
       "2                speeding          rear end          other motor vehicle   \n",
       "3                speeding          rear end          other motor vehicle   \n",
       "4                speeding          rear end          other motor vehicle   \n",
       "\n",
       "  road_surface road_condition_1  lighting   control_device collision_date  \\\n",
       "0          dry           normal  daylight             none     2012-01-05   \n",
       "1          wet           normal  daylight      functioning     2012-01-23   \n",
       "2          wet           normal  daylight      functioning     2012-01-23   \n",
       "3          dry           normal  daylight  not functioning     2012-01-11   \n",
       "4          dry           normal  daylight  not functioning     2012-01-11   \n",
       "\n",
       "  collision_time  \n",
       "0       12:50:00  \n",
       "1       11:07:00  \n",
       "2       11:07:00  \n",
       "3       14:28:00  \n",
       "4       14:28:00  \n",
       "\n",
       "[5 rows x 28 columns]"
      ]
     },
     "execution_count": 19,
     "metadata": {},
     "output_type": "execute_result"
    }
   ],
   "source": [
    "sql_query = '''\n",
    "select  at_fault,\n",
    "\t\tvehicle_type,\n",
    "        vehicle_transmission,\n",
    "        vehicle_age, \n",
    "        party_type,\n",
    "        insurance_premium,\n",
    "        party_sobriety,\n",
    "        party_drug_physical,\n",
    "        cellphone_in_use,\n",
    "        county_city_location,\n",
    "        county_location,\n",
    "        distance,\n",
    "        direction,\n",
    "        intersection,\n",
    "        weather_1,\n",
    "        location_type,\n",
    "        collision_damage,\n",
    "        party_count,\n",
    "        primary_collision_factor,\n",
    "        pcf_violation_category,\n",
    "        type_of_collision,\n",
    "        motor_vehicle_involved_with,\n",
    "        road_surface,\n",
    "        road_condition_1,\n",
    "        lighting,\n",
    "        control_device,\n",
    "        collision_date,\n",
    "        collision_time\n",
    "from ((select *\n",
    "\tfrom collisions \n",
    "\twhere date_part('year', collision_date) = 2012) as c\n",
    "\tjoin\n",
    "\t(select * \n",
    "\tfrom parties\n",
    "\twhere party_type = 'car') as p on c.case_id = p.case_id\n",
    "\tjoin\n",
    "\t(select *\n",
    "\tfrom vehicles) as v on p.case_id = v.case_id) as t1\n",
    "where collision_damage != 'scratch'\n",
    "'''\n",
    "#подключение к базе and p.party_number = v.party_number\n",
    "df = pd.read_sql_query(sql_query, con=engine)\n",
    "df.head()"
   ]
  },
  {
   "cell_type": "code",
   "execution_count": 20,
   "id": "e0215a47",
   "metadata": {},
   "outputs": [
    {
     "name": "stdout",
     "output_type": "stream",
     "text": [
      "<class 'pandas.core.frame.DataFrame'>\n",
      "RangeIndex: 118411 entries, 0 to 118410\n",
      "Data columns (total 28 columns):\n",
      " #   Column                       Non-Null Count   Dtype  \n",
      "---  ------                       --------------   -----  \n",
      " 0   at_fault                     118411 non-null  int64  \n",
      " 1   vehicle_type                 118411 non-null  object \n",
      " 2   vehicle_transmission         116545 non-null  object \n",
      " 3   vehicle_age                  115046 non-null  float64\n",
      " 4   party_type                   118411 non-null  object \n",
      " 5   insurance_premium            113289 non-null  float64\n",
      " 6   party_sobriety               116682 non-null  object \n",
      " 7   party_drug_physical          8695 non-null    object \n",
      " 8   cellphone_in_use             107507 non-null  float64\n",
      " 9   county_city_location         118411 non-null  object \n",
      " 10  county_location              118411 non-null  object \n",
      " 11  distance                     118411 non-null  float64\n",
      " 12  direction                    89466 non-null   object \n",
      " 13  intersection                 118043 non-null  float64\n",
      " 14  weather_1                    118022 non-null  object \n",
      " 15  location_type                55137 non-null   object \n",
      " 16  collision_damage             118411 non-null  object \n",
      " 17  party_count                  118411 non-null  int64  \n",
      " 18  primary_collision_factor     118147 non-null  object \n",
      " 19  pcf_violation_category       116686 non-null  object \n",
      " 20  type_of_collision            117771 non-null  object \n",
      " 21  motor_vehicle_involved_with  118079 non-null  object \n",
      " 22  road_surface                 117645 non-null  object \n",
      " 23  road_condition_1             117843 non-null  object \n",
      " 24  lighting                     118080 non-null  object \n",
      " 25  control_device               117957 non-null  object \n",
      " 26  collision_date               118411 non-null  object \n",
      " 27  collision_time               118283 non-null  object \n",
      "dtypes: float64(5), int64(2), object(21)\n",
      "memory usage: 25.3+ MB\n",
      "None\n",
      "Пропуски по столбцам:\n",
      "at_fault                            0\n",
      "vehicle_type                        0\n",
      "vehicle_transmission             1866\n",
      "vehicle_age                      3365\n",
      "party_type                          0\n",
      "insurance_premium                5122\n",
      "party_sobriety                   1729\n",
      "party_drug_physical            109716\n",
      "cellphone_in_use                10904\n",
      "county_city_location                0\n",
      "county_location                     0\n",
      "distance                            0\n",
      "direction                       28945\n",
      "intersection                      368\n",
      "weather_1                         389\n",
      "location_type                   63274\n",
      "collision_damage                    0\n",
      "party_count                         0\n",
      "primary_collision_factor          264\n",
      "pcf_violation_category           1725\n",
      "type_of_collision                 640\n",
      "motor_vehicle_involved_with       332\n",
      "road_surface                      766\n",
      "road_condition_1                  568\n",
      "lighting                          331\n",
      "control_device                    454\n",
      "collision_date                      0\n",
      "collision_time                    128\n",
      "dtype: int64\n"
     ]
    }
   ],
   "source": [
    "print(df.info())\n",
    "#проверим на пропуски\n",
    "print('Пропуски по столбцам:')\n",
    "print(df.isna().sum())"
   ]
  },
  {
   "cell_type": "markdown",
   "id": "b1ee83c2",
   "metadata": {},
   "source": [
    "У нас 26 столбцов. at_fault - целевой."
   ]
  },
  {
   "cell_type": "code",
   "execution_count": 21,
   "id": "73a9b7fe",
   "metadata": {},
   "outputs": [
    {
     "data": {
      "text/plain": [
       "0    0.530314\n",
       "1    0.469686\n",
       "Name: at_fault, dtype: float64"
      ]
     },
     "execution_count": 21,
     "metadata": {},
     "output_type": "execute_result"
    }
   ],
   "source": [
    "#посмотрим распределение целевого столбца\n",
    "df.at_fault.value_counts(normalize = True)"
   ]
  },
  {
   "cell_type": "markdown",
   "id": "9c265387",
   "metadata": {},
   "source": [
    "Есть не очень сильный дисбаланс классов. Класса 0 больше чем класса 1, но разница не сильная."
   ]
  },
  {
   "cell_type": "markdown",
   "id": "2f71c3bf",
   "metadata": {},
   "source": [
    "### EDA"
   ]
  },
  {
   "cell_type": "markdown",
   "id": "2dc54927",
   "metadata": {},
   "source": [
    "#### vehicle_type"
   ]
  },
  {
   "cell_type": "code",
   "execution_count": 22,
   "id": "d33af54a",
   "metadata": {},
   "outputs": [
    {
     "data": {
      "text/plain": [
       "sedan        76765\n",
       "coupe        35867\n",
       "hatchback     3283\n",
       "minivan       2438\n",
       "other           58\n",
       "Name: vehicle_type, dtype: int64"
      ]
     },
     "execution_count": 22,
     "metadata": {},
     "output_type": "execute_result"
    }
   ],
   "source": [
    "df.vehicle_type.value_counts()"
   ]
  },
  {
   "cell_type": "markdown",
   "id": "cb3687c7",
   "metadata": {},
   "source": [
    "Other - очень маленькое количество. Вероятно надо его исключить."
   ]
  },
  {
   "cell_type": "code",
   "execution_count": 23,
   "id": "1478f423",
   "metadata": {},
   "outputs": [],
   "source": [
    "#удалим строки где [df['vehicle_type'] == 'other'\n",
    "df = df.drop(df[df['vehicle_type'] == 'other'].index)"
   ]
  },
  {
   "cell_type": "code",
   "execution_count": 24,
   "id": "a499a383",
   "metadata": {},
   "outputs": [],
   "source": [
    "df['vehicle_type'] = df['vehicle_type'].astype('category')"
   ]
  },
  {
   "cell_type": "markdown",
   "id": "a080838d",
   "metadata": {},
   "source": [
    "#### collision_time"
   ]
  },
  {
   "cell_type": "code",
   "execution_count": 25,
   "id": "7349b218",
   "metadata": {
    "scrolled": true
   },
   "outputs": [
    {
     "data": {
      "text/plain": [
       "0    12:50:00\n",
       "1    11:07:00\n",
       "2    11:07:00\n",
       "3    14:28:00\n",
       "4    14:28:00\n",
       "Name: collision_time, dtype: object"
      ]
     },
     "execution_count": 25,
     "metadata": {},
     "output_type": "execute_result"
    }
   ],
   "source": [
    "df['collision_time'].head()"
   ]
  },
  {
   "cell_type": "markdown",
   "id": "57ade6df",
   "metadata": {},
   "source": [
    "Состояние водителя зависит от времени суток, поэтому это важный показатель."
   ]
  },
  {
   "cell_type": "code",
   "execution_count": 26,
   "id": "f37c683a",
   "metadata": {},
   "outputs": [],
   "source": [
    "#удалим строки с пропусками в столбце collision_time\n",
    "df = df.drop(df[df['collision_time'].isna()].index)"
   ]
  },
  {
   "cell_type": "code",
   "execution_count": 27,
   "id": "4b2eadf6",
   "metadata": {
    "scrolled": false
   },
   "outputs": [
    {
     "data": {
      "text/plain": [
       "15    10814\n",
       "17     9565\n",
       "16     9033\n",
       "14     8967\n",
       "18     8334\n",
       "13     7781\n",
       "12     7167\n",
       "11     6091\n",
       "7      5687\n",
       "8      5578\n",
       "19     5409\n",
       "10     4920\n",
       "20     4525\n",
       "9      4368\n",
       "21     3799\n",
       "22     2927\n",
       "23     2469\n",
       "6      2264\n",
       "2      1863\n",
       "1      1767\n",
       "0      1739\n",
       "5      1334\n",
       "3      1050\n",
       "4       774\n",
       "Name: collision_time, dtype: int64"
      ]
     },
     "execution_count": 27,
     "metadata": {},
     "output_type": "execute_result"
    }
   ],
   "source": [
    "#оставим только часы, остальное уберем\n",
    "df['collision_time'] = df['collision_time'].apply(lambda x: x.hour)\n",
    "df['collision_time'].value_counts()"
   ]
  },
  {
   "cell_type": "code",
   "execution_count": 28,
   "id": "fd56ac1d",
   "metadata": {},
   "outputs": [],
   "source": [
    "df['collision_time'] = df['collision_time'].astype('category')"
   ]
  },
  {
   "cell_type": "markdown",
   "id": "e199a7bf",
   "metadata": {},
   "source": [
    "#### collision_date"
   ]
  },
  {
   "cell_type": "markdown",
   "id": "db81c18c",
   "metadata": {},
   "source": [
    "Cтолбец collision_date Очень важен, сложность вождения имеет зависимость от времени года, но в периоде, который мы рассматриваем у нас есть данные только по 5 месяцам. Алгоритм может переобучиться на этих месяцах и другие предсказывать хуже. В таком разрезе столбец нам не подходит, но из него можно извлечь информацию о дне недели. Это будет полезно. \n",
    "\n",
    "Извлечем из столбца информацию о дне недели. Остальное удалим."
   ]
  },
  {
   "cell_type": "code",
   "execution_count": 29,
   "id": "2a4508d6",
   "metadata": {
    "scrolled": false
   },
   "outputs": [
    {
     "data": {
      "text/plain": [
       "4    20058\n",
       "5    19004\n",
       "3    16560\n",
       "2    16175\n",
       "6    15962\n",
       "1    15565\n",
       "0    14901\n",
       "Name: collision_date, dtype: int64"
      ]
     },
     "execution_count": 29,
     "metadata": {},
     "output_type": "execute_result"
    }
   ],
   "source": [
    "#оставим только часы, остальное уберем\n",
    "df['collision_date'] = df['collision_date'].apply(lambda x: x.weekday())\n",
    "df['collision_date'].value_counts()"
   ]
  },
  {
   "cell_type": "code",
   "execution_count": 30,
   "id": "e4b6f9e7",
   "metadata": {},
   "outputs": [],
   "source": [
    "df['collision_date'] = df['collision_date'].astype('category')"
   ]
  },
  {
   "cell_type": "markdown",
   "id": "fa5b2123",
   "metadata": {},
   "source": [
    "#### control_device"
   ]
  },
  {
   "cell_type": "code",
   "execution_count": 31,
   "id": "46252bd7",
   "metadata": {},
   "outputs": [
    {
     "data": {
      "text/plain": [
       "none               76564\n",
       "functioning        40906\n",
       "not functioning      242\n",
       "obscured              62\n",
       "Name: control_device, dtype: int64"
      ]
     },
     "execution_count": 31,
     "metadata": {},
     "output_type": "execute_result"
    }
   ],
   "source": [
    "df['control_device'].value_counts()"
   ]
  },
  {
   "cell_type": "markdown",
   "id": "e8e02659",
   "metadata": {},
   "source": [
    "Я не понял назначение данного устройства а в условиях задачи его смысл не раскрывается подробно. Будем изходить из того, что это что-то важное. Тогда not functioning и obscured - очень малое количество. По смыслу их можно заменить на none или удалить. Я заменю."
   ]
  },
  {
   "cell_type": "code",
   "execution_count": 32,
   "id": "84d16c05",
   "metadata": {
    "scrolled": true
   },
   "outputs": [
    {
     "data": {
      "text/plain": [
       "none           76868\n",
       "functioning    40906\n",
       "Name: control_device, dtype: int64"
      ]
     },
     "execution_count": 32,
     "metadata": {},
     "output_type": "execute_result"
    }
   ],
   "source": [
    "control_device_map = {\n",
    "    'not functioning': 'none',\n",
    "    'obscured':'none'\n",
    "}\n",
    "\n",
    "df['control_device'] = df['control_device'].apply(lambda x: control_device_map[x] if x in control_device_map else x)\n",
    "df['control_device'].value_counts()"
   ]
  },
  {
   "cell_type": "code",
   "execution_count": 33,
   "id": "6c72efd7",
   "metadata": {},
   "outputs": [],
   "source": [
    "#удалим строки с пропусками в столбце control_device\n",
    "df = df.drop(df[df['control_device'].isna()].index)"
   ]
  },
  {
   "cell_type": "code",
   "execution_count": 34,
   "id": "7586f4ca",
   "metadata": {},
   "outputs": [],
   "source": [
    "df['control_device'] = df['control_device'].astype('category')"
   ]
  },
  {
   "cell_type": "markdown",
   "id": "0737704e",
   "metadata": {},
   "source": [
    "#### lighting"
   ]
  },
  {
   "cell_type": "code",
   "execution_count": 35,
   "id": "4133406c",
   "metadata": {
    "scrolled": true
   },
   "outputs": [
    {
     "data": {
      "text/plain": [
       "daylight                                   82607\n",
       "dark with street lights                    21931\n",
       "dark with no street lights                  8986\n",
       "dusk or dawn                                3678\n",
       "dark with street lights not functioning      286\n",
       "Name: lighting, dtype: int64"
      ]
     },
     "execution_count": 35,
     "metadata": {},
     "output_type": "execute_result"
    }
   ],
   "source": [
    "df['lighting'].value_counts()"
   ]
  },
  {
   "cell_type": "markdown",
   "id": "2ab2c4a4",
   "metadata": {},
   "source": [
    "Освещенность очень важный фактор. dark with street lights not functioning очень небольшая категория, посмотрим на качество. ЕЕ можно объединить с dark with no street lights. Так и сделаем. А так же удалим строки с пропусками в данной категории."
   ]
  },
  {
   "cell_type": "code",
   "execution_count": 36,
   "id": "033909cf",
   "metadata": {
    "scrolled": true
   },
   "outputs": [
    {
     "data": {
      "text/plain": [
       "daylight                      82607\n",
       "dark with street lights       21931\n",
       "dark with no street lights     9272\n",
       "dusk or dawn                   3678\n",
       "Name: lighting, dtype: int64"
      ]
     },
     "execution_count": 36,
     "metadata": {},
     "output_type": "execute_result"
    }
   ],
   "source": [
    "#удалим строки с пропусками в столбце lighting\n",
    "df = df.drop(df[df['lighting'].isna()].index)\n",
    "\n",
    "lighting_map = {\n",
    "    'dark with street lights not functioning': 'dark with no street lights',\n",
    "}\n",
    "\n",
    "df['lighting'] = df['lighting'].apply(lambda x: lighting_map[x] if x in lighting_map else x)\n",
    "df['lighting'].value_counts()"
   ]
  },
  {
   "cell_type": "code",
   "execution_count": 37,
   "id": "54d9ed0d",
   "metadata": {},
   "outputs": [],
   "source": [
    "df['lighting'] = df['lighting'].astype('category')"
   ]
  },
  {
   "cell_type": "markdown",
   "id": "7efb2ad0",
   "metadata": {},
   "source": [
    "#### road_condition_1"
   ]
  },
  {
   "cell_type": "code",
   "execution_count": 38,
   "id": "06ce484a",
   "metadata": {},
   "outputs": [
    {
     "data": {
      "text/plain": [
       "normal            113058\n",
       "construction        2282\n",
       "holes                470\n",
       "obstruction          458\n",
       "other                418\n",
       "loose material       188\n",
       "reduced width        132\n",
       "flooded               56\n",
       "Name: road_condition_1, dtype: int64"
      ]
     },
     "execution_count": 38,
     "metadata": {},
     "output_type": "execute_result"
    }
   ],
   "source": [
    "df['road_condition_1'].value_counts()"
   ]
  },
  {
   "cell_type": "markdown",
   "id": "83d495a3",
   "metadata": {},
   "source": [
    "Состояние самой улицы важный фактор, но в категориях кроме norval маловато значений, однако все они свидетельствуют о проблемах, поэтому объединим их все в одну а пропуски удалим."
   ]
  },
  {
   "cell_type": "code",
   "execution_count": 39,
   "id": "c471937b",
   "metadata": {
    "scrolled": true
   },
   "outputs": [
    {
     "data": {
      "text/plain": [
       "normal    113058\n",
       "probem      4004\n",
       "Name: road_condition_1, dtype: int64"
      ]
     },
     "execution_count": 39,
     "metadata": {},
     "output_type": "execute_result"
    }
   ],
   "source": [
    "#удалим строки с пропусками в столбце road_condition_1\n",
    "df = df.drop(df[df['road_condition_1'].isna()].index)\n",
    "\n",
    "road_condition_map = {\n",
    "    'construction': 'probem',\n",
    "    'holes': 'probem',\n",
    "    'obstruction': 'probem',\n",
    "    'other': 'probem',\n",
    "    'loose material': 'probem',\n",
    "    'reduced width': 'probem',\n",
    "    'flooded': 'probem'\n",
    "}\n",
    "\n",
    "df['road_condition_1'] = df['road_condition_1'].apply(lambda x: road_condition_map[x] if x in road_condition_map else x)\n",
    "df['road_condition_1'].value_counts()"
   ]
  },
  {
   "cell_type": "code",
   "execution_count": 40,
   "id": "3f6ea774",
   "metadata": {},
   "outputs": [],
   "source": [
    "df['road_condition_1'] = df['road_condition_1'].astype('category')"
   ]
  },
  {
   "cell_type": "markdown",
   "id": "45e454a1",
   "metadata": {},
   "source": [
    "### road_surface"
   ]
  },
  {
   "cell_type": "code",
   "execution_count": 41,
   "id": "1fba353d",
   "metadata": {},
   "outputs": [
    {
     "data": {
      "text/plain": [
       "dry         105883\n",
       "wet           9957\n",
       "snowy          560\n",
       "slippery        66\n",
       "Name: road_surface, dtype: int64"
      ]
     },
     "execution_count": 41,
     "metadata": {},
     "output_type": "execute_result"
    }
   ],
   "source": [
    "df['road_surface'].value_counts()"
   ]
  },
  {
   "cell_type": "markdown",
   "id": "23b52543",
   "metadata": {},
   "source": [
    "Важный фактор. категорию slippery объединим со snowy. Они обе скользкие. Пропуски удалим."
   ]
  },
  {
   "cell_type": "code",
   "execution_count": 42,
   "id": "9957db60",
   "metadata": {},
   "outputs": [
    {
     "data": {
      "text/plain": [
       "dry      105883\n",
       "wet        9957\n",
       "snowy       626\n",
       "Name: road_surface, dtype: int64"
      ]
     },
     "execution_count": 42,
     "metadata": {},
     "output_type": "execute_result"
    }
   ],
   "source": [
    "#удалим строки с пропусками в столбце road_condition_1\n",
    "df = df.drop(df[df['road_surface'].isna()].index)\n",
    "\n",
    "road_surface_map = {\n",
    "    'slippery': 'snowy'\n",
    "}\n",
    "\n",
    "df['road_surface'] = df['road_surface'].apply(lambda x: road_surface_map[x] if x in road_surface_map else x)\n",
    "df['road_surface'].value_counts()"
   ]
  },
  {
   "cell_type": "code",
   "execution_count": 43,
   "id": "521dff1a",
   "metadata": {},
   "outputs": [],
   "source": [
    "df['road_surface'] = df['road_surface'].astype('category')"
   ]
  },
  {
   "cell_type": "markdown",
   "id": "5ccf772f",
   "metadata": {},
   "source": [
    "#### motor_vehicle_involved_with"
   ]
  },
  {
   "cell_type": "code",
   "execution_count": 44,
   "id": "9eeeb1ae",
   "metadata": {},
   "outputs": [
    {
     "data": {
      "text/plain": [
       "other motor vehicle               92968\n",
       "fixed object                       9232\n",
       "other object                       5292\n",
       "non-collision                      2820\n",
       "bicycle                            2721\n",
       "parked motor vehicle               2012\n",
       "motor vehicle on other roadway      912\n",
       "animal                              234\n",
       "train                                28\n",
       "Name: motor_vehicle_involved_with, dtype: int64"
      ]
     },
     "execution_count": 44,
     "metadata": {},
     "output_type": "execute_result"
    }
   ],
   "source": [
    "df['motor_vehicle_involved_with'].value_counts()"
   ]
  },
  {
   "cell_type": "markdown",
   "id": "195b7a96",
   "metadata": {},
   "source": [
    "motor_vehicle_involved_with - объект, с которым произошло ДТП. зависимость виновности в ДТП от объекта с которым произошло столкновение может существовать. Например fixed object не может двигаться и не может быть виновником ДТП.\n",
    "\n",
    "train и animal - очень маленькие категории. При плохом качестве модели попробуем их перенести в other object. Пока оставим как есть."
   ]
  },
  {
   "cell_type": "code",
   "execution_count": 45,
   "id": "a13a42f8",
   "metadata": {},
   "outputs": [],
   "source": [
    "#удалим строки с пропусками в столбце motor_vehicle_involved_with\n",
    "df = df.drop(df[df['motor_vehicle_involved_with'].isna()].index)\n",
    "\n",
    "#сменим тип столбца\n",
    "df['motor_vehicle_involved_with'] = df['motor_vehicle_involved_with'].astype('category')"
   ]
  },
  {
   "cell_type": "markdown",
   "id": "c23f2ed1",
   "metadata": {},
   "source": [
    "#### type_of_collision"
   ]
  },
  {
   "cell_type": "code",
   "execution_count": 46,
   "id": "4d8fc14c",
   "metadata": {},
   "outputs": [
    {
     "data": {
      "text/plain": [
       "rear end      44882\n",
       "broadside     25833\n",
       "sideswipe     19721\n",
       "hit object     9959\n",
       "head-on        6792\n",
       "other          5952\n",
       "overturned     2639\n",
       "Name: type_of_collision, dtype: int64"
      ]
     },
     "execution_count": 46,
     "metadata": {},
     "output_type": "execute_result"
    }
   ],
   "source": [
    "df['type_of_collision'].value_counts()"
   ]
  },
  {
   "cell_type": "markdown",
   "id": "d8c85a5e",
   "metadata": {},
   "source": [
    "type_of_collision - тип проишествия. Виновность в дтп может зависить от типа столкновения."
   ]
  },
  {
   "cell_type": "code",
   "execution_count": 47,
   "id": "19b8945d",
   "metadata": {},
   "outputs": [],
   "source": [
    "#удалим строки с пропусками в столбце type_of_collision\n",
    "df = df.drop(df[df['type_of_collision'].isna()].index)\n",
    "\n",
    "#сменим тип столбца\n",
    "df['type_of_collision'] = df['type_of_collision'].astype('category')"
   ]
  },
  {
   "cell_type": "markdown",
   "id": "4a52917f",
   "metadata": {},
   "source": [
    "#### primary_collision_factor"
   ]
  },
  {
   "cell_type": "code",
   "execution_count": 48,
   "id": "1a5c251c",
   "metadata": {},
   "outputs": [
    {
     "data": {
      "text/plain": [
       "vehicle code violation    111699\n",
       "unknown                     1759\n",
       "other than driver           1652\n",
       "other improper driving       422\n",
       "fell asleep                    3\n",
       "Name: primary_collision_factor, dtype: int64"
      ]
     },
     "execution_count": 48,
     "metadata": {},
     "output_type": "execute_result"
    }
   ],
   "source": [
    "df['primary_collision_factor'].value_counts()"
   ]
  },
  {
   "cell_type": "markdown",
   "id": "c5083b26",
   "metadata": {},
   "source": [
    "primary_collision_factor - основной фактор аварии. Этот столбец очень похож на столбец pcf_violation_category - категория нарушения. сравним их."
   ]
  },
  {
   "cell_type": "code",
   "execution_count": 49,
   "id": "ef28f6af",
   "metadata": {},
   "outputs": [
    {
     "data": {
      "text/plain": [
       "speeding                             41007\n",
       "automobile right of way              15053\n",
       "improper turning                     12869\n",
       "dui                                  10237\n",
       "unsafe lane change                   10130\n",
       "traffic signals and signs             7529\n",
       "wrong side of road                    3196\n",
       "unsafe starting or backing            2715\n",
       "following too closely                 2359\n",
       "unknown                               1882\n",
       "pedestrian violation                  1665\n",
       "other than driver (or pedestrian)     1652\n",
       "other hazardous violation             1145\n",
       "improper passing                      1011\n",
       "pedestrian right of way                951\n",
       "other improper driving                 422\n",
       "other equipment                        149\n",
       "impeding traffic                        80\n",
       "hazardous parking                       43\n",
       "brakes                                  20\n",
       "lights                                  16\n",
       "fell asleep                              3\n",
       "Name: pcf_violation_category, dtype: int64"
      ]
     },
     "execution_count": 49,
     "metadata": {},
     "output_type": "execute_result"
    }
   ],
   "source": [
    "df['pcf_violation_category'].value_counts()"
   ]
  },
  {
   "cell_type": "markdown",
   "id": "8d3809d7",
   "metadata": {},
   "source": [
    "Оставим pcf_violation_category - он более информативен. Только категории есть совсем маленькие. перенесем их в other improper driving"
   ]
  },
  {
   "cell_type": "code",
   "execution_count": 50,
   "id": "866b5a16",
   "metadata": {
    "scrolled": true
   },
   "outputs": [
    {
     "data": {
      "text/plain": [
       "speeding                             41007\n",
       "automobile right of way              15053\n",
       "improper turning                     12869\n",
       "dui                                  10237\n",
       "unsafe lane change                   10130\n",
       "traffic signals and signs             7529\n",
       "wrong side of road                    3196\n",
       "unsafe starting or backing            2715\n",
       "following too closely                 2359\n",
       "unknown                               1882\n",
       "pedestrian violation                  1665\n",
       "other than driver (or pedestrian)     1652\n",
       "other hazardous violation             1145\n",
       "improper passing                      1011\n",
       "pedestrian right of way                951\n",
       "other improper driving                 584\n",
       "other equipment                        149\n",
       "Name: pcf_violation_category, dtype: int64"
      ]
     },
     "execution_count": 50,
     "metadata": {},
     "output_type": "execute_result"
    }
   ],
   "source": [
    "#удалим строки с пропусками в столбце pcf_violation_category\n",
    "df = df.drop(df[df['pcf_violation_category'].isna()].index)\n",
    "\n",
    "pcf_violation_category_map = {\n",
    "    'fell asleep': 'other improper driving',\n",
    "    'lights': 'other improper driving',\n",
    "    'hazardous parking': 'other improper driving',\n",
    "    'impeding traffic': 'other improper driving',\n",
    "    'brakes': 'other improper driving'\n",
    "}\n",
    "\n",
    "df['pcf_violation_category'] = df['pcf_violation_category'].apply(lambda x: pcf_violation_category_map[x] if x in pcf_violation_category_map else x)\n",
    "\n",
    "#удалим лишний столбец\n",
    "df = df.drop('primary_collision_factor', axis = 1)\n",
    "\n",
    "#сменим тип столбца\n",
    "df['pcf_violation_category'] = df['pcf_violation_category'].astype('category')\n",
    "df['pcf_violation_category'].value_counts()"
   ]
  },
  {
   "cell_type": "markdown",
   "id": "29df8e8c",
   "metadata": {},
   "source": [
    "#### party_count"
   ]
  },
  {
   "cell_type": "code",
   "execution_count": 51,
   "id": "ec0d21ca",
   "metadata": {},
   "outputs": [
    {
     "data": {
      "text/plain": [
       "2     71590\n",
       "3     21281\n",
       "1      9809\n",
       "4      7522\n",
       "5      2575\n",
       "6       787\n",
       "7       276\n",
       "9       153\n",
       "8       111\n",
       "10       30\n",
       "Name: party_count, dtype: int64"
      ]
     },
     "execution_count": 51,
     "metadata": {},
     "output_type": "execute_result"
    }
   ],
   "source": [
    "df['party_count'].value_counts()"
   ]
  },
  {
   "cell_type": "markdown",
   "id": "60bde62d",
   "metadata": {},
   "source": [
    "Для определения виновности имеет значение количество участников. Если участник 1 - то в целом понятно, что он вероятно виновен, поэтому объединим все что больше одного в одну категорию."
   ]
  },
  {
   "cell_type": "code",
   "execution_count": 52,
   "id": "d42c5570",
   "metadata": {
    "scrolled": true
   },
   "outputs": [
    {
     "data": {
      "text/plain": [
       "2    104325\n",
       "1      9809\n",
       "Name: party_count, dtype: int64"
      ]
     },
     "execution_count": 52,
     "metadata": {},
     "output_type": "execute_result"
    }
   ],
   "source": [
    "df['party_count'] = df['party_count'].apply(lambda x: 1 if x == 1 else 2 )\n",
    "df['party_count'] = df['party_count'].astype('category')\n",
    "df['party_count'].value_counts()"
   ]
  },
  {
   "cell_type": "markdown",
   "id": "fee9f5ee",
   "metadata": {},
   "source": [
    "#### collision_damage"
   ]
  },
  {
   "cell_type": "markdown",
   "id": "ae454dda",
   "metadata": {},
   "source": [
    "collision_damage - ущерб при аварии. Ущерб при аварии на мой взгляд не зависит от виновности или не виновности участника ДТП. удалим столбец."
   ]
  },
  {
   "cell_type": "code",
   "execution_count": 53,
   "id": "ffbfdff4",
   "metadata": {},
   "outputs": [],
   "source": [
    "#удалим строки с пропусками в столбце collision_damage\n",
    "df = df.drop('collision_damage', axis = 1)"
   ]
  },
  {
   "cell_type": "markdown",
   "id": "e7bfa0f7",
   "metadata": {},
   "source": [
    "#### location_type"
   ]
  },
  {
   "cell_type": "code",
   "execution_count": 54,
   "id": "09406378",
   "metadata": {},
   "outputs": [
    {
     "data": {
      "text/plain": [
       "highway         45080\n",
       "ramp             6097\n",
       "intersection     2770\n",
       "Name: location_type, dtype: int64"
      ]
     },
     "execution_count": 54,
     "metadata": {},
     "output_type": "execute_result"
    }
   ],
   "source": [
    "df['location_type'].value_counts()"
   ]
  },
  {
   "cell_type": "markdown",
   "id": "c525a406",
   "metadata": {},
   "source": [
    "Поведение водителей разнится в зависимости от нахождения на шоссе и в городе. оставим этот столбец. пропуски заполним значением other"
   ]
  },
  {
   "cell_type": "code",
   "execution_count": 55,
   "id": "f2cfd22f",
   "metadata": {},
   "outputs": [
    {
     "data": {
      "text/plain": [
       "other           60187\n",
       "highway         45080\n",
       "ramp             6097\n",
       "intersection     2770\n",
       "Name: location_type, dtype: int64"
      ]
     },
     "execution_count": 55,
     "metadata": {},
     "output_type": "execute_result"
    }
   ],
   "source": [
    "df['location_type'] = df['location_type'].fillna('other')\n",
    "\n",
    "df['location_type'] = df['location_type'].astype('category')\n",
    "df['location_type'].value_counts()"
   ]
  },
  {
   "cell_type": "markdown",
   "id": "ba257804",
   "metadata": {},
   "source": [
    "#### weather_1"
   ]
  },
  {
   "cell_type": "code",
   "execution_count": 56,
   "id": "01373c6a",
   "metadata": {},
   "outputs": [
    {
     "data": {
      "text/plain": [
       "clear      92565\n",
       "cloudy     16556\n",
       "raining     4059\n",
       "fog          378\n",
       "snowing      260\n",
       "other         61\n",
       "wind          23\n",
       "Name: weather_1, dtype: int64"
      ]
     },
     "execution_count": 56,
     "metadata": {},
     "output_type": "execute_result"
    }
   ],
   "source": [
    "df['weather_1'].value_counts()"
   ]
  },
  {
   "cell_type": "markdown",
   "id": "88f50cb1",
   "metadata": {},
   "source": [
    "Этот столбец важен, он влияет на водителя. Только категорию wind объединим с other. Пропуски заполним other."
   ]
  },
  {
   "cell_type": "code",
   "execution_count": 57,
   "id": "f66008fe",
   "metadata": {},
   "outputs": [
    {
     "data": {
      "text/plain": [
       "clear      92565\n",
       "cloudy     16556\n",
       "raining     4059\n",
       "fog          378\n",
       "other        316\n",
       "snowing      260\n",
       "Name: weather_1, dtype: int64"
      ]
     },
     "execution_count": 57,
     "metadata": {},
     "output_type": "execute_result"
    }
   ],
   "source": [
    "df['weather_1'] = df['weather_1'].fillna('other')\n",
    "\n",
    "weather_map = {\n",
    "    'wind': 'other'\n",
    "}\n",
    "\n",
    "df['weather_1'] = df['weather_1'].apply(lambda x: weather_map[x] if x in weather_map else x)\n",
    "\n",
    "#сменим тип столбца\n",
    "df['weather_1'] = df['weather_1'].astype('category')\n",
    "df['weather_1'].value_counts()"
   ]
  },
  {
   "cell_type": "markdown",
   "id": "ba1c5e01",
   "metadata": {},
   "source": [
    "#### intersection"
   ]
  },
  {
   "cell_type": "markdown",
   "id": "357ae4c1",
   "metadata": {},
   "source": [
    "Перекресток является фактором повышающим вероятность аварии. Но никак не влияет на вероятность быт в ней виновным. Удаляем."
   ]
  },
  {
   "cell_type": "code",
   "execution_count": 58,
   "id": "e0cd3949",
   "metadata": {
    "scrolled": true
   },
   "outputs": [],
   "source": [
    "df = df.drop('intersection', axis = 1)"
   ]
  },
  {
   "cell_type": "markdown",
   "id": "bca64968",
   "metadata": {},
   "source": [
    "#### direction"
   ]
  },
  {
   "cell_type": "code",
   "execution_count": 59,
   "id": "26153e17",
   "metadata": {},
   "outputs": [
    {
     "data": {
      "text/plain": [
       "north    24435\n",
       "south    23909\n",
       "west     19543\n",
       "east     18818\n",
       "Name: direction, dtype: int64"
      ]
     },
     "execution_count": 59,
     "metadata": {},
     "output_type": "execute_result"
    }
   ],
   "source": [
    "df['direction'].value_counts()"
   ]
  },
  {
   "cell_type": "markdown",
   "id": "ebff3564",
   "metadata": {},
   "source": [
    "От направления зависит куда светит солнце. По хорошему можно сделать дополнительный признак. Объединив время и направление. Сделаем это если качество модели без этого будет низким. Пропуски заполним значением unknown"
   ]
  },
  {
   "cell_type": "code",
   "execution_count": 60,
   "id": "10ab8828",
   "metadata": {},
   "outputs": [
    {
     "data": {
      "text/plain": [
       "unknown    27429\n",
       "north      24435\n",
       "south      23909\n",
       "west       19543\n",
       "east       18818\n",
       "Name: direction, dtype: int64"
      ]
     },
     "execution_count": 60,
     "metadata": {},
     "output_type": "execute_result"
    }
   ],
   "source": [
    "df['direction'] = df['direction'].fillna('unknown')\n",
    "df['direction'] = df['direction'].astype('category')\n",
    "df['direction'].value_counts()"
   ]
  },
  {
   "cell_type": "markdown",
   "id": "ade95f93",
   "metadata": {},
   "source": [
    "#### distance"
   ]
  },
  {
   "cell_type": "markdown",
   "id": "da8f8b08",
   "metadata": {},
   "source": [
    "Расстояние от главной дороги. Странный столбец. Не очевидно что он характеризует. Удалим его."
   ]
  },
  {
   "cell_type": "code",
   "execution_count": 61,
   "id": "858c6c35",
   "metadata": {},
   "outputs": [],
   "source": [
    "#удалим строки с пропусками в столбце distance\n",
    "df = df.drop('distance', axis = 1)"
   ]
  },
  {
   "cell_type": "markdown",
   "id": "4e597adc",
   "metadata": {},
   "source": [
    "#### county_location"
   ]
  },
  {
   "cell_type": "markdown",
   "id": "fb8cc39c",
   "metadata": {},
   "source": [
    "Виновность водителя никак не зависит от штата проишествия. Удаляем"
   ]
  },
  {
   "cell_type": "code",
   "execution_count": 62,
   "id": "18a72cb5",
   "metadata": {},
   "outputs": [],
   "source": [
    "#удалим строки с пропусками в столбце county_location\n",
    "df = df.drop('county_location', axis = 1)"
   ]
  },
  {
   "cell_type": "markdown",
   "id": "19679b37",
   "metadata": {},
   "source": [
    "#### county_city_location"
   ]
  },
  {
   "cell_type": "markdown",
   "id": "66cb3445",
   "metadata": {},
   "source": [
    "Виновность водителя мало зависит от географического положения автомобиля. Удаляем."
   ]
  },
  {
   "cell_type": "code",
   "execution_count": 63,
   "id": "e77ef1da",
   "metadata": {},
   "outputs": [],
   "source": [
    "#удалим строки с пропусками в столбце county_city_location\n",
    "df = df.drop('county_city_location', axis = 1)"
   ]
  },
  {
   "cell_type": "markdown",
   "id": "d130c6a1",
   "metadata": {},
   "source": [
    "#### cellphone_in_use"
   ]
  },
  {
   "cell_type": "code",
   "execution_count": 64,
   "id": "dc0fa91f",
   "metadata": {},
   "outputs": [
    {
     "data": {
      "text/plain": [
       "0.0    102023\n",
       "1.0      2229\n",
       "Name: cellphone_in_use, dtype: int64"
      ]
     },
     "execution_count": 64,
     "metadata": {},
     "output_type": "execute_result"
    }
   ],
   "source": [
    "df['cellphone_in_use'].value_counts()"
   ]
  },
  {
   "cell_type": "markdown",
   "id": "837f2dcd",
   "metadata": {},
   "source": [
    "Наличие телефона в машине и разговор по нему сожет быть причиной аварии. Оставляем признак. Пропуски заполним 0"
   ]
  },
  {
   "cell_type": "code",
   "execution_count": 65,
   "id": "7464704a",
   "metadata": {},
   "outputs": [],
   "source": [
    "df['cellphone_in_use'] = df['cellphone_in_use'].fillna(0)\n",
    "df['cellphone_in_use'] = df['cellphone_in_use'].astype('int')\n",
    "df['cellphone_in_use'] = df['cellphone_in_use'].astype('category')"
   ]
  },
  {
   "cell_type": "markdown",
   "id": "88c11630",
   "metadata": {},
   "source": [
    "#### party_drug_physical"
   ]
  },
  {
   "cell_type": "code",
   "execution_count": 66,
   "id": "0d0d1dc5",
   "metadata": {},
   "outputs": [
    {
     "data": {
      "text/plain": [
       "G                        5800\n",
       "under drug influence     1255\n",
       "sleepy/fatigued           517\n",
       "not applicable            512\n",
       "impairment - physical     170\n",
       "Name: party_drug_physical, dtype: int64"
      ]
     },
     "execution_count": 66,
     "metadata": {},
     "output_type": "execute_result"
    }
   ],
   "source": [
    "df['party_drug_physical'].value_counts()"
   ]
  },
  {
   "cell_type": "markdown",
   "id": "3fd341b1",
   "metadata": {},
   "source": [
    "Мне кажется это один их важнейших факторов. заполним пропуски значением G-Impairment Unknown"
   ]
  },
  {
   "cell_type": "code",
   "execution_count": 67,
   "id": "e7b4b6a0",
   "metadata": {},
   "outputs": [
    {
     "data": {
      "text/plain": [
       "impairment unknown       111680\n",
       "under drug influence       1255\n",
       "sleepy/fatigued             517\n",
       "not applicable              512\n",
       "impairment - physical       170\n",
       "Name: party_drug_physical, dtype: int64"
      ]
     },
     "execution_count": 67,
     "metadata": {},
     "output_type": "execute_result"
    }
   ],
   "source": [
    "#заполним строки с пропусками в столбце party_drug_physical\n",
    "df['party_drug_physical'] = df['party_drug_physical'].fillna('impairment unknown')\n",
    "\n",
    "party_drug_physical_map = {\n",
    "    'G': 'impairment unknown'\n",
    "}\n",
    "\n",
    "df['party_drug_physical'] = df['party_drug_physical'].apply(lambda x: party_drug_physical_map[x] if x in party_drug_physical_map else x)\n",
    "\n",
    "#сменим тип столбца\n",
    "df['party_drug_physical'] = df['party_drug_physical'].astype('category')\n",
    "df['party_drug_physical'].value_counts()"
   ]
  },
  {
   "cell_type": "markdown",
   "id": "dcb54e8c",
   "metadata": {},
   "source": [
    "#### party_sobriety"
   ]
  },
  {
   "cell_type": "code",
   "execution_count": 68,
   "id": "41077d5d",
   "metadata": {},
   "outputs": [
    {
     "data": {
      "text/plain": [
       "had not been drinking                     98572\n",
       "had been drinking, under influence         6293\n",
       "impairment unknown                         5800\n",
       "had been drinking, not under influence      921\n",
       "had been drinking, impairment unknown       524\n",
       "not applicable                              512\n",
       "Name: party_sobriety, dtype: int64"
      ]
     },
     "execution_count": 68,
     "metadata": {},
     "output_type": "execute_result"
    }
   ],
   "source": [
    "df['party_sobriety'].value_counts()"
   ]
  },
  {
   "cell_type": "markdown",
   "id": "bef8d549",
   "metadata": {},
   "source": [
    "Трезвось участника. Этот показатель очень сильно влияет на поведение водителя и может свидетельствовать о виновности или невиновности водителя. Пропуски заполним значением impairment unknown"
   ]
  },
  {
   "cell_type": "code",
   "execution_count": 69,
   "id": "a30791df",
   "metadata": {},
   "outputs": [
    {
     "data": {
      "text/plain": [
       "had not been drinking                     98572\n",
       "impairment unknown                         7312\n",
       "had been drinking, under influence         6293\n",
       "had been drinking, not under influence      921\n",
       "had been drinking, impairment unknown       524\n",
       "not applicable                              512\n",
       "Name: party_sobriety, dtype: int64"
      ]
     },
     "execution_count": 69,
     "metadata": {},
     "output_type": "execute_result"
    }
   ],
   "source": [
    "#заполним строки с пропусками в столбце party_sobriety\n",
    "df['party_sobriety'] = df['party_sobriety'].fillna('impairment unknown')\n",
    "#сменим тип столбца\n",
    "df['party_sobriety'] = df['party_sobriety'].astype('category')\n",
    "df['party_sobriety'].value_counts()"
   ]
  },
  {
   "cell_type": "markdown",
   "id": "36ff2cdc",
   "metadata": {},
   "source": [
    "#### insurance_premium"
   ]
  },
  {
   "cell_type": "code",
   "execution_count": 70,
   "id": "4dce630c",
   "metadata": {},
   "outputs": [
    {
     "data": {
      "text/plain": [
       "count    109306.000000\n",
       "mean         38.609939\n",
       "std          16.351185\n",
       "min           0.000000\n",
       "25%          25.000000\n",
       "50%          36.000000\n",
       "75%          50.000000\n",
       "max         105.000000\n",
       "Name: insurance_premium, dtype: float64"
      ]
     },
     "execution_count": 70,
     "metadata": {},
     "output_type": "execute_result"
    }
   ],
   "source": [
    "df['insurance_premium'].describe()"
   ]
  },
  {
   "cell_type": "code",
   "execution_count": 71,
   "id": "25598c3b",
   "metadata": {},
   "outputs": [
    {
     "data": {
      "image/png": "[encoded data removed]",
      "text/plain": [
       "<Figure size 432x288 with 1 Axes>"
      ]
     },
     "metadata": {
      "needs_background": "light"
     },
     "output_type": "display_data"
    }
   ],
   "source": [
    "df['insurance_premium'].hist()\n",
    "plt.title('insurance_premium histogram')\n",
    "plt.show()"
   ]
  },
  {
   "cell_type": "markdown",
   "id": "da4814f0",
   "metadata": {},
   "source": [
    "Может влиять на поведение водителя. Полное покрытие страховкой может делать водителя более рисковым и наоборот. пропуски заполним нулями."
   ]
  },
  {
   "cell_type": "code",
   "execution_count": 72,
   "id": "90c76d2b",
   "metadata": {},
   "outputs": [],
   "source": [
    "#заполним строки с пропусками в столбце insurance_premium\n",
    "df['insurance_premium'] = df['insurance_premium'].fillna(0.0)"
   ]
  },
  {
   "cell_type": "markdown",
   "id": "502684fd",
   "metadata": {},
   "source": [
    "#### party_type"
   ]
  },
  {
   "cell_type": "markdown",
   "id": "74170897",
   "metadata": {},
   "source": [
    "Тип участника. Мы рассматриваем только машины. Поэтому данный столбец можно удалить."
   ]
  },
  {
   "cell_type": "code",
   "execution_count": 73,
   "id": "9c3cdf36",
   "metadata": {},
   "outputs": [],
   "source": [
    "#удалим строки с пропусками в столбце party_type\n",
    "df = df.drop('party_type', axis = 1)"
   ]
  },
  {
   "cell_type": "markdown",
   "id": "b0dd45fb",
   "metadata": {},
   "source": [
    "#### vehicle_age"
   ]
  },
  {
   "cell_type": "code",
   "execution_count": 74,
   "id": "ee845f3f",
   "metadata": {},
   "outputs": [
    {
     "data": {
      "text/plain": [
       "count    110975.000000\n",
       "mean          4.908538\n",
       "std           3.269856\n",
       "min           0.000000\n",
       "25%           3.000000\n",
       "50%           4.000000\n",
       "75%           7.000000\n",
       "max         161.000000\n",
       "Name: vehicle_age, dtype: float64"
      ]
     },
     "execution_count": 74,
     "metadata": {},
     "output_type": "execute_result"
    }
   ],
   "source": [
    "df['vehicle_age'].describe()"
   ]
  },
  {
   "cell_type": "code",
   "execution_count": 75,
   "id": "021442da",
   "metadata": {},
   "outputs": [
    {
     "data": {
      "image/png": "[encoded data removed]",
      "text/plain": [
       "<Figure size 432x288 with 1 Axes>"
      ]
     },
     "metadata": {
      "needs_background": "light"
     },
     "output_type": "display_data"
    }
   ],
   "source": [
    "df.boxplot(column = 'vehicle_age')\n",
    "plt.title('vehicle_age boxplot')\n",
    "plt.show()"
   ]
  },
  {
   "cell_type": "markdown",
   "id": "fbda8f08",
   "metadata": {},
   "source": [
    "Возраст машины. Честно говоря я не считаю, что возраст машины влияет на виновность в ДТП, но тем не менее по условию заказчика есть требование его использовать. Пропуски заполним медианным значением по столбцу. Все значения старше 12 заменим на 12."
   ]
  },
  {
   "cell_type": "code",
   "execution_count": 76,
   "id": "a8e6fe80",
   "metadata": {},
   "outputs": [],
   "source": [
    "df['vehicle_age'] = df['vehicle_age'].apply(lambda x: 12 if x>12 else x)\n",
    "\n",
    "#заполним строки с пропусками в столбце vehicle_age\n",
    "df['vehicle_age'] = df['vehicle_age'].fillna(df['vehicle_age'].median())"
   ]
  },
  {
   "cell_type": "code",
   "execution_count": 77,
   "id": "4e03e122",
   "metadata": {
    "scrolled": true
   },
   "outputs": [
    {
     "data": {
      "text/plain": [
       "count    114134.000000\n",
       "mean          4.854881\n",
       "std           3.031928\n",
       "min           0.000000\n",
       "25%           3.000000\n",
       "50%           4.000000\n",
       "75%           7.000000\n",
       "max          12.000000\n",
       "Name: vehicle_age, dtype: float64"
      ]
     },
     "execution_count": 77,
     "metadata": {},
     "output_type": "execute_result"
    }
   ],
   "source": [
    "df['vehicle_age'].describe()"
   ]
  },
  {
   "cell_type": "code",
   "execution_count": 78,
   "id": "a4bec9ab",
   "metadata": {},
   "outputs": [],
   "source": [
    "df['vehicle_age'] = df['vehicle_age'].astype('int')\n",
    "df['vehicle_age'] = df['vehicle_age'].astype('category')"
   ]
  },
  {
   "cell_type": "markdown",
   "id": "e74ff70f",
   "metadata": {},
   "source": [
    "#### vehicle_transmission"
   ]
  },
  {
   "cell_type": "code",
   "execution_count": 79,
   "id": "5ca2579c",
   "metadata": {
    "scrolled": false
   },
   "outputs": [],
   "source": [
    "#удалим строки с пропусками в столбце county_city_location\n",
    "df = df.drop('vehicle_transmission', axis = 1)"
   ]
  },
  {
   "cell_type": "markdown",
   "id": "1bfdcf97",
   "metadata": {},
   "source": [
    "Различные типы коробки передач никак не корелируют с виновностью в ДТП."
   ]
  },
  {
   "cell_type": "code",
   "execution_count": 80,
   "id": "b3075178",
   "metadata": {
    "scrolled": false
   },
   "outputs": [
    {
     "name": "stdout",
     "output_type": "stream",
     "text": [
      "<class 'pandas.core.frame.DataFrame'>\n",
      "Int64Index: 114134 entries, 0 to 118410\n",
      "Data columns (total 20 columns):\n",
      " #   Column                       Non-Null Count   Dtype   \n",
      "---  ------                       --------------   -----   \n",
      " 0   at_fault                     114134 non-null  int64   \n",
      " 1   vehicle_type                 114134 non-null  category\n",
      " 2   vehicle_age                  114134 non-null  category\n",
      " 3   insurance_premium            114134 non-null  float64 \n",
      " 4   party_sobriety               114134 non-null  category\n",
      " 5   party_drug_physical          114134 non-null  category\n",
      " 6   cellphone_in_use             114134 non-null  category\n",
      " 7   direction                    114134 non-null  category\n",
      " 8   weather_1                    114134 non-null  category\n",
      " 9   location_type                114134 non-null  category\n",
      " 10  party_count                  114134 non-null  category\n",
      " 11  pcf_violation_category       114134 non-null  category\n",
      " 12  type_of_collision            114134 non-null  category\n",
      " 13  motor_vehicle_involved_with  114134 non-null  category\n",
      " 14  road_surface                 114134 non-null  category\n",
      " 15  road_condition_1             114134 non-null  category\n",
      " 16  lighting                     114134 non-null  category\n",
      " 17  control_device               114134 non-null  category\n",
      " 18  collision_date               114134 non-null  category\n",
      " 19  collision_time               114134 non-null  category\n",
      "dtypes: category(18), float64(1), int64(1)\n",
      "memory usage: 4.6 MB\n",
      "None\n",
      "Пропуски по столбцам:\n",
      "at_fault                       0\n",
      "vehicle_type                   0\n",
      "vehicle_age                    0\n",
      "insurance_premium              0\n",
      "party_sobriety                 0\n",
      "party_drug_physical            0\n",
      "cellphone_in_use               0\n",
      "direction                      0\n",
      "weather_1                      0\n",
      "location_type                  0\n",
      "party_count                    0\n",
      "pcf_violation_category         0\n",
      "type_of_collision              0\n",
      "motor_vehicle_involved_with    0\n",
      "road_surface                   0\n",
      "road_condition_1               0\n",
      "lighting                       0\n",
      "control_device                 0\n",
      "collision_date                 0\n",
      "collision_time                 0\n",
      "dtype: int64\n"
     ]
    }
   ],
   "source": [
    "print(df.info())\n",
    "#проверим на пропуски\n",
    "print('Пропуски по столбцам:')\n",
    "print(df.isna().sum())"
   ]
  },
  {
   "cell_type": "markdown",
   "id": "c4b1d7f9",
   "metadata": {},
   "source": [
    "Для модели будем использовать следующий набор признаков.\n",
    "- **vehicle_type** - тип кузова, Аварийности зависит от паттернов поведения водителя, люди предпочитающие скорость - выбирают купе, а семейные, предпочитающие вместительность,  чаще выбирают minivan. \n",
    "- **collision_time** - время проишествия. От вермени суток аварийность зависит.\n",
    "- **collision_date** - дата проишествия. Важная информация, но она у нас не по всему году. Оставим преобразовав ко дню недели.\n",
    "- **control_device** - устройство управления. Не понятный мне столбец. Оставим на всякий случай. Если будут плохие метрики, можно попробовать удалить.\n",
    "- **lighting** - освещенность, важный фактор, влияет на видимость на дороге.\n",
    "- **road_condition_1** - состояние улицы важнейший фактор влияющий на вероятность ДТП.\n",
    "- **road_surface** - состояние покрытия - важнейший фактор.\n",
    "- **motor_vehicle_involved_with** - объект, с которым произошло ДТП. зависимость виновности в ДТП от объекта с которым произошло столкновение может существовать. Например fixed object не может двигаться и не может быть виновником ДТП.\n",
    "- **type_of_collision** - тип проишествия. Виновность в дтп может зависить от типа столкновения.\n",
    "- **pcf_violation_category** - категория нарушения. Информативный столбец. Некоторые нарушения очевидным образом указывают на виновного.\n",
    "- **party_count** - количество участников. Если участник один, то крайне вероятно, что он виновен\n",
    "- **location_type** - тип дороги. Поведение водителей разнится в зависимости от нахождения на шоссе и в городе.\n",
    "- **weather_1** - погода. Погада важный фактор при вождении.\n",
    "- **intersection** - перекресток является фактором повышающим вероятность аварии.\n",
    "- **direction** - направление движения. Совместно со временем движения может свидетельствовать а том куда светит солнце.\n",
    "- **cellphone_in_use** - Наличие телефона в машине, может стать причиной аварии.\n",
    "- **party_drug_physical** - Состояние участника. Состояние водителя сильно влияет на его вождение.\n",
    "- **party_sobriety** - трезвость участника. Так же сильно влияет на поведение и рекцию вадотеля.\n",
    "- **insurance_premium** - страховая премия. Может влиять на поведение водителя. Полное покрытие страховкой может делать водителя более рисковым и наоборот.\n",
    "- **vehicle_age** - возраст машины нужно использовать по требованию заказчика"
   ]
  },
  {
   "cell_type": "code",
   "execution_count": 81,
   "id": "5cdc98a7",
   "metadata": {},
   "outputs": [
    {
     "data": {
      "text/plain": [
       "(['vehicle_age',\n",
       "  'weather_1',\n",
       "  'control_device',\n",
       "  'direction',\n",
       "  'party_drug_physical',\n",
       "  'type_of_collision',\n",
       "  'road_condition_1',\n",
       "  'location_type',\n",
       "  'collision_time',\n",
       "  'party_count',\n",
       "  'party_sobriety',\n",
       "  'pcf_violation_category',\n",
       "  'motor_vehicle_involved_with',\n",
       "  'collision_date',\n",
       "  'vehicle_type',\n",
       "  'road_surface',\n",
       "  'cellphone_in_use',\n",
       "  'lighting'],\n",
       " ['insurance_premium'])"
      ]
     },
     "execution_count": 81,
     "metadata": {},
     "output_type": "execute_result"
    }
   ],
   "source": [
    "target = ['at_fault']\n",
    "numeric = ['insurance_premium']\n",
    "category = list(set(df.columns) - set(numeric) - set(target))\n",
    "category, numeric"
   ]
  },
  {
   "cell_type": "markdown",
   "id": "692ee5e9",
   "metadata": {},
   "source": [
    "Нормализуем числовые данные, обработаем категориальные."
   ]
  },
  {
   "cell_type": "code",
   "execution_count": 82,
   "id": "160ff570",
   "metadata": {},
   "outputs": [],
   "source": [
    "from sklearn.preprocessing import StandardScaler\n",
    "from sklearn.preprocessing import OneHotEncoder\n",
    "\n",
    "from sklearn.model_selection import train_test_split\n",
    "\n",
    "import torch\n",
    "import torch.nn as nn"
   ]
  },
  {
   "cell_type": "code",
   "execution_count": 83,
   "id": "2ae00828",
   "metadata": {
    "scrolled": false
   },
   "outputs": [
    {
     "name": "stdout",
     "output_type": "stream",
     "text": [
      "X - size: (114134, 19)\n",
      "X - Train size: (79893, 19)\n",
      "X - Test size: (17120, 19)\n",
      "X - Validation size: (17121, 19)\n",
      "y - size: (114134, 1)\n",
      "y - Train size: (79893, 1)\n",
      "y - Test size: (17120, 1)\n",
      "y - Validation size: (17121, 1)\n"
     ]
    }
   ],
   "source": [
    "#Разделим данные на признаки а целефой столббец\n",
    "X = df.drop(target, axis = 1)\n",
    "y = df[target]\n",
    "\n",
    "#разделим данные на трейн и тест\n",
    "X_train, X_test, y_train, y_test = train_test_split(X, y, test_size = 0.3, random_state = 42)\n",
    "X_test, X_val, y_test, y_val = train_test_split(X_test, y_test, test_size = 0.5, random_state = 42)\n",
    "print('X - size:', X.shape)\n",
    "print('X - Train size:', X_train.shape)\n",
    "print('X - Test size:', X_test.shape)\n",
    "print('X - Validation size:', X_val.shape)\n",
    "print('y - size:', y.shape)\n",
    "print('y - Train size:', y_train.shape)\n",
    "print('y - Test size:', y_test.shape)\n",
    "print('y - Validation size:', y_val.shape)"
   ]
  },
  {
   "cell_type": "code",
   "execution_count": 84,
   "id": "c73be2ce",
   "metadata": {},
   "outputs": [],
   "source": [
    "#отключим предупреждения\n",
    "pd.options.mode.chained_assignment = None\n",
    "\n",
    "#инициализация StandardScaler\n",
    "scaler = StandardScaler()\n",
    "#скалер обучаем только на трейне\n",
    "scaler.fit(X_train[numeric])\n",
    "X_train[numeric] = scaler.transform(X_train[numeric])\n",
    "X_test[numeric] = scaler.transform(X_test[numeric])\n",
    "X_val[numeric] = scaler.transform(X_val[numeric])"
   ]
  },
  {
   "cell_type": "markdown",
   "id": "95bb9c57",
   "metadata": {},
   "source": [
    "Некоторые алгоритмы могут работать с категориальными данными. Для них оставим как есть, для остальных обработаем категории."
   ]
  },
  {
   "cell_type": "code",
   "execution_count": 85,
   "id": "5e9cd997",
   "metadata": {},
   "outputs": [],
   "source": [
    "X_train_c = X_train.copy()\n",
    "X_test_c = X_test.copy()\n",
    "X_val_c = X_val.copy()"
   ]
  },
  {
   "cell_type": "code",
   "execution_count": 86,
   "id": "e0d3b851",
   "metadata": {
    "scrolled": false
   },
   "outputs": [
    {
     "name": "stdout",
     "output_type": "stream",
     "text": [
      "X - Train size: (79893, 105)\n",
      "X - Test size: (17120, 105)\n",
      "X - Val size: (17121, 105)\n"
     ]
    }
   ],
   "source": [
    "#инициализация OneHotEncoder\n",
    "enc = OneHotEncoder(handle_unknown='error', sparse = 'False', drop='first')\n",
    "#OneHotEncoder обучаем только на трейне\n",
    "enc.fit(X_train[category])\n",
    "#получим закодированные категории\n",
    "X_train_cat =pd.DataFrame(enc.transform(X_train[category]).toarray(), index = X_train.index)\n",
    "X_test_cat =pd.DataFrame(enc.transform(X_test[category]).toarray(), index = X_test.index)\n",
    "X_val_cat =pd.DataFrame(enc.transform(X_val[category]).toarray(), index = X_val.index)\n",
    "\n",
    "#объединим столбцы с числовыми признаками и столбцы с закодированными категориями\n",
    "X_train =  X_train.drop(category, axis = 1).join(X_train_cat)\n",
    "X_test = X_test.drop(category, axis = 1).join(X_test_cat)\n",
    "X_val = X_val.drop(category, axis = 1).join(X_val_cat)\n",
    "\n",
    "#Проверим размерности признаков\n",
    "print('X - Train size:', X_train.shape)\n",
    "print('X - Test size:', X_test.shape)\n",
    "print('X - Val size:', X_val.shape)"
   ]
  },
  {
   "cell_type": "code",
   "execution_count": 87,
   "id": "ea7e1e53",
   "metadata": {},
   "outputs": [],
   "source": [
    "#преобразуем все признаки в тензоры с типом FloatTensor\n",
    "X_train_ = torch.FloatTensor(X_train.reset_index(drop=True).values)\n",
    "X_test_ = torch.FloatTensor(X_test.reset_index(drop=True).values)\n",
    "X_val_ = torch.FloatTensor(X_val.reset_index(drop=True).values)\n",
    "y_train_ = torch.FloatTensor(y_train.values)\n",
    "y_test_ = torch.FloatTensor(y_test.values)\n",
    "y_val_ = torch.FloatTensor(y_val.values)"
   ]
  },
  {
   "cell_type": "markdown",
   "id": "e6119537",
   "metadata": {},
   "source": [
    "### Вывод"
   ]
  },
  {
   "cell_type": "markdown",
   "id": "43f2f156",
   "metadata": {},
   "source": [
    "Признаки отобраны. Числовые данные нормализированы, категориальные обработаны. Пропуски заполнены и удалены по необходимости. Тензоры преобразованны."
   ]
  },
  {
   "cell_type": "markdown",
   "id": "11dd98d2",
   "metadata": {},
   "source": [
    "## Выбор модели"
   ]
  },
  {
   "cell_type": "markdown",
   "id": "0ec7f05d",
   "metadata": {},
   "source": [
    "### LogisticRegression"
   ]
  },
  {
   "cell_type": "markdown",
   "id": "e408b485",
   "metadata": {},
   "source": [
    "Начнем с LogisticRegression."
   ]
  },
  {
   "cell_type": "code",
   "execution_count": 89,
   "id": "932dede6",
   "metadata": {},
   "outputs": [],
   "source": [
    "from sklearn.linear_model import LogisticRegression\n",
    "from sklearn.metrics import f1_score, confusion_matrix, roc_auc_score, roc_curve\n",
    "import optuna"
   ]
  },
  {
   "cell_type": "code",
   "execution_count": 90,
   "id": "2bbb45a5",
   "metadata": {
    "scrolled": true
   },
   "outputs": [
    {
     "data": {
      "text/plain": [
       "0.7523121731905726"
      ]
     },
     "execution_count": 90,
     "metadata": {},
     "output_type": "execute_result"
    }
   ],
   "source": [
    "lr_model = LogisticRegression(C = 0.5, random_state=42, class_weight = 'balanced', penalty = 'l1', solver = 'liblinear', max_iter = 1000)\n",
    "lr_model.fit(X_train, y_train.values.ravel())\n",
    "lr_model.predict_proba(X_test)[:,1]\n",
    "roc_auc_score(y_test.values.ravel(), lr_model.predict_proba(X_test)[:,1])"
   ]
  },
  {
   "cell_type": "code",
   "execution_count": 91,
   "id": "e80aae93",
   "metadata": {},
   "outputs": [
    {
     "data": {
      "text/plain": [
       "0.7541913174719705"
      ]
     },
     "execution_count": 91,
     "metadata": {},
     "output_type": "execute_result"
    }
   ],
   "source": [
    "roc_auc_score(y_val.values.ravel(), lr_model.predict_proba(X_val)[:,1])"
   ]
  },
  {
   "cell_type": "markdown",
   "id": "9dca53e9",
   "metadata": {},
   "source": [
    "Для старта качество более менее. Попробуем улучшить качество с помощью Optuna."
   ]
  },
  {
   "cell_type": "code",
   "execution_count": 92,
   "id": "d9769374",
   "metadata": {},
   "outputs": [],
   "source": [
    "def objective_lr(trial):\n",
    "\n",
    "    param = {     \n",
    "        'C' : trial.suggest_float(\"C\", 0.1, 100, log=True),\n",
    "        'penalty' : trial.suggest_categorical('penalty', [\"l1\", \"l2\"]),\n",
    "        'max_iter' : trial.suggest_int('max_iter', 100, 1000, log=True),\n",
    "    }\n",
    "\n",
    "    model = LogisticRegression(random_state=42, class_weight = 'balanced', solver = 'liblinear', **param)\n",
    "    model.fit(X_train, y_train.values.ravel())\n",
    "\n",
    "    accuracy = roc_auc_score(y_test.values.ravel(), model.predict_proba(X_test)[:, 1])\n",
    "\n",
    "    return accuracy"
   ]
  },
  {
   "cell_type": "code",
   "execution_count": 93,
   "id": "2864ccac",
   "metadata": {},
   "outputs": [
    {
     "name": "stderr",
     "output_type": "stream",
     "text": [
      "\u001b[32m[I 2022-10-06 00:22:55,206]\u001b[0m A new study created in memory with name: no-name-d6e9c1cb-9887-472d-8552-3d5ac719165f\u001b[0m\n",
      "C:\\Users\\72090\\AppData\\Roaming\\Python\\Python39\\site-packages\\optuna\\study\\study.py:393: FutureWarning: `n_jobs` argument has been deprecated in v2.7.0. This feature will be removed in v4.0.0. See https://github.com/optuna/optuna/releases/tag/v2.7.0.\n",
      "  warnings.warn(\n",
      "\u001b[32m[I 2022-10-06 00:23:07,809]\u001b[0m Trial 3 finished with value: 0.7521706551609701 and parameters: {'C': 99.24154544773505, 'penalty': 'l2', 'max_iter': 744}. Best is trial 3 with value: 0.7521706551609701.\u001b[0m\n",
      "\u001b[32m[I 2022-10-06 00:23:10,813]\u001b[0m Trial 4 finished with value: 0.7511095643402719 and parameters: {'C': 0.11458720078824249, 'penalty': 'l2', 'max_iter': 637}. Best is trial 3 with value: 0.7521706551609701.\u001b[0m\n",
      "\u001b[32m[I 2022-10-06 00:28:59,904]\u001b[0m Trial 2 finished with value: 0.7523700264731144 and parameters: {'C': 0.2950940279038015, 'penalty': 'l1', 'max_iter': 886}. Best is trial 2 with value: 0.7523700264731144.\u001b[0m\n",
      "\u001b[32m[I 2022-10-06 00:29:03,512]\u001b[0m Trial 6 finished with value: 0.7517103347351217 and parameters: {'C': 0.3012922285135012, 'penalty': 'l2', 'max_iter': 247}. Best is trial 2 with value: 0.7523700264731144.\u001b[0m\n",
      "\u001b[32m[I 2022-10-06 00:29:10,926]\u001b[0m Trial 7 finished with value: 0.7521348751308442 and parameters: {'C': 8.551316945053436, 'penalty': 'l2', 'max_iter': 100}. Best is trial 2 with value: 0.7523700264731144.\u001b[0m\n",
      "\u001b[32m[I 2022-10-06 00:32:01,102]\u001b[0m Trial 1 finished with value: 0.7522341773805468 and parameters: {'C': 0.9399724927658293, 'penalty': 'l1', 'max_iter': 107}. Best is trial 2 with value: 0.7523700264731144.\u001b[0m\n",
      "\u001b[32m[I 2022-10-06 00:33:38,742]\u001b[0m Trial 0 finished with value: 0.7522185261848201 and parameters: {'C': 1.2929490802268528, 'penalty': 'l1', 'max_iter': 250}. Best is trial 2 with value: 0.7523700264731144.\u001b[0m\n",
      "\u001b[32m[I 2022-10-06 00:37:57,968]\u001b[0m Trial 5 finished with value: 0.7521293978969943 and parameters: {'C': 20.425661650195476, 'penalty': 'l1', 'max_iter': 776}. Best is trial 2 with value: 0.7523700264731144.\u001b[0m\n",
      "C:\\ProgramData\\Anaconda3\\lib\\site-packages\\sklearn\\svm\\_base.py:985: ConvergenceWarning: Liblinear failed to converge, increase the number of iterations.\n",
      "  warnings.warn(\"Liblinear failed to converge, increase \"\n",
      "\u001b[32m[I 2022-10-06 00:39:00,935]\u001b[0m Trial 8 finished with value: 0.7521932350575173 and parameters: {'C': 2.186567116257706, 'penalty': 'l1', 'max_iter': 118}. Best is trial 2 with value: 0.7523700264731144.\u001b[0m\n",
      "\u001b[32m[I 2022-10-06 00:39:38,670]\u001b[0m Trial 9 finished with value: 0.7521992052424139 and parameters: {'C': 1.6499664001693328, 'penalty': 'l1', 'max_iter': 227}. Best is trial 2 with value: 0.7523700264731144.\u001b[0m\n"
     ]
    },
    {
     "name": "stdout",
     "output_type": "stream",
     "text": [
      "Wall time: 16min 43s\n"
     ]
    }
   ],
   "source": [
    "%%time\n",
    "study_lr = optuna.create_study(direction='maximize')\n",
    "study_lr.optimize(objective_lr, n_trials=100, timeout=600, n_jobs=-1)"
   ]
  },
  {
   "cell_type": "markdown",
   "id": "bc93758e",
   "metadata": {},
   "source": [
    "Качество при подборе параметров почти не увеличилось. Проведем проверку подобранных параметров."
   ]
  },
  {
   "cell_type": "code",
   "execution_count": 94,
   "id": "745438c5",
   "metadata": {
    "scrolled": true
   },
   "outputs": [
    {
     "data": {
      "text/plain": [
       "{'C': 0.2950940279038015, 'penalty': 'l1', 'max_iter': 886}"
      ]
     },
     "execution_count": 94,
     "metadata": {},
     "output_type": "execute_result"
    }
   ],
   "source": [
    "best_params_lr = study_lr.best_trial.params\n",
    "best_params_lr"
   ]
  },
  {
   "cell_type": "code",
   "execution_count": 95,
   "id": "29b736de",
   "metadata": {},
   "outputs": [
    {
     "data": {
      "text/plain": [
       "0.7542548092022463"
      ]
     },
     "execution_count": 95,
     "metadata": {},
     "output_type": "execute_result"
    }
   ],
   "source": [
    "model = LogisticRegression(random_state=42,\n",
    "                           class_weight = 'balanced',\n",
    "                           solver = 'liblinear',\n",
    "                           **best_params_lr)\n",
    "model.fit(X_train, y_train.values.ravel())\n",
    "\n",
    "roc_auc_score(y_val.values.ravel(), model.predict_proba(X_val)[:, 1])"
   ]
  },
  {
   "cell_type": "markdown",
   "id": "c5da2b1e",
   "metadata": {},
   "source": [
    "При подборе гиперпараметров качество толком не увеличилось. Перейдем к следующей модели."
   ]
  },
  {
   "cell_type": "markdown",
   "id": "9a89b184",
   "metadata": {},
   "source": [
    "### NN"
   ]
  },
  {
   "cell_type": "markdown",
   "id": "b8f4c8d6",
   "metadata": {},
   "source": [
    "От идеи обучать нейросеть пришлось отказаться. Среднее время эпохи выходило порядка 15 минут. Обучение даже в 50 эпох растягивается к сожалению на неприемлимое время. А одна две дают качество на уровне Логистической регрессии."
   ]
  },
  {
   "cell_type": "markdown",
   "id": "981dffe0",
   "metadata": {},
   "source": [
    "### LightGBM"
   ]
  },
  {
   "cell_type": "markdown",
   "id": "9c4584e9",
   "metadata": {},
   "source": [
    "Попробуем LightGBM."
   ]
  },
  {
   "cell_type": "code",
   "execution_count": 96,
   "id": "4fc760c2",
   "metadata": {},
   "outputs": [],
   "source": [
    "import lightgbm as lgb"
   ]
  },
  {
   "cell_type": "code",
   "execution_count": 97,
   "id": "a73228ea",
   "metadata": {},
   "outputs": [],
   "source": [
    "def objective_lgbm(trial):\n",
    "\n",
    "    param = {     \n",
    "        'max_depth' : trial.suggest_int(\"max_depth\", 3, 10),\n",
    "        'n_estimators' : trial.suggest_int('n_estimators', 500, 4000, log=True),\n",
    "        'learning_rate' : trial.suggest_float('learning_rate', 0.01, 0.4, log=True),\n",
    "        'num_leaves' : trial.suggest_int(\"num_leaves\", 3, 20)\n",
    "        ###\n",
    "    }\n",
    "\n",
    "    model = lgb.LGBMClassifier(n_jobs=-1, random_state = 42,  **param)\n",
    "    model.fit(X_train_c, y_train.values.ravel())\n",
    "\n",
    "    accuracy = roc_auc_score(y_test.values.ravel(), model.predict_proba(X_test_c)[:, 1])\n",
    "\n",
    "    return accuracy"
   ]
  },
  {
   "cell_type": "code",
   "execution_count": 98,
   "id": "74f6bd7f",
   "metadata": {
    "scrolled": false
   },
   "outputs": [
    {
     "name": "stderr",
     "output_type": "stream",
     "text": [
      "\u001b[32m[I 2022-10-06 00:41:12,221]\u001b[0m A new study created in memory with name: no-name-e046f4f0-98b4-4ed7-ab62-4a94da698dd5\u001b[0m\n",
      "C:\\Users\\72090\\AppData\\Roaming\\Python\\Python39\\site-packages\\optuna\\study\\study.py:393: FutureWarning: `n_jobs` argument has been deprecated in v2.7.0. This feature will be removed in v4.0.0. See https://github.com/optuna/optuna/releases/tag/v2.7.0.\n",
      "  warnings.warn(\n",
      "\u001b[32m[I 2022-10-06 00:41:21,158]\u001b[0m Trial 2 finished with value: 0.7826549258872748 and parameters: {'max_depth': 3, 'n_estimators': 675, 'learning_rate': 0.08481584997429716, 'num_leaves': 10}. Best is trial 2 with value: 0.7826549258872748.\u001b[0m\n",
      "\u001b[32m[I 2022-10-06 00:41:27,752]\u001b[0m Trial 1 finished with value: 0.7810487681399824 and parameters: {'max_depth': 7, 'n_estimators': 2134, 'learning_rate': 0.08408335028108907, 'num_leaves': 3}. Best is trial 2 with value: 0.7826549258872748.\u001b[0m\n",
      "\u001b[32m[I 2022-10-06 00:41:29,068]\u001b[0m Trial 0 finished with value: 0.7837877616248675 and parameters: {'max_depth': 7, 'n_estimators': 561, 'learning_rate': 0.03891676052045245, 'num_leaves': 19}. Best is trial 0 with value: 0.7837877616248675.\u001b[0m\n",
      "\u001b[32m[I 2022-10-06 00:41:38,435]\u001b[0m Trial 6 finished with value: 0.7775081677880482 and parameters: {'max_depth': 7, 'n_estimators': 656, 'learning_rate': 0.3301367192090621, 'num_leaves': 10}. Best is trial 0 with value: 0.7837877616248675.\u001b[0m\n",
      "\u001b[32m[I 2022-10-06 00:41:39,828]\u001b[0m Trial 4 finished with value: 0.7768433548364058 and parameters: {'max_depth': 10, 'n_estimators': 1349, 'learning_rate': 0.31016151239241757, 'num_leaves': 8}. Best is trial 0 with value: 0.7837877616248675.\u001b[0m\n",
      "\u001b[32m[I 2022-10-06 00:41:45,305]\u001b[0m Trial 5 finished with value: 0.7820494724574831 and parameters: {'max_depth': 8, 'n_estimators': 1570, 'learning_rate': 0.12370509051325054, 'num_leaves': 6}. Best is trial 0 with value: 0.7837877616248675.\u001b[0m\n",
      "\u001b[32m[I 2022-10-06 00:41:48,385]\u001b[0m Trial 8 finished with value: 0.78282576081106 and parameters: {'max_depth': 3, 'n_estimators': 691, 'learning_rate': 0.08270408194419024, 'num_leaves': 14}. Best is trial 0 with value: 0.7837877616248675.\u001b[0m\n",
      "\u001b[32m[I 2022-10-06 00:41:55,184]\u001b[0m Trial 9 finished with value: 0.7775488225563008 and parameters: {'max_depth': 10, 'n_estimators': 936, 'learning_rate': 0.30272854343520295, 'num_leaves': 6}. Best is trial 0 with value: 0.7837877616248675.\u001b[0m\n",
      "\u001b[32m[I 2022-10-06 00:42:01,202]\u001b[0m Trial 3 finished with value: 0.7779419030900966 and parameters: {'max_depth': 8, 'n_estimators': 2579, 'learning_rate': 0.21277406659395628, 'num_leaves': 12}. Best is trial 0 with value: 0.7837877616248675.\u001b[0m\n",
      "\u001b[32m[I 2022-10-06 00:42:09,282]\u001b[0m Trial 11 finished with value: 0.7816219058900584 and parameters: {'max_depth': 9, 'n_estimators': 537, 'learning_rate': 0.013124835399202344, 'num_leaves': 16}. Best is trial 0 with value: 0.7837877616248675.\u001b[0m\n",
      "\u001b[32m[I 2022-10-06 00:42:13,575]\u001b[0m Trial 12 finished with value: 0.7813248549587397 and parameters: {'max_depth': 5, 'n_estimators': 681, 'learning_rate': 0.021441217177913238, 'num_leaves': 13}. Best is trial 0 with value: 0.7837877616248675.\u001b[0m\n",
      "\u001b[32m[I 2022-10-06 00:42:26,797]\u001b[0m Trial 10 finished with value: 0.7824221366021027 and parameters: {'max_depth': 9, 'n_estimators': 3607, 'learning_rate': 0.03934704286088185, 'num_leaves': 6}. Best is trial 0 with value: 0.7837877616248675.\u001b[0m\n",
      "\u001b[32m[I 2022-10-06 00:42:34,880]\u001b[0m Trial 14 finished with value: 0.7829704077104993 and parameters: {'max_depth': 5, 'n_estimators': 1018, 'learning_rate': 0.03808663190556709, 'num_leaves': 20}. Best is trial 0 with value: 0.7837877616248675.\u001b[0m\n",
      "\u001b[32m[I 2022-10-06 00:42:39,926]\u001b[0m Trial 7 finished with value: 0.7850438762033414 and parameters: {'max_depth': 10, 'n_estimators': 2307, 'learning_rate': 0.022953460147270968, 'num_leaves': 19}. Best is trial 7 with value: 0.7850438762033414.\u001b[0m\n",
      "\u001b[32m[I 2022-10-06 00:42:47,206]\u001b[0m Trial 15 finished with value: 0.7838110604083574 and parameters: {'max_depth': 5, 'n_estimators': 995, 'learning_rate': 0.03737361123827876, 'num_leaves': 20}. Best is trial 7 with value: 0.7850438762033414.\u001b[0m\n",
      "\u001b[32m[I 2022-10-06 00:42:55,768]\u001b[0m Trial 16 finished with value: 0.7848979558470319 and parameters: {'max_depth': 5, 'n_estimators': 1023, 'learning_rate': 0.035578491812150045, 'num_leaves': 20}. Best is trial 7 with value: 0.7850438762033414.\u001b[0m\n",
      "\u001b[32m[I 2022-10-06 00:43:21,257]\u001b[0m Trial 13 finished with value: 0.7812985026173784 and parameters: {'max_depth': 5, 'n_estimators': 3416, 'learning_rate': 0.025834764143586302, 'num_leaves': 20}. Best is trial 7 with value: 0.7850438762033414.\u001b[0m\n",
      "\u001b[32m[I 2022-10-06 00:43:26,990]\u001b[0m Trial 17 finished with value: 0.7822914634955235 and parameters: {'max_depth': 5, 'n_estimators': 2209, 'learning_rate': 0.025523036693531374, 'num_leaves': 20}. Best is trial 7 with value: 0.7850438762033414.\u001b[0m\n",
      "\u001b[32m[I 2022-10-06 00:43:30,718]\u001b[0m Trial 18 finished with value: 0.7820523137725428 and parameters: {'max_depth': 5, 'n_estimators': 1979, 'learning_rate': 0.010311174909409629, 'num_leaves': 17}. Best is trial 7 with value: 0.7850438762033414.\u001b[0m\n",
      "\u001b[32m[I 2022-10-06 00:43:38,004]\u001b[0m Trial 19 finished with value: 0.7826116694329437 and parameters: {'max_depth': 4, 'n_estimators': 2073, 'learning_rate': 0.011571532016991248, 'num_leaves': 17}. Best is trial 7 with value: 0.7850438762033414.\u001b[0m\n",
      "\u001b[32m[I 2022-10-06 00:43:54,102]\u001b[0m Trial 22 finished with value: 0.7822772843063941 and parameters: {'max_depth': 4, 'n_estimators': 1318, 'learning_rate': 0.021061178058599885, 'num_leaves': 17}. Best is trial 7 with value: 0.7850438762033414.\u001b[0m\n",
      "\u001b[32m[I 2022-10-06 00:43:56,300]\u001b[0m Trial 21 finished with value: 0.7814971892752913 and parameters: {'max_depth': 4, 'n_estimators': 1451, 'learning_rate': 0.01267443326722377, 'num_leaves': 17}. Best is trial 7 with value: 0.7850438762033414.\u001b[0m\n",
      "\u001b[32m[I 2022-10-06 00:44:00,476]\u001b[0m Trial 20 finished with value: 0.7818921936874771 and parameters: {'max_depth': 4, 'n_estimators': 1791, 'learning_rate': 0.011083921401722225, 'num_leaves': 17}. Best is trial 7 with value: 0.7850438762033414.\u001b[0m\n",
      "\u001b[32m[I 2022-10-06 00:44:06,721]\u001b[0m Trial 23 finished with value: 0.7828170793954075 and parameters: {'max_depth': 6, 'n_estimators': 1388, 'learning_rate': 0.017909087756315407, 'num_leaves': 15}. Best is trial 7 with value: 0.7850438762033414.\u001b[0m\n",
      "\u001b[32m[I 2022-10-06 00:44:14,241]\u001b[0m Trial 25 finished with value: 0.7836988181936839 and parameters: {'max_depth': 6, 'n_estimators': 973, 'learning_rate': 0.05935313641131136, 'num_leaves': 15}. Best is trial 7 with value: 0.7850438762033414.\u001b[0m\n",
      "\u001b[32m[I 2022-10-06 00:44:15,455]\u001b[0m Trial 24 finished with value: 0.7838682153435833 and parameters: {'max_depth': 6, 'n_estimators': 1032, 'learning_rate': 0.04398175537596799, 'num_leaves': 15}. Best is trial 7 with value: 0.7850438762033414.\u001b[0m\n",
      "\u001b[32m[I 2022-10-06 00:44:17,830]\u001b[0m Trial 26 finished with value: 0.7846028151010185 and parameters: {'max_depth': 6, 'n_estimators': 980, 'learning_rate': 0.05559760814911124, 'num_leaves': 15}. Best is trial 7 with value: 0.7850438762033414.\u001b[0m\n",
      "\u001b[32m[I 2022-10-06 00:44:29,086]\u001b[0m Trial 27 finished with value: 0.7831855808423012 and parameters: {'max_depth': 6, 'n_estimators': 992, 'learning_rate': 0.05571601585641119, 'num_leaves': 19}. Best is trial 7 with value: 0.7850438762033414.\u001b[0m\n",
      "\u001b[32m[I 2022-10-06 00:44:34,785]\u001b[0m Trial 28 finished with value: 0.7832267011754308 and parameters: {'max_depth': 6, 'n_estimators': 1126, 'learning_rate': 0.05485201491061068, 'num_leaves': 19}. Best is trial 7 with value: 0.7850438762033414.\u001b[0m\n",
      "\u001b[32m[I 2022-10-06 00:44:44,338]\u001b[0m Trial 31 finished with value: 0.7838060692790114 and parameters: {'max_depth': 8, 'n_estimators': 816, 'learning_rate': 0.028125576816989656, 'num_leaves': 18}. Best is trial 7 with value: 0.7850438762033414.\u001b[0m\n",
      "\u001b[32m[I 2022-10-06 00:44:49,511]\u001b[0m Trial 32 finished with value: 0.7834023012926655 and parameters: {'max_depth': 8, 'n_estimators': 782, 'learning_rate': 0.029257132895348453, 'num_leaves': 18}. Best is trial 7 with value: 0.7850438762033414.\u001b[0m\n",
      "\u001b[32m[I 2022-10-06 00:44:58,462]\u001b[0m Trial 33 finished with value: 0.7831306921125807 and parameters: {'max_depth': 9, 'n_estimators': 803, 'learning_rate': 0.11695855487642166, 'num_leaves': 18}. Best is trial 7 with value: 0.7850438762033414.\u001b[0m\n",
      "\u001b[32m[I 2022-10-06 00:45:04,911]\u001b[0m Trial 29 finished with value: 0.7810642413256089 and parameters: {'max_depth': 6, 'n_estimators': 2890, 'learning_rate': 0.06294731265493388, 'num_leaves': 18}. Best is trial 7 with value: 0.7850438762033414.\u001b[0m\n",
      "\u001b[32m[I 2022-10-06 00:45:10,892]\u001b[0m Trial 30 finished with value: 0.7841204830416351 and parameters: {'max_depth': 8, 'n_estimators': 2749, 'learning_rate': 0.056205200985679445, 'num_leaves': 18}. Best is trial 7 with value: 0.7850438762033414.\u001b[0m\n",
      "\u001b[32m[I 2022-10-06 00:45:22,220]\u001b[0m Trial 35 finished with value: 0.7830989926216732 and parameters: {'max_depth': 7, 'n_estimators': 1168, 'learning_rate': 0.046927559599304565, 'num_leaves': 15}. Best is trial 7 with value: 0.7850438762033414.\u001b[0m\n",
      "\u001b[32m[I 2022-10-06 00:45:25,748]\u001b[0m Trial 36 finished with value: 0.7847422654748424 and parameters: {'max_depth': 7, 'n_estimators': 1178, 'learning_rate': 0.04663467475407615, 'num_leaves': 15}. Best is trial 7 with value: 0.7850438762033414.\u001b[0m\n",
      "\u001b[32m[I 2022-10-06 00:45:38,973]\u001b[0m Trial 34 finished with value: 0.7825515294052694 and parameters: {'max_depth': 7, 'n_estimators': 2833, 'learning_rate': 0.0466487541445823, 'num_leaves': 15}. Best is trial 7 with value: 0.7850438762033414.\u001b[0m\n",
      "\u001b[32m[I 2022-10-06 00:45:43,487]\u001b[0m Trial 39 finished with value: 0.7826459021445068 and parameters: {'max_depth': 7, 'n_estimators': 1186, 'learning_rate': 0.09177829795999969, 'num_leaves': 12}. Best is trial 7 with value: 0.7850438762033414.\u001b[0m\n",
      "\u001b[32m[I 2022-10-06 00:46:00,239]\u001b[0m Trial 37 finished with value: 0.7834665013199312 and parameters: {'max_depth': 7, 'n_estimators': 2607, 'learning_rate': 0.08266932784120865, 'num_leaves': 19}. Best is trial 7 with value: 0.7850438762033414.\u001b[0m\n",
      "\u001b[32m[I 2022-10-06 00:46:04,630]\u001b[0m Trial 40 finished with value: 0.7836750333056899 and parameters: {'max_depth': 10, 'n_estimators': 1682, 'learning_rate': 0.07801894853609773, 'num_leaves': 12}. Best is trial 7 with value: 0.7850438762033414.\u001b[0m\n",
      "\u001b[32m[I 2022-10-06 00:46:09,199]\u001b[0m Trial 41 finished with value: 0.7824896640489323 and parameters: {'max_depth': 10, 'n_estimators': 1746, 'learning_rate': 0.016063408617207068, 'num_leaves': 10}. Best is trial 7 with value: 0.7850438762033414.\u001b[0m\n",
      "\u001b[32m[I 2022-10-06 00:46:14,764]\u001b[0m Trial 43 finished with value: 0.7801955657300651 and parameters: {'max_depth': 3, 'n_estimators': 833, 'learning_rate': 0.184555633572084, 'num_leaves': 10}. Best is trial 7 with value: 0.7850438762033414.\u001b[0m\n",
      "\u001b[32m[I 2022-10-06 00:46:23,510]\u001b[0m Trial 38 finished with value: 0.7847953741035617 and parameters: {'max_depth': 10, 'n_estimators': 2647, 'learning_rate': 0.07921119636328708, 'num_leaves': 19}. Best is trial 7 with value: 0.7850438762033414.\u001b[0m\n",
      "\u001b[32m[I 2022-10-06 00:46:31,333]\u001b[0m Trial 42 finished with value: 0.7831229212870559 and parameters: {'max_depth': 10, 'n_estimators': 1761, 'learning_rate': 0.016644378269960316, 'num_leaves': 11}. Best is trial 7 with value: 0.7850438762033414.\u001b[0m\n",
      "\u001b[32m[I 2022-10-06 00:46:48,679]\u001b[0m Trial 44 finished with value: 0.7838136620944363 and parameters: {'max_depth': 8, 'n_estimators': 2373, 'learning_rate': 0.03220895092012052, 'num_leaves': 13}. Best is trial 7 with value: 0.7850438762033414.\u001b[0m\n",
      "\u001b[32m[I 2022-10-06 00:46:58,251]\u001b[0m Trial 48 finished with value: 0.7828601167603849 and parameters: {'max_depth': 10, 'n_estimators': 590, 'learning_rate': 0.11871413566991047, 'num_leaves': 16}. Best is trial 7 with value: 0.7850438762033414.\u001b[0m\n",
      "\u001b[32m[I 2022-10-06 00:47:07,230]\u001b[0m Trial 47 finished with value: 0.7837464769747221 and parameters: {'max_depth': 9, 'n_estimators': 2336, 'learning_rate': 0.03296323852754637, 'num_leaves': 13}. Best is trial 7 with value: 0.7850438762033414.\u001b[0m\n",
      "\u001b[32m[I 2022-10-06 00:47:12,890]\u001b[0m Trial 45 finished with value: 0.7843302747911791 and parameters: {'max_depth': 8, 'n_estimators': 3247, 'learning_rate': 0.031869163206633196, 'num_leaves': 14}. Best is trial 7 with value: 0.7850438762033414.\u001b[0m\n",
      "\u001b[32m[I 2022-10-06 00:47:28,559]\u001b[0m Trial 46 finished with value: 0.7834182331966271 and parameters: {'max_depth': 9, 'n_estimators': 3982, 'learning_rate': 0.0339233330768651, 'num_leaves': 13}. Best is trial 7 with value: 0.7850438762033414.\u001b[0m\n",
      "\u001b[32m[I 2022-10-06 00:47:36,787]\u001b[0m Trial 52 finished with value: 0.7841374556200282 and parameters: {'max_depth': 9, 'n_estimators': 875, 'learning_rate': 0.07095603990203105, 'num_leaves': 8}. Best is trial 7 with value: 0.7850438762033414.\u001b[0m\n",
      "\u001b[32m[I 2022-10-06 00:47:38,821]\u001b[0m Trial 51 finished with value: 0.7847646605147471 and parameters: {'max_depth': 9, 'n_estimators': 1204, 'learning_rate': 0.09956245740493924, 'num_leaves': 20}. Best is trial 7 with value: 0.7850438762033414.\u001b[0m\n",
      "\u001b[32m[I 2022-10-06 00:47:57,214]\u001b[0m Trial 53 finished with value: 0.7787652271893613 and parameters: {'max_depth': 5, 'n_estimators': 1263, 'learning_rate': 0.1487597342802548, 'num_leaves': 20}. Best is trial 7 with value: 0.7850438762033414.\u001b[0m\n",
      "\u001b[32m[I 2022-10-06 00:48:03,065]\u001b[0m Trial 49 finished with value: 0.782574122994901 and parameters: {'max_depth': 9, 'n_estimators': 3809, 'learning_rate': 0.0725731857028353, 'num_leaves': 14}. Best is trial 7 with value: 0.7850438762033414.\u001b[0m\n",
      "\u001b[32m[I 2022-10-06 00:48:12,014]\u001b[0m Trial 54 finished with value: 0.7830858404138905 and parameters: {'max_depth': 10, 'n_estimators': 1514, 'learning_rate': 0.10316211904530408, 'num_leaves': 20}. Best is trial 7 with value: 0.7850438762033414.\u001b[0m\n",
      "\u001b[32m[I 2022-10-06 00:48:13,424]\u001b[0m Trial 56 finished with value: 0.7810249900985304 and parameters: {'max_depth': 10, 'n_estimators': 1543, 'learning_rate': 0.09179206757846965, 'num_leaves': 3}. Best is trial 7 with value: 0.7850438762033414.\u001b[0m\n",
      "\u001b[32m[I 2022-10-06 00:48:20,345]\u001b[0m Trial 50 finished with value: 0.7836153999221467 and parameters: {'max_depth': 9, 'n_estimators': 3141, 'learning_rate': 0.07330936772198836, 'num_leaves': 20}. Best is trial 7 with value: 0.7850438762033414.\u001b[0m\n",
      "\u001b[32m[I 2022-10-06 00:48:32,384]\u001b[0m Trial 58 finished with value: 0.7780210080399768 and parameters: {'max_depth': 10, 'n_estimators': 1101, 'learning_rate': 0.39944783912933307, 'num_leaves': 16}. Best is trial 7 with value: 0.7850438762033414.\u001b[0m\n",
      "\u001b[32m[I 2022-10-06 00:48:33,952]\u001b[0m Trial 55 finished with value: 0.7840979716105111 and parameters: {'max_depth': 10, 'n_estimators': 1507, 'learning_rate': 0.10504248657593816, 'num_leaves': 19}. Best is trial 7 with value: 0.7850438762033414.\u001b[0m\n",
      "\u001b[32m[I 2022-10-06 00:48:36,025]\u001b[0m Trial 57 finished with value: 0.7838450603374818 and parameters: {'max_depth': 10, 'n_estimators': 1095, 'learning_rate': 0.15078046273357765, 'num_leaves': 19}. Best is trial 7 with value: 0.7850438762033414.\u001b[0m\n",
      "\u001b[32m[I 2022-10-06 00:48:42,732]\u001b[0m Trial 59 finished with value: 0.7835181174024263 and parameters: {'max_depth': 10, 'n_estimators': 1091, 'learning_rate': 0.022537153704524342, 'num_leaves': 19}. Best is trial 7 with value: 0.7850438762033414.\u001b[0m\n",
      "\u001b[32m[I 2022-10-06 00:48:49,734]\u001b[0m Trial 62 finished with value: 0.7840902281711555 and parameters: {'max_depth': 5, 'n_estimators': 744, 'learning_rate': 0.03990129728355541, 'num_leaves': 19}. Best is trial 7 with value: 0.7850438762033414.\u001b[0m\n",
      "\u001b[32m[I 2022-10-06 00:48:52,531]\u001b[0m Trial 60 finished with value: 0.7830120620739295 and parameters: {'max_depth': 5, 'n_estimators': 892, 'learning_rate': 0.02363950453356181, 'num_leaves': 19}. Best is trial 7 with value: 0.7850438762033414.\u001b[0m\n",
      "\u001b[32m[I 2022-10-06 00:48:52,683]\u001b[0m Trial 61 finished with value: 0.7777583199045253 and parameters: {'max_depth': 5, 'n_estimators': 894, 'learning_rate': 0.14770150029705606, 'num_leaves': 19}. Best is trial 7 with value: 0.7850438762033414.\u001b[0m\n",
      "\u001b[32m[I 2022-10-06 00:49:00,291]\u001b[0m Trial 63 finished with value: 0.7838304087369329 and parameters: {'max_depth': 5, 'n_estimators': 913, 'learning_rate': 0.03986628726657702, 'num_leaves': 16}. Best is trial 7 with value: 0.7850438762033414.\u001b[0m\n",
      "\u001b[32m[I 2022-10-06 00:49:39,085]\u001b[0m Trial 66 finished with value: 0.7828480805389991 and parameters: {'max_depth': 8, 'n_estimators': 3024, 'learning_rate': 0.050570019710540225, 'num_leaves': 14}. Best is trial 7 with value: 0.7850438762033414.\u001b[0m\n",
      "\u001b[32m[I 2022-10-06 00:49:43,588]\u001b[0m Trial 64 finished with value: 0.7833821382255548 and parameters: {'max_depth': 8, 'n_estimators': 3119, 'learning_rate': 0.05072477823752791, 'num_leaves': 14}. Best is trial 7 with value: 0.7850438762033414.\u001b[0m\n",
      "\u001b[32m[I 2022-10-06 00:49:52,097]\u001b[0m Trial 65 finished with value: 0.7846961745519938 and parameters: {'max_depth': 8, 'n_estimators': 3310, 'learning_rate': 0.019672989451563618, 'num_leaves': 14}. Best is trial 7 with value: 0.7850438762033414.\u001b[0m\n",
      "\u001b[32m[I 2022-10-06 00:50:01,586]\u001b[0m Trial 67 finished with value: 0.784265321644259 and parameters: {'max_depth': 8, 'n_estimators': 3280, 'learning_rate': 0.018529779088694433, 'num_leaves': 14}. Best is trial 7 with value: 0.7850438762033414.\u001b[0m\n",
      "\u001b[32m[I 2022-10-06 00:50:09,692]\u001b[0m Trial 68 finished with value: 0.7836818250756639 and parameters: {'max_depth': 8, 'n_estimators': 1299, 'learning_rate': 0.0656527200475927, 'num_leaves': 14}. Best is trial 7 with value: 0.7850438762033414.\u001b[0m\n",
      "\u001b[32m[I 2022-10-06 00:50:18,700]\u001b[0m Trial 70 finished with value: 0.7832068393561818 and parameters: {'max_depth': 9, 'n_estimators': 1270, 'learning_rate': 0.018142957100817148, 'num_leaves': 17}. Best is trial 7 with value: 0.7850438762033414.\u001b[0m\n",
      "\u001b[32m[I 2022-10-06 00:50:22,457]\u001b[0m Trial 71 finished with value: 0.7839111363173413 and parameters: {'max_depth': 6, 'n_estimators': 1238, 'learning_rate': 0.06472025278972776, 'num_leaves': 17}. Best is trial 7 with value: 0.7850438762033414.\u001b[0m\n",
      "\u001b[32m[I 2022-10-06 00:50:41,704]\u001b[0m Trial 72 finished with value: 0.7835498579725877 and parameters: {'max_depth': 6, 'n_estimators': 1917, 'learning_rate': 0.025333000046578104, 'num_leaves': 17}. Best is trial 7 with value: 0.7850438762033414.\u001b[0m\n",
      "\u001b[32m[I 2022-10-06 00:50:54,181]\u001b[0m Trial 69 finished with value: 0.7839992102376512 and parameters: {'max_depth': 9, 'n_estimators': 3389, 'learning_rate': 0.027377777729707967, 'num_leaves': 17}. Best is trial 7 with value: 0.7850438762033414.\u001b[0m\n",
      "\u001b[32m[I 2022-10-06 00:51:25,919]\u001b[0m Trial 73 finished with value: 0.7835792638718205 and parameters: {'max_depth': 6, 'n_estimators': 3627, 'learning_rate': 0.020282370772489067, 'num_leaves': 18}. Best is trial 7 with value: 0.7850438762033414.\u001b[0m\n",
      "\u001b[32m[I 2022-10-06 00:51:34,110]\u001b[0m Trial 74 finished with value: 0.7840578919518129 and parameters: {'max_depth': 7, 'n_estimators': 3599, 'learning_rate': 0.0269672030370094, 'num_leaves': 18}. Best is trial 7 with value: 0.7850438762033414.\u001b[0m\n",
      "\u001b[32m[I 2022-10-06 00:51:38,066]\u001b[0m Trial 75 finished with value: 0.7831419957539387 and parameters: {'max_depth': 7, 'n_estimators': 3514, 'learning_rate': 0.014481380727255813, 'num_leaves': 11}. Best is trial 7 with value: 0.7850438762033414.\u001b[0m\n",
      "\u001b[32m[I 2022-10-06 00:51:52,215]\u001b[0m Trial 76 finished with value: 0.7847879592982372 and parameters: {'max_depth': 7, 'n_estimators': 3620, 'learning_rate': 0.014298417834523895, 'num_leaves': 16}. Best is trial 7 with value: 0.7850438762033414.\u001b[0m\n"
     ]
    },
    {
     "name": "stdout",
     "output_type": "stream",
     "text": [
      "Wall time: 10min 39s\n"
     ]
    }
   ],
   "source": [
    "%%time\n",
    "study_lgbm = optuna.create_study(direction='maximize')\n",
    "study_lgbm.optimize(objective_lgbm, n_trials=500, timeout=600, n_jobs=-1)"
   ]
  },
  {
   "cell_type": "code",
   "execution_count": 99,
   "id": "ed499904",
   "metadata": {},
   "outputs": [
    {
     "data": {
      "text/plain": [
       "{'max_depth': 10,\n",
       " 'n_estimators': 2307,\n",
       " 'learning_rate': 0.022953460147270968,\n",
       " 'num_leaves': 19}"
      ]
     },
     "execution_count": 99,
     "metadata": {},
     "output_type": "execute_result"
    }
   ],
   "source": [
    "best_params_lgbm = study_lgbm.best_trial.params\n",
    "best_params_lgbm"
   ]
  },
  {
   "cell_type": "code",
   "execution_count": 100,
   "id": "82691d38",
   "metadata": {},
   "outputs": [
    {
     "data": {
      "text/plain": [
       "0.7864463634030678"
      ]
     },
     "execution_count": 100,
     "metadata": {},
     "output_type": "execute_result"
    }
   ],
   "source": [
    "model_lgb = lgb.LGBMClassifier(n_jobs=-1, random_state = 42,  **best_params_lgbm)\n",
    "model_lgb.fit(X_train_c, y_train.values.ravel())\n",
    "\n",
    "roc_auc_score(y_val.values.ravel(), model_lgb.predict_proba(X_val_c)[:, 1])"
   ]
  },
  {
   "cell_type": "markdown",
   "id": "06427ab2",
   "metadata": {},
   "source": [
    "В срачнении и первой моделью качество улучшилось. Попробуем третью модель. "
   ]
  },
  {
   "cell_type": "markdown",
   "id": "8dda4282",
   "metadata": {},
   "source": [
    "### CatBoostClassifier"
   ]
  },
  {
   "cell_type": "code",
   "execution_count": 101,
   "id": "909ef1c1",
   "metadata": {},
   "outputs": [],
   "source": [
    "from catboost import CatBoostClassifier"
   ]
  },
  {
   "cell_type": "code",
   "execution_count": 102,
   "id": "7b096faf",
   "metadata": {},
   "outputs": [],
   "source": [
    "def objective(trial):\n",
    "\n",
    "    param = {     \n",
    "        'depth' : trial.suggest_int(\"depth\", 3, 10),\n",
    "        'n_estimators' : trial.suggest_int('n_estimators', 500, 4000, log=True),\n",
    "        'learning_rate' : trial.suggest_float('learning_rate', 0.01, 0.4, log=True)\n",
    "        ###\n",
    "    }\n",
    "\n",
    "    model = CatBoostClassifier(cat_features=category, early_stopping_rounds = 100, loss_function= 'Logloss', random_state = 42,  **param)\n",
    "    model.fit(X_train_c, y_train, eval_set=[(X_test_c, y_test)], verbose=0)\n",
    "\n",
    "    accuracy = roc_auc_score(y_test, model.predict_proba(X_test_c)[:, 1])\n",
    "\n",
    "    return accuracy"
   ]
  },
  {
   "cell_type": "code",
   "execution_count": 103,
   "id": "34d4c0d7",
   "metadata": {
    "scrolled": true
   },
   "outputs": [
    {
     "name": "stderr",
     "output_type": "stream",
     "text": [
      "\u001b[32m[I 2022-10-06 00:52:12,339]\u001b[0m A new study created in memory with name: no-name-88bb6463-06ce-4b68-912a-e462b092f7b8\u001b[0m\n",
      "C:\\Users\\72090\\AppData\\Roaming\\Python\\Python39\\site-packages\\optuna\\study\\study.py:393: FutureWarning: `n_jobs` argument has been deprecated in v2.7.0. This feature will be removed in v4.0.0. See https://github.com/optuna/optuna/releases/tag/v2.7.0.\n",
      "  warnings.warn(\n",
      "Custom logger is already specified. Specify more than one logger at same time is not thread safe.Custom logger is already specified. Specify more than one logger at same time is not thread safe.Custom logger is already specified. Specify more than one logger at same time is not thread safe.\u001b[32m[I 2022-10-06 01:00:14,476]\u001b[0m Trial 0 finished with value: 0.8471146904286599 and parameters: {'depth': 8, 'n_estimators': 1991, 'learning_rate': 0.37594761525648324}. Best is trial 0 with value: 0.8471146904286599.\u001b[0m\n",
      "\u001b[32m[I 2022-10-06 01:15:51,498]\u001b[0m Trial 3 finished with value: 0.8389298202574508 and parameters: {'depth': 8, 'n_estimators': 872, 'learning_rate': 0.021808347072127206}. Best is trial 0 with value: 0.8471146904286599.\u001b[0m\n",
      "\u001b[32m[I 2022-10-06 01:16:35,612]\u001b[0m Trial 4 finished with value: 0.8459542905117167 and parameters: {'depth': 5, 'n_estimators': 745, 'learning_rate': 0.13376518892152994}. Best is trial 0 with value: 0.8471146904286599.\u001b[0m\n",
      "\u001b[32m[I 2022-10-06 01:16:43,013]\u001b[0m Trial 1 finished with value: 0.8553081187777596 and parameters: {'depth': 10, 'n_estimators': 625, 'learning_rate': 0.06670363045070472}. Best is trial 1 with value: 0.8553081187777596.\u001b[0m\n",
      "\u001b[32m[I 2022-10-06 01:16:43,307]\u001b[0m Trial 2 finished with value: 0.8521677604428805 and parameters: {'depth': 8, 'n_estimators': 1029, 'learning_rate': 0.04105585615701534}. Best is trial 1 with value: 0.8553081187777596.\u001b[0m\n"
     ]
    },
    {
     "name": "stdout",
     "output_type": "stream",
     "text": [
      "Wall time: 24min 30s\n"
     ]
    }
   ],
   "source": [
    "%%time\n",
    "study = optuna.create_study(direction='maximize')\n",
    "study.optimize(objective, n_trials=500, timeout=600, n_jobs=-1)"
   ]
  },
  {
   "cell_type": "code",
   "execution_count": 104,
   "id": "5757105e",
   "metadata": {
    "scrolled": true
   },
   "outputs": [
    {
     "data": {
      "text/plain": [
       "{'depth': 10, 'n_estimators': 625, 'learning_rate': 0.06670363045070472}"
      ]
     },
     "execution_count": 104,
     "metadata": {},
     "output_type": "execute_result"
    }
   ],
   "source": [
    "best_params = study.best_trial.params\n",
    "best_params"
   ]
  },
  {
   "cell_type": "code",
   "execution_count": 105,
   "id": "8c5a372e",
   "metadata": {
    "scrolled": false
   },
   "outputs": [
    {
     "name": "stdout",
     "output_type": "stream",
     "text": [
      "0:\tlearn: 0.6662385\ttest: 0.6663349\tbest: 0.6663349 (0)\ttotal: 932ms\tremaining: 9m 41s\n",
      "3:\tlearn: 0.6095509\ttest: 0.6101318\tbest: 0.6101318 (3)\ttotal: 3.3s\tremaining: 8m 31s\n",
      "6:\tlearn: 0.5787793\ttest: 0.5799278\tbest: 0.5799278 (6)\ttotal: 5.49s\tremaining: 8m 4s\n",
      "9:\tlearn: 0.5628110\ttest: 0.5647109\tbest: 0.5647109 (9)\ttotal: 8.1s\tremaining: 8m 18s\n",
      "12:\tlearn: 0.5520691\ttest: 0.5545584\tbest: 0.5545584 (12)\ttotal: 10s\tremaining: 7m 52s\n",
      "15:\tlearn: 0.5438233\ttest: 0.5466329\tbest: 0.5466329 (15)\ttotal: 12.3s\tremaining: 7m 47s\n",
      "18:\tlearn: 0.5378764\ttest: 0.5410395\tbest: 0.5410395 (18)\ttotal: 14.7s\tremaining: 7m 48s\n",
      "21:\tlearn: 0.5330397\ttest: 0.5369287\tbest: 0.5369287 (21)\ttotal: 17.4s\tremaining: 7m 57s\n",
      "24:\tlearn: 0.5293827\ttest: 0.5338101\tbest: 0.5338101 (24)\ttotal: 20s\tremaining: 8m 1s\n",
      "27:\tlearn: 0.5264221\ttest: 0.5312284\tbest: 0.5312284 (27)\ttotal: 22.4s\tremaining: 7m 57s\n",
      "30:\tlearn: 0.5243445\ttest: 0.5294771\tbest: 0.5294771 (30)\ttotal: 25s\tremaining: 7m 58s\n",
      "33:\tlearn: 0.5226549\ttest: 0.5284044\tbest: 0.5284044 (33)\ttotal: 27.6s\tremaining: 7m 59s\n",
      "36:\tlearn: 0.5211300\ttest: 0.5273779\tbest: 0.5273779 (36)\ttotal: 30.3s\tremaining: 8m 2s\n",
      "39:\tlearn: 0.5197976\ttest: 0.5266174\tbest: 0.5266174 (39)\ttotal: 33s\tremaining: 8m 2s\n",
      "42:\tlearn: 0.5185479\ttest: 0.5259278\tbest: 0.5259278 (42)\ttotal: 35.9s\tremaining: 8m 5s\n",
      "45:\tlearn: 0.5166182\ttest: 0.5241662\tbest: 0.5241662 (45)\ttotal: 38.3s\tremaining: 8m 2s\n",
      "48:\tlearn: 0.5148693\ttest: 0.5219856\tbest: 0.5219856 (48)\ttotal: 40.9s\tremaining: 8m\n",
      "51:\tlearn: 0.5130828\ttest: 0.5209244\tbest: 0.5209244 (51)\ttotal: 43.7s\tremaining: 8m 1s\n",
      "54:\tlearn: 0.5120571\ttest: 0.5200472\tbest: 0.5200472 (54)\ttotal: 45.7s\tremaining: 7m 53s\n",
      "57:\tlearn: 0.5114497\ttest: 0.5195948\tbest: 0.5195948 (57)\ttotal: 47.8s\tremaining: 7m 47s\n",
      "60:\tlearn: 0.5101271\ttest: 0.5184514\tbest: 0.5184514 (60)\ttotal: 50.3s\tremaining: 7m 45s\n",
      "63:\tlearn: 0.5089077\ttest: 0.5170611\tbest: 0.5170611 (63)\ttotal: 53s\tremaining: 7m 44s\n",
      "66:\tlearn: 0.5071507\ttest: 0.5159269\tbest: 0.5159269 (66)\ttotal: 55.8s\tremaining: 7m 44s\n",
      "69:\tlearn: 0.5064790\ttest: 0.5156364\tbest: 0.5156364 (69)\ttotal: 58.3s\tremaining: 7m 42s\n",
      "72:\tlearn: 0.5054336\ttest: 0.5153505\tbest: 0.5153505 (72)\ttotal: 1m\tremaining: 7m 39s\n",
      "75:\tlearn: 0.5048405\ttest: 0.5152126\tbest: 0.5152126 (75)\ttotal: 1m 3s\tremaining: 7m 37s\n",
      "78:\tlearn: 0.5040541\ttest: 0.5145475\tbest: 0.5145475 (78)\ttotal: 1m 5s\tremaining: 7m 35s\n",
      "81:\tlearn: 0.5027307\ttest: 0.5129531\tbest: 0.5129531 (81)\ttotal: 1m 8s\tremaining: 7m 33s\n",
      "84:\tlearn: 0.5020886\ttest: 0.5123837\tbest: 0.5123837 (84)\ttotal: 1m 11s\tremaining: 7m 31s\n",
      "87:\tlearn: 0.5011379\ttest: 0.5120350\tbest: 0.5120350 (87)\ttotal: 1m 13s\tremaining: 7m 29s\n",
      "90:\tlearn: 0.5007720\ttest: 0.5119500\tbest: 0.5119469 (89)\ttotal: 1m 15s\tremaining: 7m 23s\n",
      "93:\tlearn: 0.5003110\ttest: 0.5117963\tbest: 0.5117963 (93)\ttotal: 1m 17s\tremaining: 7m 20s\n",
      "96:\tlearn: 0.4998813\ttest: 0.5117481\tbest: 0.5117477 (95)\ttotal: 1m 19s\tremaining: 7m 15s\n",
      "99:\tlearn: 0.4991267\ttest: 0.5116683\tbest: 0.5116683 (99)\ttotal: 1m 22s\tremaining: 7m 13s\n",
      "102:\tlearn: 0.4988910\ttest: 0.5116728\tbest: 0.5116618 (100)\ttotal: 1m 24s\tremaining: 7m 7s\n",
      "105:\tlearn: 0.4976352\ttest: 0.5099767\tbest: 0.5099767 (105)\ttotal: 1m 26s\tremaining: 7m 1s\n",
      "108:\tlearn: 0.4969138\ttest: 0.5090997\tbest: 0.5090997 (108)\ttotal: 1m 28s\tremaining: 6m 58s\n",
      "111:\tlearn: 0.4965185\ttest: 0.5087585\tbest: 0.5087585 (111)\ttotal: 1m 30s\tremaining: 6m 53s\n",
      "114:\tlearn: 0.4959385\ttest: 0.5086650\tbest: 0.5086650 (114)\ttotal: 1m 32s\tremaining: 6m 51s\n",
      "117:\tlearn: 0.4954205\ttest: 0.5085888\tbest: 0.5085888 (117)\ttotal: 1m 35s\tremaining: 6m 49s\n",
      "120:\tlearn: 0.4938140\ttest: 0.5060988\tbest: 0.5060988 (120)\ttotal: 1m 37s\tremaining: 6m 46s\n",
      "123:\tlearn: 0.4931437\ttest: 0.5057765\tbest: 0.5057765 (123)\ttotal: 1m 39s\tremaining: 6m 43s\n",
      "126:\tlearn: 0.4928446\ttest: 0.5057157\tbest: 0.5057003 (124)\ttotal: 1m 41s\tremaining: 6m 39s\n",
      "129:\tlearn: 0.4925042\ttest: 0.5056181\tbest: 0.5056181 (129)\ttotal: 1m 44s\tremaining: 6m 37s\n",
      "132:\tlearn: 0.4919664\ttest: 0.5055272\tbest: 0.5055272 (132)\ttotal: 1m 46s\tremaining: 6m 32s\n",
      "135:\tlearn: 0.4914741\ttest: 0.5054467\tbest: 0.5054467 (135)\ttotal: 1m 48s\tremaining: 6m 30s\n",
      "138:\tlearn: 0.4907907\ttest: 0.5046000\tbest: 0.5046000 (138)\ttotal: 1m 50s\tremaining: 6m 25s\n",
      "141:\tlearn: 0.4904709\ttest: 0.5046045\tbest: 0.5046000 (138)\ttotal: 1m 52s\tremaining: 6m 23s\n",
      "144:\tlearn: 0.4901272\ttest: 0.5044141\tbest: 0.5044141 (144)\ttotal: 1m 54s\tremaining: 6m 19s\n",
      "147:\tlearn: 0.4892555\ttest: 0.5032528\tbest: 0.5032528 (147)\ttotal: 1m 56s\tremaining: 6m 14s\n",
      "150:\tlearn: 0.4888899\ttest: 0.5032440\tbest: 0.5032440 (150)\ttotal: 1m 58s\tremaining: 6m 10s\n",
      "153:\tlearn: 0.4878972\ttest: 0.5025682\tbest: 0.5025682 (153)\ttotal: 2m\tremaining: 6m 8s\n",
      "156:\tlearn: 0.4870037\ttest: 0.5016742\tbest: 0.5016742 (156)\ttotal: 2m 2s\tremaining: 6m 5s\n",
      "159:\tlearn: 0.4857984\ttest: 0.5003727\tbest: 0.5003727 (159)\ttotal: 2m 5s\tremaining: 6m 3s\n",
      "162:\tlearn: 0.4853824\ttest: 0.5003432\tbest: 0.5003432 (162)\ttotal: 2m 6s\tremaining: 5m 59s\n",
      "165:\tlearn: 0.4845734\ttest: 0.4999576\tbest: 0.4999547 (163)\ttotal: 2m 9s\tremaining: 5m 57s\n",
      "168:\tlearn: 0.4834830\ttest: 0.4992090\tbest: 0.4992003 (167)\ttotal: 2m 11s\tremaining: 5m 55s\n",
      "171:\tlearn: 0.4821990\ttest: 0.4976198\tbest: 0.4976198 (171)\ttotal: 2m 14s\tremaining: 5m 53s\n",
      "174:\tlearn: 0.4818122\ttest: 0.4975917\tbest: 0.4975917 (174)\ttotal: 2m 16s\tremaining: 5m 49s\n",
      "177:\tlearn: 0.4808040\ttest: 0.4964482\tbest: 0.4964482 (177)\ttotal: 2m 18s\tremaining: 5m 47s\n",
      "180:\tlearn: 0.4793103\ttest: 0.4947341\tbest: 0.4947341 (180)\ttotal: 2m 20s\tremaining: 5m 45s\n",
      "183:\tlearn: 0.4785008\ttest: 0.4943239\tbest: 0.4943239 (183)\ttotal: 2m 23s\tremaining: 5m 44s\n",
      "186:\tlearn: 0.4774379\ttest: 0.4935436\tbest: 0.4935436 (186)\ttotal: 2m 26s\tremaining: 5m 42s\n",
      "189:\tlearn: 0.4764331\ttest: 0.4931344\tbest: 0.4931303 (188)\ttotal: 2m 28s\tremaining: 5m 39s\n",
      "192:\tlearn: 0.4759940\ttest: 0.4929454\tbest: 0.4929454 (192)\ttotal: 2m 30s\tremaining: 5m 37s\n",
      "195:\tlearn: 0.4753062\ttest: 0.4924820\tbest: 0.4924820 (195)\ttotal: 2m 32s\tremaining: 5m 34s\n",
      "198:\tlearn: 0.4740679\ttest: 0.4912945\tbest: 0.4912945 (198)\ttotal: 2m 35s\tremaining: 5m 32s\n",
      "201:\tlearn: 0.4729081\ttest: 0.4904215\tbest: 0.4904215 (201)\ttotal: 2m 37s\tremaining: 5m 30s\n",
      "204:\tlearn: 0.4721104\ttest: 0.4900161\tbest: 0.4900161 (204)\ttotal: 2m 40s\tremaining: 5m 28s\n",
      "207:\tlearn: 0.4707951\ttest: 0.4892273\tbest: 0.4892273 (207)\ttotal: 2m 42s\tremaining: 5m 25s\n",
      "210:\tlearn: 0.4695376\ttest: 0.4891201\tbest: 0.4891201 (210)\ttotal: 2m 45s\tremaining: 5m 23s\n",
      "213:\tlearn: 0.4683460\ttest: 0.4879239\tbest: 0.4879239 (213)\ttotal: 2m 47s\tremaining: 5m 21s\n",
      "216:\tlearn: 0.4676000\ttest: 0.4878262\tbest: 0.4878262 (216)\ttotal: 2m 49s\tremaining: 5m 18s\n",
      "219:\tlearn: 0.4668300\ttest: 0.4874620\tbest: 0.4874620 (219)\ttotal: 2m 51s\tremaining: 5m 16s\n",
      "222:\tlearn: 0.4661277\ttest: 0.4871079\tbest: 0.4871079 (222)\ttotal: 2m 54s\tremaining: 5m 13s\n",
      "225:\tlearn: 0.4647333\ttest: 0.4871302\tbest: 0.4871079 (222)\ttotal: 2m 56s\tremaining: 5m 12s\n",
      "228:\tlearn: 0.4637301\ttest: 0.4866232\tbest: 0.4866232 (228)\ttotal: 2m 59s\tremaining: 5m 10s\n",
      "231:\tlearn: 0.4623506\ttest: 0.4851140\tbest: 0.4851140 (231)\ttotal: 3m 1s\tremaining: 5m 8s\n",
      "234:\tlearn: 0.4616634\ttest: 0.4847713\tbest: 0.4847713 (234)\ttotal: 3m 4s\tremaining: 5m 5s\n",
      "237:\tlearn: 0.4608754\ttest: 0.4845737\tbest: 0.4845737 (237)\ttotal: 3m 6s\tremaining: 5m 3s\n",
      "240:\tlearn: 0.4600541\ttest: 0.4842536\tbest: 0.4842536 (240)\ttotal: 3m 9s\tremaining: 5m 1s\n",
      "243:\tlearn: 0.4592839\ttest: 0.4838755\tbest: 0.4838755 (243)\ttotal: 3m 11s\tremaining: 4m 59s\n",
      "246:\tlearn: 0.4588680\ttest: 0.4837495\tbest: 0.4837495 (246)\ttotal: 3m 14s\tremaining: 4m 57s\n",
      "249:\tlearn: 0.4581961\ttest: 0.4830569\tbest: 0.4830569 (249)\ttotal: 3m 16s\tremaining: 4m 55s\n",
      "252:\tlearn: 0.4570737\ttest: 0.4820781\tbest: 0.4820781 (252)\ttotal: 3m 19s\tremaining: 4m 53s\n",
      "255:\tlearn: 0.4561309\ttest: 0.4815898\tbest: 0.4815898 (255)\ttotal: 3m 21s\tremaining: 4m 50s\n",
      "258:\tlearn: 0.4552370\ttest: 0.4814491\tbest: 0.4814491 (258)\ttotal: 3m 24s\tremaining: 4m 48s\n",
      "261:\tlearn: 0.4546505\ttest: 0.4813380\tbest: 0.4813340 (259)\ttotal: 3m 26s\tremaining: 4m 46s\n",
      "264:\tlearn: 0.4541433\ttest: 0.4813159\tbest: 0.4813159 (264)\ttotal: 3m 29s\tremaining: 4m 44s\n",
      "267:\tlearn: 0.4529462\ttest: 0.4806628\tbest: 0.4806628 (267)\ttotal: 3m 31s\tremaining: 4m 41s\n",
      "270:\tlearn: 0.4522630\ttest: 0.4798452\tbest: 0.4798452 (270)\ttotal: 3m 34s\tremaining: 4m 39s\n",
      "273:\tlearn: 0.4513414\ttest: 0.4791349\tbest: 0.4791349 (273)\ttotal: 3m 36s\tremaining: 4m 37s\n",
      "276:\tlearn: 0.4506500\ttest: 0.4790689\tbest: 0.4790653 (275)\ttotal: 3m 39s\tremaining: 4m 35s\n",
      "279:\tlearn: 0.4501642\ttest: 0.4788002\tbest: 0.4788002 (279)\ttotal: 3m 41s\tremaining: 4m 32s\n",
      "282:\tlearn: 0.4490649\ttest: 0.4780756\tbest: 0.4780756 (282)\ttotal: 3m 43s\tremaining: 4m 30s\n",
      "285:\tlearn: 0.4480789\ttest: 0.4777223\tbest: 0.4777223 (285)\ttotal: 3m 46s\tremaining: 4m 28s\n",
      "288:\tlearn: 0.4476716\ttest: 0.4777128\tbest: 0.4776895 (286)\ttotal: 3m 48s\tremaining: 4m 25s\n",
      "291:\tlearn: 0.4465157\ttest: 0.4773370\tbest: 0.4773370 (291)\ttotal: 3m 51s\tremaining: 4m 23s\n",
      "294:\tlearn: 0.4458320\ttest: 0.4767565\tbest: 0.4767565 (294)\ttotal: 3m 53s\tremaining: 4m 21s\n",
      "297:\tlearn: 0.4454205\ttest: 0.4765496\tbest: 0.4765496 (297)\ttotal: 3m 55s\tremaining: 4m 18s\n",
      "300:\tlearn: 0.4446180\ttest: 0.4761417\tbest: 0.4761417 (300)\ttotal: 3m 58s\tremaining: 4m 16s\n",
      "303:\tlearn: 0.4438742\ttest: 0.4758897\tbest: 0.4758897 (303)\ttotal: 4m\tremaining: 4m 14s\n",
      "306:\tlearn: 0.4435723\ttest: 0.4759103\tbest: 0.4758897 (303)\ttotal: 4m 3s\tremaining: 4m 11s\n",
      "309:\tlearn: 0.4432768\ttest: 0.4758548\tbest: 0.4758548 (309)\ttotal: 4m 5s\tremaining: 4m 9s\n",
      "312:\tlearn: 0.4425949\ttest: 0.4755495\tbest: 0.4755495 (312)\ttotal: 4m 8s\tremaining: 4m 7s\n",
      "315:\tlearn: 0.4415899\ttest: 0.4752064\tbest: 0.4752064 (315)\ttotal: 4m 10s\tremaining: 4m 5s\n",
      "318:\tlearn: 0.4409729\ttest: 0.4751725\tbest: 0.4751725 (318)\ttotal: 4m 13s\tremaining: 4m 2s\n",
      "321:\tlearn: 0.4405885\ttest: 0.4749403\tbest: 0.4749403 (321)\ttotal: 4m 15s\tremaining: 4m\n",
      "324:\tlearn: 0.4400520\ttest: 0.4747717\tbest: 0.4747717 (324)\ttotal: 4m 17s\tremaining: 3m 57s\n",
      "327:\tlearn: 0.4395729\ttest: 0.4747318\tbest: 0.4747249 (326)\ttotal: 4m 20s\tremaining: 3m 55s\n",
      "330:\tlearn: 0.4386962\ttest: 0.4740173\tbest: 0.4740173 (330)\ttotal: 4m 22s\tremaining: 3m 53s\n",
      "333:\tlearn: 0.4376711\ttest: 0.4739026\tbest: 0.4738661 (332)\ttotal: 4m 25s\tremaining: 3m 51s\n",
      "336:\tlearn: 0.4372988\ttest: 0.4738695\tbest: 0.4738598 (335)\ttotal: 4m 27s\tremaining: 3m 48s\n",
      "339:\tlearn: 0.4366746\ttest: 0.4737382\tbest: 0.4737382 (339)\ttotal: 4m 30s\tremaining: 3m 46s\n",
      "342:\tlearn: 0.4359760\ttest: 0.4735129\tbest: 0.4735008 (341)\ttotal: 4m 32s\tremaining: 3m 44s\n",
      "345:\tlearn: 0.4353566\ttest: 0.4733004\tbest: 0.4732882 (344)\ttotal: 4m 35s\tremaining: 3m 41s\n",
      "348:\tlearn: 0.4347276\ttest: 0.4732044\tbest: 0.4732044 (348)\ttotal: 4m 37s\tremaining: 3m 39s\n",
      "351:\tlearn: 0.4341929\ttest: 0.4731859\tbest: 0.4731806 (349)\ttotal: 4m 39s\tremaining: 3m 36s\n",
      "354:\tlearn: 0.4334543\ttest: 0.4727348\tbest: 0.4727348 (354)\ttotal: 4m 41s\tremaining: 3m 34s\n",
      "357:\tlearn: 0.4324838\ttest: 0.4724522\tbest: 0.4724522 (357)\ttotal: 4m 44s\tremaining: 3m 31s\n",
      "360:\tlearn: 0.4320404\ttest: 0.4723309\tbest: 0.4723309 (360)\ttotal: 4m 46s\tremaining: 3m 29s\n",
      "363:\tlearn: 0.4316275\ttest: 0.4722972\tbest: 0.4722972 (363)\ttotal: 4m 49s\tremaining: 3m 27s\n",
      "366:\tlearn: 0.4310393\ttest: 0.4721823\tbest: 0.4721823 (366)\ttotal: 4m 51s\tremaining: 3m 25s\n",
      "369:\tlearn: 0.4304052\ttest: 0.4714992\tbest: 0.4714992 (369)\ttotal: 4m 53s\tremaining: 3m 22s\n",
      "372:\tlearn: 0.4298746\ttest: 0.4711479\tbest: 0.4711479 (372)\ttotal: 4m 56s\tremaining: 3m 19s\n",
      "375:\tlearn: 0.4291464\ttest: 0.4708759\tbest: 0.4708759 (375)\ttotal: 4m 58s\tremaining: 3m 17s\n",
      "378:\tlearn: 0.4286206\ttest: 0.4706045\tbest: 0.4706045 (378)\ttotal: 5m\tremaining: 3m 15s\n",
      "381:\tlearn: 0.4280459\ttest: 0.4703212\tbest: 0.4703212 (381)\ttotal: 5m 2s\tremaining: 3m 12s\n",
      "384:\tlearn: 0.4273600\ttest: 0.4700166\tbest: 0.4700166 (384)\ttotal: 5m 4s\tremaining: 3m 10s\n",
      "387:\tlearn: 0.4270825\ttest: 0.4699962\tbest: 0.4699956 (386)\ttotal: 5m 7s\tremaining: 3m 7s\n",
      "390:\tlearn: 0.4265694\ttest: 0.4699044\tbest: 0.4698953 (388)\ttotal: 5m 10s\tremaining: 3m 5s\n",
      "393:\tlearn: 0.4260559\ttest: 0.4697900\tbest: 0.4697900 (393)\ttotal: 5m 12s\tremaining: 3m 3s\n",
      "396:\tlearn: 0.4247205\ttest: 0.4695079\tbest: 0.4695079 (396)\ttotal: 5m 14s\tremaining: 3m\n",
      "399:\tlearn: 0.4242263\ttest: 0.4693252\tbest: 0.4693252 (399)\ttotal: 5m 17s\tremaining: 2m 58s\n",
      "402:\tlearn: 0.4235317\ttest: 0.4689562\tbest: 0.4689562 (402)\ttotal: 5m 19s\tremaining: 2m 55s\n",
      "405:\tlearn: 0.4230228\ttest: 0.4688528\tbest: 0.4688528 (405)\ttotal: 5m 21s\tremaining: 2m 53s\n",
      "408:\tlearn: 0.4223444\ttest: 0.4685567\tbest: 0.4685567 (408)\ttotal: 5m 24s\tremaining: 2m 51s\n",
      "411:\tlearn: 0.4218278\ttest: 0.4685251\tbest: 0.4685251 (411)\ttotal: 5m 26s\tremaining: 2m 48s\n",
      "414:\tlearn: 0.4210868\ttest: 0.4685625\tbest: 0.4685205 (413)\ttotal: 5m 29s\tremaining: 2m 46s\n",
      "417:\tlearn: 0.4207469\ttest: 0.4685669\tbest: 0.4685205 (413)\ttotal: 5m 31s\tremaining: 2m 44s\n",
      "420:\tlearn: 0.4200942\ttest: 0.4683883\tbest: 0.4683788 (419)\ttotal: 5m 33s\tremaining: 2m 41s\n",
      "423:\tlearn: 0.4191779\ttest: 0.4679904\tbest: 0.4679904 (423)\ttotal: 5m 36s\tremaining: 2m 39s\n",
      "426:\tlearn: 0.4184126\ttest: 0.4678753\tbest: 0.4678753 (426)\ttotal: 5m 38s\tremaining: 2m 37s\n",
      "429:\tlearn: 0.4177115\ttest: 0.4677520\tbest: 0.4677520 (429)\ttotal: 5m 41s\tremaining: 2m 34s\n",
      "432:\tlearn: 0.4171109\ttest: 0.4676910\tbest: 0.4676910 (432)\ttotal: 5m 43s\tremaining: 2m 32s\n",
      "435:\tlearn: 0.4163157\ttest: 0.4674793\tbest: 0.4674793 (435)\ttotal: 5m 45s\tremaining: 2m 29s\n",
      "438:\tlearn: 0.4159779\ttest: 0.4673894\tbest: 0.4673894 (438)\ttotal: 5m 48s\tremaining: 2m 27s\n",
      "441:\tlearn: 0.4154481\ttest: 0.4672825\tbest: 0.4672825 (441)\ttotal: 5m 50s\tremaining: 2m 25s\n",
      "444:\tlearn: 0.4148205\ttest: 0.4670409\tbest: 0.4670409 (444)\ttotal: 5m 53s\tremaining: 2m 22s\n",
      "447:\tlearn: 0.4144259\ttest: 0.4669477\tbest: 0.4669477 (447)\ttotal: 5m 55s\tremaining: 2m 20s\n",
      "450:\tlearn: 0.4138697\ttest: 0.4669024\tbest: 0.4669024 (450)\ttotal: 5m 58s\tremaining: 2m 18s\n",
      "453:\tlearn: 0.4131632\ttest: 0.4667748\tbest: 0.4667748 (453)\ttotal: 6m 1s\tremaining: 2m 15s\n",
      "456:\tlearn: 0.4124289\ttest: 0.4664449\tbest: 0.4664449 (456)\ttotal: 6m 3s\tremaining: 2m 13s\n",
      "459:\tlearn: 0.4118480\ttest: 0.4664088\tbest: 0.4664088 (459)\ttotal: 6m 5s\tremaining: 2m 11s\n",
      "462:\tlearn: 0.4112776\ttest: 0.4663829\tbest: 0.4663722 (461)\ttotal: 6m 8s\tremaining: 2m 8s\n",
      "465:\tlearn: 0.4109199\ttest: 0.4663060\tbest: 0.4663060 (465)\ttotal: 6m 10s\tremaining: 2m 6s\n",
      "468:\tlearn: 0.4107596\ttest: 0.4663206\tbest: 0.4663060 (465)\ttotal: 6m 13s\tremaining: 2m 4s\n",
      "471:\tlearn: 0.4100078\ttest: 0.4662844\tbest: 0.4662551 (469)\ttotal: 6m 16s\tremaining: 2m 1s\n",
      "474:\tlearn: 0.4096258\ttest: 0.4662850\tbest: 0.4662551 (469)\ttotal: 6m 18s\tremaining: 1m 59s\n",
      "477:\tlearn: 0.4093601\ttest: 0.4661113\tbest: 0.4661113 (477)\ttotal: 6m 20s\tremaining: 1m 57s\n",
      "480:\tlearn: 0.4086371\ttest: 0.4660979\tbest: 0.4660979 (480)\ttotal: 6m 23s\tremaining: 1m 54s\n",
      "483:\tlearn: 0.4080776\ttest: 0.4660007\tbest: 0.4659909 (482)\ttotal: 6m 25s\tremaining: 1m 52s\n",
      "486:\tlearn: 0.4076776\ttest: 0.4660471\tbest: 0.4659909 (482)\ttotal: 6m 28s\tremaining: 1m 50s\n",
      "489:\tlearn: 0.4069966\ttest: 0.4660507\tbest: 0.4659909 (482)\ttotal: 6m 31s\tremaining: 1m 47s\n",
      "492:\tlearn: 0.4062845\ttest: 0.4659141\tbest: 0.4658689 (491)\ttotal: 6m 33s\tremaining: 1m 45s\n",
      "495:\tlearn: 0.4057673\ttest: 0.4657717\tbest: 0.4657717 (495)\ttotal: 6m 36s\tremaining: 1m 43s\n",
      "498:\tlearn: 0.4052664\ttest: 0.4655760\tbest: 0.4655760 (498)\ttotal: 6m 38s\tremaining: 1m 40s\n",
      "501:\tlearn: 0.4048075\ttest: 0.4655297\tbest: 0.4655297 (501)\ttotal: 6m 40s\tremaining: 1m 38s\n",
      "504:\tlearn: 0.4039918\ttest: 0.4654495\tbest: 0.4654331 (503)\ttotal: 6m 43s\tremaining: 1m 35s\n",
      "507:\tlearn: 0.4035437\ttest: 0.4652701\tbest: 0.4652701 (507)\ttotal: 6m 45s\tremaining: 1m 33s\n",
      "510:\tlearn: 0.4029263\ttest: 0.4651776\tbest: 0.4651776 (510)\ttotal: 6m 48s\tremaining: 1m 31s\n",
      "513:\tlearn: 0.4023687\ttest: 0.4650866\tbest: 0.4650866 (513)\ttotal: 6m 50s\tremaining: 1m 28s\n",
      "516:\tlearn: 0.4018366\ttest: 0.4650140\tbest: 0.4650140 (516)\ttotal: 6m 53s\tremaining: 1m 26s\n",
      "519:\tlearn: 0.4010640\ttest: 0.4647178\tbest: 0.4647178 (519)\ttotal: 6m 55s\tremaining: 1m 23s\n",
      "522:\tlearn: 0.4007681\ttest: 0.4646802\tbest: 0.4646802 (522)\ttotal: 6m 57s\tremaining: 1m 21s\n",
      "525:\tlearn: 0.4002744\ttest: 0.4646239\tbest: 0.4646239 (525)\ttotal: 7m\tremaining: 1m 19s\n",
      "528:\tlearn: 0.3998192\ttest: 0.4645104\tbest: 0.4645104 (528)\ttotal: 7m 3s\tremaining: 1m 16s\n",
      "531:\tlearn: 0.3992941\ttest: 0.4644152\tbest: 0.4644152 (531)\ttotal: 7m 6s\tremaining: 1m 14s\n",
      "534:\tlearn: 0.3989606\ttest: 0.4643937\tbest: 0.4643937 (534)\ttotal: 7m 9s\tremaining: 1m 12s\n",
      "537:\tlearn: 0.3984221\ttest: 0.4642641\tbest: 0.4642641 (537)\ttotal: 7m 12s\tremaining: 1m 9s\n",
      "540:\tlearn: 0.3977761\ttest: 0.4642349\tbest: 0.4642343 (539)\ttotal: 7m 15s\tremaining: 1m 7s\n",
      "543:\tlearn: 0.3974580\ttest: 0.4641474\tbest: 0.4641397 (541)\ttotal: 7m 18s\tremaining: 1m 5s\n",
      "546:\tlearn: 0.3968002\ttest: 0.4639384\tbest: 0.4639384 (546)\ttotal: 7m 20s\tremaining: 1m 2s\n",
      "549:\tlearn: 0.3963403\ttest: 0.4638255\tbest: 0.4638255 (549)\ttotal: 7m 22s\tremaining: 1m\n",
      "552:\tlearn: 0.3957259\ttest: 0.4637555\tbest: 0.4637555 (552)\ttotal: 7m 25s\tremaining: 58s\n",
      "555:\tlearn: 0.3951995\ttest: 0.4637199\tbest: 0.4636959 (554)\ttotal: 7m 27s\tremaining: 55.6s\n",
      "558:\tlearn: 0.3947346\ttest: 0.4636869\tbest: 0.4636793 (557)\ttotal: 7m 30s\tremaining: 53.2s\n",
      "561:\tlearn: 0.3942893\ttest: 0.4636595\tbest: 0.4636595 (561)\ttotal: 7m 32s\tremaining: 50.8s\n",
      "564:\tlearn: 0.3940417\ttest: 0.4635714\tbest: 0.4635714 (564)\ttotal: 7m 35s\tremaining: 48.4s\n",
      "567:\tlearn: 0.3937594\ttest: 0.4635583\tbest: 0.4635481 (566)\ttotal: 7m 37s\tremaining: 45.9s\n",
      "570:\tlearn: 0.3933026\ttest: 0.4634537\tbest: 0.4634537 (570)\ttotal: 7m 40s\tremaining: 43.5s\n",
      "573:\tlearn: 0.3929205\ttest: 0.4634598\tbest: 0.4634537 (570)\ttotal: 7m 42s\tremaining: 41.1s\n",
      "576:\tlearn: 0.3925509\ttest: 0.4633884\tbest: 0.4633884 (576)\ttotal: 7m 45s\tremaining: 38.7s\n",
      "579:\tlearn: 0.3921338\ttest: 0.4632579\tbest: 0.4632579 (579)\ttotal: 7m 47s\tremaining: 36.3s\n",
      "582:\tlearn: 0.3915777\ttest: 0.4632367\tbest: 0.4632367 (582)\ttotal: 7m 50s\tremaining: 33.9s\n",
      "585:\tlearn: 0.3912955\ttest: 0.4632138\tbest: 0.4632081 (584)\ttotal: 7m 52s\tremaining: 31.5s\n",
      "588:\tlearn: 0.3910970\ttest: 0.4632454\tbest: 0.4632081 (584)\ttotal: 7m 55s\tremaining: 29.1s\n",
      "591:\tlearn: 0.3904029\ttest: 0.4631957\tbest: 0.4631943 (589)\ttotal: 7m 58s\tremaining: 26.7s\n",
      "594:\tlearn: 0.3897365\ttest: 0.4632625\tbest: 0.4631943 (589)\ttotal: 8m\tremaining: 24.2s\n",
      "597:\tlearn: 0.3893459\ttest: 0.4632522\tbest: 0.4631943 (589)\ttotal: 8m 3s\tremaining: 21.8s\n",
      "600:\tlearn: 0.3891268\ttest: 0.4632471\tbest: 0.4631943 (589)\ttotal: 8m 5s\tremaining: 19.4s\n",
      "603:\tlearn: 0.3887323\ttest: 0.4631978\tbest: 0.4631943 (589)\ttotal: 8m 8s\tremaining: 17s\n",
      "606:\tlearn: 0.3884039\ttest: 0.4632432\tbest: 0.4631943 (589)\ttotal: 8m 10s\tremaining: 14.6s\n",
      "609:\tlearn: 0.3877942\ttest: 0.4632448\tbest: 0.4631943 (589)\ttotal: 8m 13s\tremaining: 12.1s\n",
      "612:\tlearn: 0.3872194\ttest: 0.4631761\tbest: 0.4631761 (612)\ttotal: 8m 15s\tremaining: 9.7s\n",
      "615:\tlearn: 0.3870496\ttest: 0.4631209\tbest: 0.4631209 (615)\ttotal: 8m 18s\tremaining: 7.28s\n",
      "618:\tlearn: 0.3865230\ttest: 0.4630310\tbest: 0.4630310 (618)\ttotal: 8m 20s\tremaining: 4.85s\n",
      "621:\tlearn: 0.3859120\ttest: 0.4630206\tbest: 0.4629605 (620)\ttotal: 8m 22s\tremaining: 2.42s\n",
      "624:\tlearn: 0.3854600\ttest: 0.4628847\tbest: 0.4628828 (623)\ttotal: 8m 25s\tremaining: 0us\n",
      "\n",
      "bestTest = 0.4628828211\n",
      "bestIteration = 623\n",
      "\n",
      "Shrink model to first 624 iterations.\n"
     ]
    },
    {
     "data": {
      "text/plain": [
       "0.8553081187777596"
      ]
     },
     "execution_count": 105,
     "metadata": {},
     "output_type": "execute_result"
    }
   ],
   "source": [
    "model = CatBoostClassifier(cat_features=category, \n",
    "                           early_stopping_rounds = 100, \n",
    "                           loss_function= 'Logloss', \n",
    "                           random_state = 42,\n",
    "                           ** best_params                           \n",
    "                          )\n",
    "model.fit(X_train_c, y_train, eval_set=[(X_test_c, y_test)], verbose=3)\n",
    "roc_auc_score(y_test, model.predict_proba(X_test_c)[:, 1])\n"
   ]
  },
  {
   "cell_type": "code",
   "execution_count": 106,
   "id": "e26b4f56",
   "metadata": {
    "scrolled": true
   },
   "outputs": [
    {
     "data": {
      "text/plain": [
       "0.8576320965077588"
      ]
     },
     "execution_count": 106,
     "metadata": {},
     "output_type": "execute_result"
    }
   ],
   "source": [
    "roc_auc_score(y_val, model.predict_proba(X_val_c)[:, 1])"
   ]
  },
  {
   "cell_type": "markdown",
   "id": "b6831ecc",
   "metadata": {},
   "source": [
    "Самое лучшее качество получилось на модели CatBoost. ЕЕ результаты будем использовать для оценки важности параметров. Проведем небольшой анализ качества модели. Построим ROC_AUC кривую, рассмотрим матрицу ошибок, полноту и точность."
   ]
  },
  {
   "cell_type": "code",
   "execution_count": 107,
   "id": "6bb6147a",
   "metadata": {},
   "outputs": [
    {
     "name": "stdout",
     "output_type": "stream",
     "text": [
      "0.8576320965077588\n",
      "Threshold value is: 0.4260762905629303\n"
     ]
    },
    {
     "data": {
      "image/png": "[encoded data removed]",
      "text/plain": [
       "<Figure size 432x288 with 1 Axes>"
      ]
     },
     "metadata": {
      "needs_background": "light"
     },
     "output_type": "display_data"
    }
   ],
   "source": [
    "import numpy as np\n",
    "def plot_roc_curve(fpr, tpr):\n",
    "    plt.plot(fpr, tpr, color='orange', label='ROC')\n",
    "    plt.plot([0, 1], [0, 1], color='darkblue', linestyle='--')\n",
    "    plt.xlabel('False Positive Rate')\n",
    "    plt.ylabel('True Positive Rate')\n",
    "    plt.title('Receiver Operating Characteristic (ROC) Curve')\n",
    "    plt.legend()\n",
    "    plt.show()\n",
    "\n",
    "fpr, tpr, thresholds = roc_curve(y_val, model.predict_proba(X_val_c)[:, 1])\n",
    "print(roc_auc_score(y_val, model.predict_proba(X_val_c)[:, 1]))\n",
    "optimal_idx = np.argmax(tpr - fpr)\n",
    "optimal_threshold = thresholds[optimal_idx]\n",
    "print(\"Threshold value is:\", optimal_threshold)\n",
    "plot_roc_curve(fpr, tpr)"
   ]
  },
  {
   "cell_type": "code",
   "execution_count": 108,
   "id": "2ce0bfe8",
   "metadata": {},
   "outputs": [
    {
     "name": "stdout",
     "output_type": "stream",
     "text": [
      "Confusion matrix\n",
      "\n",
      " [[7038 2016]\n",
      " [2038 6028]]\n",
      "\n",
      "True Positives(TP) =  7038\n",
      "\n",
      "True Negatives(TN) =  6028\n",
      "\n",
      "False Positives(FP) =  2016\n",
      "\n",
      "False Negatives(FN) =  2038\n"
     ]
    }
   ],
   "source": [
    "from sklearn.metrics import confusion_matrix\n",
    "cm = confusion_matrix(y_test, model.predict_proba(X_test_c)[:, 1]>=optimal_threshold)\n",
    "print('Confusion matrix\\n\\n', cm)\n",
    "print('\\nTrue Positives(TP) = ', cm[0,0])\n",
    "print('\\nTrue Negatives(TN) = ', cm[1,1])\n",
    "print('\\nFalse Positives(FP) = ', cm[0,1])\n",
    "print('\\nFalse Negatives(FN) = ', cm[1,0])"
   ]
  },
  {
   "cell_type": "code",
   "execution_count": 109,
   "id": "db0fa027",
   "metadata": {
    "scrolled": true
   },
   "outputs": [
    {
     "data": {
      "image/png": "[encoded data removed]",
      "text/plain": [
       "<Figure size 432x288 with 2 Axes>"
      ]
     },
     "metadata": {
      "needs_background": "light"
     },
     "output_type": "display_data"
    }
   ],
   "source": [
    "cm_matrix = pd.DataFrame(data=cm, columns=['Actual Positive:1', 'Actual Negative:0'], \n",
    "                                 index=['Predict Positive:1', 'Predict Negative:0'])\n",
    "\n",
    "sns.heatmap(cm_matrix, annot=True, fmt='d', cmap='YlGnBu')\n",
    "plt.title('Confusion matrix')\n",
    "plt.show()"
   ]
  },
  {
   "cell_type": "markdown",
   "id": "224ea365",
   "metadata": {},
   "source": [
    "Модель достаточно хорошо предсказывает Positive так и Negative. Ошибки есть, они смещены в сторону излишненго прогноза Positive"
   ]
  },
  {
   "cell_type": "code",
   "execution_count": 110,
   "id": "55d463e7",
   "metadata": {
    "scrolled": true
   },
   "outputs": [
    {
     "name": "stdout",
     "output_type": "stream",
     "text": [
      "Recall 0.7515295292795605\n",
      "Precision 0.7504051863857374\n"
     ]
    },
    {
     "data": {
      "image/png": "[encoded data removed]",
      "text/plain": [
       "<Figure size 432x288 with 1 Axes>"
      ]
     },
     "metadata": {
      "needs_background": "light"
     },
     "output_type": "display_data"
    }
   ],
   "source": [
    "from sklearn.metrics import (precision_recall_curve, PrecisionRecallDisplay)\n",
    "from sklearn.metrics import recall_score, precision_score\n",
    "\n",
    "print('Recall', recall_score(y_val, model.predict_proba(X_val_c)[:, 1]>=optimal_threshold))\n",
    "print('Precision', precision_score(y_val, model.predict_proba(X_val_c)[:, 1]>=optimal_threshold))\n",
    "\n",
    "precision, recall, _ = precision_recall_curve(y_val, model.predict_proba(X_val_c)[:, 1])\n",
    "\n",
    "disp = PrecisionRecallDisplay(precision=precision, recall=recall)\n",
    "disp.plot()\n",
    "plt.scatter(recall_score(y_val, model.predict_proba(X_val_c)[:, 1]>=optimal_threshold), \n",
    "            precision_score(y_val, model.predict_proba(X_val_c)[:, 1]>=optimal_threshold))\n",
    "plt.title(\"precision_recall_curve\")\n",
    "plt.show()"
   ]
  },
  {
   "cell_type": "markdown",
   "id": "67680210",
   "metadata": {},
   "source": [
    "Показатели точности и полноты достаточно хорошие."
   ]
  },
  {
   "cell_type": "markdown",
   "id": "0d024c12",
   "metadata": {},
   "source": [
    "### Вывод"
   ]
  },
  {
   "cell_type": "markdown",
   "id": "8f417f9b",
   "metadata": {},
   "source": [
    "Оптимальной моделью стал CatBoostClassifier. Метрика ROC AUC у него ,больше 0.85 что является максимальной из рассмотренных моделей. Модель хорошо предсказывает и Positive и Negative классы. Так же модель больше ошибается при прогнозировании позитивного класса, чем негативного."
   ]
  },
  {
   "cell_type": "markdown",
   "id": "ac1c2ff5",
   "metadata": {},
   "source": [
    "## Проведите анализ важности факторов ДТП"
   ]
  },
  {
   "cell_type": "code",
   "execution_count": 111,
   "id": "7aa10f69",
   "metadata": {
    "scrolled": false
   },
   "outputs": [
    {
     "data": {
      "image/png": "[encoded data removed]",
      "text/plain": [
       "<Figure size 432x288 with 1 Axes>"
      ]
     },
     "metadata": {
      "needs_background": "light"
     },
     "output_type": "display_data"
    }
   ],
   "source": [
    "plt.bar(X.columns, model.feature_importances_)\n",
    "plt.xticks(rotation = 90) \n",
    "plt.title('Feature importances')\n",
    "plt.show()"
   ]
  },
  {
   "cell_type": "code",
   "execution_count": 112,
   "id": "d9310462",
   "metadata": {
    "scrolled": false
   },
   "outputs": [
    {
     "data": {
      "text/plain": [
       "[(0.08639915864245033, 'cellphone_in_use'),\n",
       " (0.19473295194788115, 'road_condition_1'),\n",
       " (0.526478984468579, 'control_device'),\n",
       " (1.4304308416675424, 'road_surface'),\n",
       " (1.9131278678332369, 'party_drug_physical'),\n",
       " (2.225731245472321, 'vehicle_type'),\n",
       " (2.5788456602988856, 'lighting'),\n",
       " (2.8398256088253535, 'weather_1'),\n",
       " (3.1566022438825523, 'motor_vehicle_involved_with'),\n",
       " (3.3472358207682937, 'type_of_collision'),\n",
       " (3.7620188752582626, 'location_type'),\n",
       " (4.3155700876574965, 'direction'),\n",
       " (5.987832350333274, 'collision_date'),\n",
       " (8.626176390791038, 'party_sobriety'),\n",
       " (8.67952958492479, 'vehicle_age'),\n",
       " (8.80901073773382, 'insurance_premium'),\n",
       " (9.389897804470788, 'collision_time'),\n",
       " (10.33752302836842, 'party_count'),\n",
       " (21.793030756654908, 'pcf_violation_category')]"
      ]
     },
     "execution_count": 112,
     "metadata": {},
     "output_type": "execute_result"
    }
   ],
   "source": [
    "sorted(list(zip(model.feature_importances_, X.columns)))"
   ]
  },
  {
   "cell_type": "markdown",
   "id": "b7070e89",
   "metadata": {},
   "source": [
    "Можно увидель, что модель определила как самые важные 'pcf_violation_category', 'insurance_premium', 'collision_time', 'party_count', 'vehicle_age'. Рассмотрим подробнее 'pcf_violation_category'"
   ]
  },
  {
   "cell_type": "code",
   "execution_count": 113,
   "id": "90ae39e2",
   "metadata": {
    "scrolled": false
   },
   "outputs": [
    {
     "data": {
      "image/png": "[encoded data removed]",
      "text/plain": [
       "<Figure size 432x288 with 1 Axes>"
      ]
     },
     "metadata": {
      "needs_background": "light"
     },
     "output_type": "display_data"
    },
    {
     "data": {
      "image/png": "[encoded data removed]",
      "text/plain": [
       "<Figure size 432x288 with 1 Axes>"
      ]
     },
     "metadata": {
      "needs_background": "light"
     },
     "output_type": "display_data"
    },
    {
     "data": {
      "image/png": "[encoded data removed]",
      "text/plain": [
       "<Figure size 432x288 with 1 Axes>"
      ]
     },
     "metadata": {
      "needs_background": "light"
     },
     "output_type": "display_data"
    },
    {
     "data": {
      "image/png": "[encoded data removed]",
      "text/plain": [
       "<Figure size 432x288 with 1 Axes>"
      ]
     },
     "metadata": {
      "needs_background": "light"
     },
     "output_type": "display_data"
    },
    {
     "data": {
      "image/png": "[encoded data removed]",
      "text/plain": [
       "<Figure size 432x288 with 1 Axes>"
      ]
     },
     "metadata": {
      "needs_background": "light"
     },
     "output_type": "display_data"
    },
    {
     "data": {
      "image/png": "[encoded data removed]",
      "text/plain": [
       "<Figure size 432x288 with 1 Axes>"
      ]
     },
     "metadata": {
      "needs_background": "light"
     },
     "output_type": "display_data"
    },
    {
     "data": {
      "image/png": "[encoded data removed]",
      "text/plain": [
       "<Figure size 432x288 with 1 Axes>"
      ]
     },
     "metadata": {
      "needs_background": "light"
     },
     "output_type": "display_data"
    },
    {
     "data": {
      "image/png": "[encoded data removed]",
      "text/plain": [
       "<Figure size 432x288 with 1 Axes>"
      ]
     },
     "metadata": {
      "needs_background": "light"
     },
     "output_type": "display_data"
    },
    {
     "data": {
      "image/png": "[encoded data removed]",
      "text/plain": [
       "<Figure size 432x288 with 1 Axes>"
      ]
     },
     "metadata": {
      "needs_background": "light"
     },
     "output_type": "display_data"
    },
    {
     "data": {
      "image/png": "[encoded data removed]",
      "text/plain": [
       "<Figure size 432x288 with 1 Axes>"
      ]
     },
     "metadata": {
      "needs_background": "light"
     },
     "output_type": "display_data"
    },
    {
     "data": {
      "image/png": "[encoded data removed]",
      "text/plain": [
       "<Figure size 432x288 with 1 Axes>"
      ]
     },
     "metadata": {
      "needs_background": "light"
     },
     "output_type": "display_data"
    },
    {
     "data": {
      "image/png": "[encoded data removed]",
      "text/plain": [
       "<Figure size 432x288 with 1 Axes>"
      ]
     },
     "metadata": {
      "needs_background": "light"
     },
     "output_type": "display_data"
    },
    {
     "data": {
      "image/png": "[encoded data removed]",
      "text/plain": [
       "<Figure size 432x288 with 1 Axes>"
      ]
     },
     "metadata": {
      "needs_background": "light"
     },
     "output_type": "display_data"
    },
    {
     "data": {
      "image/png": "[encoded data removed]",
      "text/plain": [
       "<Figure size 432x288 with 1 Axes>"
      ]
     },
     "metadata": {
      "needs_background": "light"
     },
     "output_type": "display_data"
    },
    {
     "data": {
      "image/png": "[encoded data removed]",
      "text/plain": [
       "<Figure size 432x288 with 1 Axes>"
      ]
     },
     "metadata": {
      "needs_background": "light"
     },
     "output_type": "display_data"
    },
    {
     "data": {
      "image/png": "[encoded data removed]",
      "text/plain": [
       "<Figure size 432x288 with 1 Axes>"
      ]
     },
     "metadata": {
      "needs_background": "light"
     },
     "output_type": "display_data"
    },
    {
     "data": {
      "image/png": "[encoded data removed]",
      "text/plain": [
       "<Figure size 432x288 with 1 Axes>"
      ]
     },
     "metadata": {
      "needs_background": "light"
     },
     "output_type": "display_data"
    }
   ],
   "source": [
    "for item in df['pcf_violation_category'].unique():\n",
    "    zeros = df.query(\"pcf_violation_category==@item\")['at_fault'].value_counts()[0]\n",
    "    if len(df.query(\"pcf_violation_category==@item\")['at_fault'].value_counts())<2:\n",
    "        ones = 0\n",
    "    else:\n",
    "        ones = df.query(\"pcf_violation_category==@item\")['at_fault'].value_counts()[1]\n",
    "    plt.bar(0, zeros, label ='0')\n",
    "    plt.bar(1, ones, label ='1')\n",
    "    plt.title(item)\n",
    "    plt.legend()\n",
    "    plt.show()"
   ]
  },
  {
   "cell_type": "markdown",
   "id": "c99bcbd2",
   "metadata": {},
   "source": [
    "Даже визуально можно заметить что при некоторых значениях данного столбца можно с точностью близкой к 100 процентам определить значение таргета. Например при значении \"other than driver (or pedestrian)\" - сто процентов водителей не виновны в ДТП."
   ]
  },
  {
   "cell_type": "code",
   "execution_count": 114,
   "id": "6e3bead6",
   "metadata": {
    "scrolled": false
   },
   "outputs": [
    {
     "data": {
      "image/png": "[encoded data removed]",
      "text/plain": [
       "<Figure size 432x288 with 1 Axes>"
      ]
     },
     "metadata": {
      "needs_background": "light"
     },
     "output_type": "display_data"
    },
    {
     "data": {
      "image/png": "[encoded data removed]",
      "text/plain": [
       "<Figure size 432x288 with 1 Axes>"
      ]
     },
     "metadata": {
      "needs_background": "light"
     },
     "output_type": "display_data"
    },
    {
     "data": {
      "image/png": "[encoded data removed]",
      "text/plain": [
       "<Figure size 432x288 with 1 Axes>"
      ]
     },
     "metadata": {
      "needs_background": "light"
     },
     "output_type": "display_data"
    },
    {
     "data": {
      "image/png": "[encoded data removed]",
      "text/plain": [
       "<Figure size 432x288 with 1 Axes>"
      ]
     },
     "metadata": {
      "needs_background": "light"
     },
     "output_type": "display_data"
    },
    {
     "data": {
      "image/png": "[encoded data removed]",
      "text/plain": [
       "<Figure size 432x288 with 1 Axes>"
      ]
     },
     "metadata": {
      "needs_background": "light"
     },
     "output_type": "display_data"
    },
    {
     "data": {
      "image/png": "[encoded data removed]",
      "text/plain": [
       "<Figure size 432x288 with 1 Axes>"
      ]
     },
     "metadata": {
      "needs_background": "light"
     },
     "output_type": "display_data"
    },
    {
     "data": {
      "image/png": "[encoded data removed]",
      "text/plain": [
       "<Figure size 432x288 with 1 Axes>"
      ]
     },
     "metadata": {
      "needs_background": "light"
     },
     "output_type": "display_data"
    },
    {
     "data": {
      "image/png": "[encoded data removed]",
      "text/plain": [
       "<Figure size 432x288 with 1 Axes>"
      ]
     },
     "metadata": {
      "needs_background": "light"
     },
     "output_type": "display_data"
    },
    {
     "data": {
      "image/png": "[encoded data removed]",
      "text/plain": [
       "<Figure size 432x288 with 1 Axes>"
      ]
     },
     "metadata": {
      "needs_background": "light"
     },
     "output_type": "display_data"
    },
    {
     "data": {
      "image/png": "[encoded data removed]",
      "text/plain": [
       "<Figure size 432x288 with 1 Axes>"
      ]
     },
     "metadata": {
      "needs_background": "light"
     },
     "output_type": "display_data"
    },
    {
     "data": {
      "image/png": "[encoded data removed]",
      "text/plain": [
       "<Figure size 432x288 with 1 Axes>"
      ]
     },
     "metadata": {
      "needs_background": "light"
     },
     "output_type": "display_data"
    },
    {
     "data": {
      "image/png": "[encoded data removed]",
      "text/plain": [
       "<Figure size 432x288 with 1 Axes>"
      ]
     },
     "metadata": {
      "needs_background": "light"
     },
     "output_type": "display_data"
    },
    {
     "data": {
      "image/png": "[encoded data removed]",
      "text/plain": [
       "<Figure size 432x288 with 1 Axes>"
      ]
     },
     "metadata": {
      "needs_background": "light"
     },
     "output_type": "display_data"
    },
    {
     "data": {
      "image/png": "[encoded data removed]",
      "text/plain": [
       "<Figure size 432x288 with 1 Axes>"
      ]
     },
     "metadata": {
      "needs_background": "light"
     },
     "output_type": "display_data"
    },
    {
     "data": {
      "image/png": "[encoded data removed]",
      "text/plain": [
       "<Figure size 432x288 with 1 Axes>"
      ]
     },
     "metadata": {
      "needs_background": "light"
     },
     "output_type": "display_data"
    },
    {
     "data": {
      "image/png": "[encoded data removed]",
      "text/plain": [
       "<Figure size 432x288 with 1 Axes>"
      ]
     },
     "metadata": {
      "needs_background": "light"
     },
     "output_type": "display_data"
    },
    {
     "data": {
      "image/png": "[encoded data removed]",
      "text/plain": [
       "<Figure size 432x288 with 1 Axes>"
      ]
     },
     "metadata": {
      "needs_background": "light"
     },
     "output_type": "display_data"
    },
    {
     "data": {
      "image/png": "[encoded data removed]",
      "text/plain": [
       "<Figure size 432x288 with 1 Axes>"
      ]
     },
     "metadata": {
      "needs_background": "light"
     },
     "output_type": "display_data"
    },
    {
     "data": {
      "image/png": "[encoded data removed]",
      "text/plain": [
       "<Figure size 432x288 with 1 Axes>"
      ]
     },
     "metadata": {
      "needs_background": "light"
     },
     "output_type": "display_data"
    },
    {
     "data": {
      "image/png": "[encoded data removed]",
      "text/plain": [
       "<Figure size 432x288 with 1 Axes>"
      ]
     },
     "metadata": {
      "needs_background": "light"
     },
     "output_type": "display_data"
    },
    {
     "data": {
      "image/png": "[encoded data removed]",
      "text/plain": [
       "<Figure size 432x288 with 1 Axes>"
      ]
     },
     "metadata": {
      "needs_background": "light"
     },
     "output_type": "display_data"
    },
    {
     "data": {
      "image/png": "[encoded data removed]",
      "text/plain": [
       "<Figure size 432x288 with 1 Axes>"
      ]
     },
     "metadata": {
      "needs_background": "light"
     },
     "output_type": "display_data"
    },
    {
     "data": {
      "image/png": "[encoded data removed]",
      "text/plain": [
       "<Figure size 432x288 with 1 Axes>"
      ]
     },
     "metadata": {
      "needs_background": "light"
     },
     "output_type": "display_data"
    },
    {
     "data": {
      "image/png": "[encoded data removed]",
      "text/plain": [
       "<Figure size 432x288 with 1 Axes>"
      ]
     },
     "metadata": {
      "needs_background": "light"
     },
     "output_type": "display_data"
    }
   ],
   "source": [
    "for item in sorted(df['collision_time'].unique()):\n",
    "    zeros = df.query(\"collision_time==@item\")['at_fault'].value_counts()[0]\n",
    "    if len(df.query(\"collision_time==@item\")['at_fault'].value_counts())<2:\n",
    "        ones = 0\n",
    "    else:\n",
    "        ones = df.query(\"collision_time==@item\")['at_fault'].value_counts()[1]\n",
    "    plt.bar(0, zeros, label ='0')\n",
    "    plt.bar(1, ones, label ='1')\n",
    "    plt.title(item)\n",
    "    plt.legend()\n",
    "    plt.show()"
   ]
  },
  {
   "cell_type": "markdown",
   "id": "0b02ad84",
   "metadata": {},
   "source": [
    "По столбцу \"collision_time\" тоже в целом достаточно однозначно можно сделать вывод что ночная езда более опасна ДТП, чем дневная. Ночью вероятность ошибки у водителя больше."
   ]
  },
  {
   "cell_type": "markdown",
   "id": "ea9f0576",
   "metadata": {},
   "source": [
    "## Выводы"
   ]
  },
  {
   "cell_type": "markdown",
   "id": "872d5ed4",
   "metadata": {},
   "source": [
    "На основании предоставленных данных невозможно построение системы оценки риска попасть в ДТП. Данные отображают только одну категорию - \"Водители попавшие в ДТП\", второй категории - \"Водители не попавшие в ДТП\" нет совсем. Наша сисетма обучаясь на данных в которых 100% дисбаланс классов учится предказывать, что все поездки закончатся ДТП.\n",
    "\n",
    "Если же рассматривать таргет, который предложил заказчик - то мы по нему можем предсказать только виновен ли водитель в ДТП или нет. Столбец at_fault именно это и сигнализирует. Однако самый важный признак по которому строиться хорошее предсказание это сведенья о нарушении, которые мы получаем из компетентных органов вероятно вместе с заключением о виновности или невиновности конкретного лица. В результате система предсказания виновности в ДТП в целом теряет смысл, т.к. нам не нужно предсказывать винвного, в акте и так это уже будет написано.\n",
    "\n",
    "Для сождания модели, которая бы могла предсказывать ДТП, нам дополнительно нужны данные о поездках без ДТП, иначе построить адекватную систему предсказаний не возможно."
   ]
  }
 ],
 "metadata": {
  "ExecuteTimeLog": [
   {
    "duration": 561,
    "start_time": "2022-10-05T18:00:01.410Z"
   },
   {
    "duration": 9769,
    "start_time": "2022-10-05T18:00:01.973Z"
   },
   {
    "duration": 2,
    "start_time": "2022-10-05T18:00:57.671Z"
   },
   {
    "duration": 5,
    "start_time": "2022-10-05T18:00:58.724Z"
   },
   {
    "duration": 12641,
    "start_time": "2022-10-05T18:01:01.867Z"
   },
   {
    "duration": 21075,
    "start_time": "2022-10-05T18:01:14.511Z"
   },
   {
    "duration": 3677,
    "start_time": "2022-10-05T18:01:35.589Z"
   },
   {
    "duration": 4346,
    "start_time": "2022-10-05T18:01:39.268Z"
   },
   {
    "duration": 1009,
    "start_time": "2022-10-05T18:08:42.379Z"
   },
   {
    "duration": 279,
    "start_time": "2022-10-05T18:11:08.099Z"
   },
   {
    "duration": 355,
    "start_time": "2022-10-05T18:11:17.734Z"
   },
   {
    "duration": 3,
    "start_time": "2022-10-05T18:11:22.440Z"
   },
   {
    "duration": 1110,
    "start_time": "2022-10-05T18:11:25.102Z"
   },
   {
    "duration": 1167,
    "start_time": "2022-10-05T18:11:34.544Z"
   },
   {
    "duration": 1168,
    "start_time": "2022-10-05T18:12:04.298Z"
   },
   {
    "duration": 1148,
    "start_time": "2022-10-05T18:12:09.791Z"
   },
   {
    "duration": 1239,
    "start_time": "2022-10-05T18:12:20.529Z"
   },
   {
    "duration": 1281,
    "start_time": "2022-10-05T18:12:24.056Z"
   },
   {
    "duration": 1211,
    "start_time": "2022-10-05T18:12:43.333Z"
   },
   {
    "duration": 245,
    "start_time": "2022-10-05T18:13:25.645Z"
   },
   {
    "duration": 1145,
    "start_time": "2022-10-05T18:13:35.030Z"
   },
   {
    "duration": 11,
    "start_time": "2022-10-05T18:13:49.758Z"
   },
   {
    "duration": 232,
    "start_time": "2022-10-05T18:14:14.879Z"
   },
   {
    "duration": 237,
    "start_time": "2022-10-05T18:14:21.792Z"
   },
   {
    "duration": 1141,
    "start_time": "2022-10-05T18:18:11.626Z"
   },
   {
    "duration": 1117,
    "start_time": "2022-10-05T18:18:21.704Z"
   },
   {
    "duration": 1110,
    "start_time": "2022-10-05T18:19:08.565Z"
   },
   {
    "duration": 233,
    "start_time": "2022-10-05T18:19:16.896Z"
   },
   {
    "duration": 1118,
    "start_time": "2022-10-05T18:19:29.581Z"
   },
   {
    "duration": 1143,
    "start_time": "2022-10-05T18:19:44.252Z"
   },
   {
    "duration": 1155,
    "start_time": "2022-10-05T18:20:11.568Z"
   },
   {
    "duration": 179,
    "start_time": "2022-10-05T18:21:09.358Z"
   },
   {
    "duration": 47,
    "start_time": "2022-10-05T18:21:39.883Z"
   },
   {
    "duration": 11,
    "start_time": "2022-10-05T18:22:00.789Z"
   },
   {
    "duration": 5,
    "start_time": "2022-10-05T18:22:19.774Z"
   },
   {
    "duration": 9,
    "start_time": "2022-10-05T18:22:26.044Z"
   },
   {
    "duration": 5,
    "start_time": "2022-10-05T18:22:49.090Z"
   },
   {
    "duration": 4,
    "start_time": "2022-10-05T18:23:01.036Z"
   },
   {
    "duration": 4,
    "start_time": "2022-10-05T18:23:07.920Z"
   },
   {
    "duration": 6,
    "start_time": "2022-10-05T18:23:18.150Z"
   },
   {
    "duration": 6,
    "start_time": "2022-10-05T18:23:35.893Z"
   },
   {
    "duration": 1106,
    "start_time": "2022-10-05T18:23:48.051Z"
   },
   {
    "duration": 231,
    "start_time": "2022-10-05T18:24:03.410Z"
   },
   {
    "duration": 1590,
    "start_time": "2022-10-05T18:24:16.357Z"
   },
   {
    "duration": 149,
    "start_time": "2022-10-05T18:39:23.919Z"
   },
   {
    "duration": 61549,
    "start_time": "2022-10-05T18:39:31.968Z"
   },
   {
    "duration": 283,
    "start_time": "2022-10-05T18:40:33.520Z"
   },
   {
    "duration": 1183,
    "start_time": "2022-10-05T18:40:33.805Z"
   },
   {
    "duration": 272,
    "start_time": "2022-10-05T18:46:47.416Z"
   },
   {
    "duration": 274,
    "start_time": "2022-10-05T18:47:00.146Z"
   },
   {
    "duration": 4,
    "start_time": "2022-10-05T20:37:01.459Z"
   },
   {
    "duration": 6,
    "start_time": "2022-10-05T20:37:01.692Z"
   },
   {
    "duration": 506,
    "start_time": "2022-10-05T20:37:28.500Z"
   },
   {
    "duration": 5075,
    "start_time": "2022-10-05T20:37:29.008Z"
   },
   {
    "duration": 12422,
    "start_time": "2022-10-05T20:37:34.085Z"
   },
   {
    "duration": 20704,
    "start_time": "2022-10-05T20:37:46.509Z"
   },
   {
    "duration": 3652,
    "start_time": "2022-10-05T20:38:07.215Z"
   },
   {
    "duration": 4051,
    "start_time": "2022-10-05T20:38:10.869Z"
   },
   {
    "duration": 729,
    "start_time": "2022-10-05T20:38:14.921Z"
   },
   {
    "duration": 328,
    "start_time": "2022-10-05T20:38:15.653Z"
   },
   {
    "duration": 12,
    "start_time": "2022-10-05T20:38:15.982Z"
   },
   {
    "duration": 17,
    "start_time": "2022-10-05T20:38:15.996Z"
   },
   {
    "duration": 1055,
    "start_time": "2022-10-05T20:38:16.017Z"
   },
   {
    "duration": 18659,
    "start_time": "2022-10-05T20:38:17.074Z"
   },
   {
    "duration": 258,
    "start_time": "2022-10-05T20:38:35.735Z"
   },
   {
    "duration": 279,
    "start_time": "2022-10-05T20:38:35.995Z"
   },
   {
    "duration": 168,
    "start_time": "2022-10-05T20:38:36.276Z"
   },
   {
    "duration": 4919,
    "start_time": "2022-10-05T20:38:36.446Z"
   },
   {
    "duration": 338,
    "start_time": "2022-10-05T20:38:41.367Z"
   },
   {
    "duration": 278,
    "start_time": "2022-10-05T20:38:41.707Z"
   },
   {
    "duration": 21451,
    "start_time": "2022-10-05T20:38:41.987Z"
   },
   {
    "duration": 817,
    "start_time": "2022-10-05T20:39:03.439Z"
   },
   {
    "duration": 7,
    "start_time": "2022-10-05T20:39:04.258Z"
   },
   {
    "duration": 57,
    "start_time": "2022-10-05T20:39:04.266Z"
   },
   {
    "duration": 156,
    "start_time": "2022-10-05T20:39:04.325Z"
   },
   {
    "duration": 169,
    "start_time": "2022-10-05T20:39:04.482Z"
   },
   {
    "duration": 5,
    "start_time": "2022-10-05T20:39:04.653Z"
   },
   {
    "duration": 134,
    "start_time": "2022-10-05T20:39:04.661Z"
   },
   {
    "duration": 167,
    "start_time": "2022-10-05T20:39:04.796Z"
   },
   {
    "duration": 4,
    "start_time": "2022-10-05T20:39:04.965Z"
   },
   {
    "duration": 170,
    "start_time": "2022-10-05T20:39:04.974Z"
   },
   {
    "duration": 11,
    "start_time": "2022-10-05T20:39:05.146Z"
   },
   {
    "duration": 59,
    "start_time": "2022-10-05T20:39:05.159Z"
   },
   {
    "duration": 126,
    "start_time": "2022-10-05T20:39:05.220Z"
   },
   {
    "duration": 178,
    "start_time": "2022-10-05T20:39:05.348Z"
   },
   {
    "duration": 156,
    "start_time": "2022-10-05T20:39:05.528Z"
   },
   {
    "duration": 48,
    "start_time": "2022-10-05T20:39:05.686Z"
   },
   {
    "duration": 266,
    "start_time": "2022-10-05T20:39:05.736Z"
   },
   {
    "duration": 141,
    "start_time": "2022-10-05T20:39:06.004Z"
   },
   {
    "duration": 49,
    "start_time": "2022-10-05T20:39:06.147Z"
   },
   {
    "duration": 263,
    "start_time": "2022-10-05T20:39:06.198Z"
   },
   {
    "duration": 131,
    "start_time": "2022-10-05T20:39:06.462Z"
   },
   {
    "duration": 63,
    "start_time": "2022-10-05T20:39:06.595Z"
   },
   {
    "duration": 254,
    "start_time": "2022-10-05T20:39:06.660Z"
   },
   {
    "duration": 122,
    "start_time": "2022-10-05T20:39:06.916Z"
   },
   {
    "duration": 42,
    "start_time": "2022-10-05T20:39:07.040Z"
   },
   {
    "duration": 236,
    "start_time": "2022-10-05T20:39:07.084Z"
   },
   {
    "duration": 59,
    "start_time": "2022-10-05T20:39:07.322Z"
   },
   {
    "duration": 251,
    "start_time": "2022-10-05T20:39:07.383Z"
   },
   {
    "duration": 36,
    "start_time": "2022-10-05T20:39:07.636Z"
   },
   {
    "duration": 52,
    "start_time": "2022-10-05T20:39:07.674Z"
   },
   {
    "duration": 354,
    "start_time": "2022-10-05T20:39:07.727Z"
   },
   {
    "duration": 5,
    "start_time": "2022-10-05T20:39:08.082Z"
   },
   {
    "duration": 40,
    "start_time": "2022-10-05T20:39:08.089Z"
   },
   {
    "duration": 79,
    "start_time": "2022-10-05T20:39:08.131Z"
   },
   {
    "duration": 44,
    "start_time": "2022-10-05T20:39:08.211Z"
   },
   {
    "duration": 103,
    "start_time": "2022-10-05T20:39:08.258Z"
   },
   {
    "duration": 57,
    "start_time": "2022-10-05T20:39:08.362Z"
   },
   {
    "duration": 217,
    "start_time": "2022-10-05T20:39:08.421Z"
   },
   {
    "duration": 48,
    "start_time": "2022-10-05T20:39:08.640Z"
   },
   {
    "duration": 43,
    "start_time": "2022-10-05T20:39:08.689Z"
   },
   {
    "duration": 122,
    "start_time": "2022-10-05T20:39:08.733Z"
   },
   {
    "duration": 40,
    "start_time": "2022-10-05T20:39:08.856Z"
   },
   {
    "duration": 56,
    "start_time": "2022-10-05T20:39:08.898Z"
   },
   {
    "duration": 29,
    "start_time": "2022-10-05T20:39:08.956Z"
   },
   {
    "duration": 6,
    "start_time": "2022-10-05T20:39:08.987Z"
   },
   {
    "duration": 13,
    "start_time": "2022-10-05T20:39:08.995Z"
   },
   {
    "duration": 12,
    "start_time": "2022-10-05T20:39:09.009Z"
   },
   {
    "duration": 78,
    "start_time": "2022-10-05T20:39:09.023Z"
   },
   {
    "duration": 27,
    "start_time": "2022-10-05T20:39:09.103Z"
   },
   {
    "duration": 65,
    "start_time": "2022-10-05T20:39:09.131Z"
   },
   {
    "duration": 14,
    "start_time": "2022-10-05T20:39:09.198Z"
   },
   {
    "duration": 154,
    "start_time": "2022-10-05T20:39:09.213Z"
   },
   {
    "duration": 5,
    "start_time": "2022-10-05T20:39:09.368Z"
   },
   {
    "duration": 25,
    "start_time": "2022-10-05T20:39:09.374Z"
   },
   {
    "duration": 16,
    "start_time": "2022-10-05T20:39:09.401Z"
   },
   {
    "duration": 290,
    "start_time": "2022-10-05T20:39:09.419Z"
   },
   {
    "duration": 80,
    "start_time": "2022-10-05T20:39:09.711Z"
   },
   {
    "duration": 12,
    "start_time": "2022-10-05T20:39:09.792Z"
   },
   {
    "duration": 16,
    "start_time": "2022-10-05T20:39:09.805Z"
   },
   {
    "duration": 8,
    "start_time": "2022-10-05T20:39:09.823Z"
   },
   {
    "duration": 44,
    "start_time": "2022-10-05T20:39:09.833Z"
   },
   {
    "duration": 4,
    "start_time": "2022-10-05T20:39:09.879Z"
   },
   {
    "duration": 759,
    "start_time": "2022-10-05T20:39:09.884Z"
   },
   {
    "duration": 36,
    "start_time": "2022-10-05T20:39:10.649Z"
   },
   {
    "duration": 50,
    "start_time": "2022-10-05T20:39:10.687Z"
   },
   {
    "duration": 6,
    "start_time": "2022-10-05T20:39:10.755Z"
   },
   {
    "duration": 163,
    "start_time": "2022-10-05T20:39:10.763Z"
   },
   {
    "duration": 0,
    "start_time": "2022-10-05T20:39:10.927Z"
   },
   {
    "duration": 638,
    "start_time": "2022-10-05T20:39:36.250Z"
   },
   {
    "duration": 112,
    "start_time": "2022-10-05T20:39:38.080Z"
   },
   {
    "duration": 35,
    "start_time": "2022-10-05T20:39:43.507Z"
   },
   {
    "duration": 16910,
    "start_time": "2022-10-05T20:40:08.436Z"
   },
   {
    "duration": 115,
    "start_time": "2022-10-05T20:40:25.349Z"
   },
   {
    "duration": 89490,
    "start_time": "2022-10-05T20:40:25.466Z"
   },
   {
    "duration": 198,
    "start_time": "2022-10-05T20:41:54.959Z"
   },
   {
    "duration": 579,
    "start_time": "2022-10-05T21:09:28.585Z"
   },
   {
    "duration": 5952,
    "start_time": "2022-10-05T21:09:29.166Z"
   },
   {
    "duration": 12994,
    "start_time": "2022-10-05T21:09:35.119Z"
   },
   {
    "duration": 22080,
    "start_time": "2022-10-05T21:09:48.115Z"
   },
   {
    "duration": 3869,
    "start_time": "2022-10-05T21:10:10.197Z"
   },
   {
    "duration": 4305,
    "start_time": "2022-10-05T21:10:14.068Z"
   },
   {
    "duration": 665,
    "start_time": "2022-10-05T21:10:18.375Z"
   },
   {
    "duration": 307,
    "start_time": "2022-10-05T21:10:19.042Z"
   },
   {
    "duration": 11,
    "start_time": "2022-10-05T21:10:19.350Z"
   },
   {
    "duration": 15,
    "start_time": "2022-10-05T21:10:19.362Z"
   },
   {
    "duration": 1096,
    "start_time": "2022-10-05T21:10:19.379Z"
   },
   {
    "duration": 16443,
    "start_time": "2022-10-05T21:10:20.477Z"
   },
   {
    "duration": 272,
    "start_time": "2022-10-05T21:10:36.922Z"
   },
   {
    "duration": 239,
    "start_time": "2022-10-05T21:10:37.197Z"
   },
   {
    "duration": 176,
    "start_time": "2022-10-05T21:10:37.438Z"
   },
   {
    "duration": 3331,
    "start_time": "2022-10-05T21:10:37.615Z"
   },
   {
    "duration": 283,
    "start_time": "2022-10-05T21:10:40.948Z"
   },
   {
    "duration": 313,
    "start_time": "2022-10-05T21:10:41.233Z"
   },
   {
    "duration": 19531,
    "start_time": "2022-10-05T21:10:41.548Z"
   },
   {
    "duration": 919,
    "start_time": "2022-10-05T21:11:01.081Z"
   },
   {
    "duration": 8,
    "start_time": "2022-10-05T21:11:02.002Z"
   },
   {
    "duration": 75,
    "start_time": "2022-10-05T21:11:02.012Z"
   },
   {
    "duration": 169,
    "start_time": "2022-10-05T21:11:02.089Z"
   },
   {
    "duration": 194,
    "start_time": "2022-10-05T21:11:02.260Z"
   },
   {
    "duration": 5,
    "start_time": "2022-10-05T21:11:02.456Z"
   },
   {
    "duration": 160,
    "start_time": "2022-10-05T21:11:02.463Z"
   },
   {
    "duration": 183,
    "start_time": "2022-10-05T21:11:02.624Z"
   },
   {
    "duration": 5,
    "start_time": "2022-10-05T21:11:02.808Z"
   },
   {
    "duration": 198,
    "start_time": "2022-10-05T21:11:02.814Z"
   },
   {
    "duration": 5,
    "start_time": "2022-10-05T21:11:03.013Z"
   },
   {
    "duration": 82,
    "start_time": "2022-10-05T21:11:03.019Z"
   },
   {
    "duration": 139,
    "start_time": "2022-10-05T21:11:03.102Z"
   },
   {
    "duration": 206,
    "start_time": "2022-10-05T21:11:03.243Z"
   },
   {
    "duration": 176,
    "start_time": "2022-10-05T21:11:03.451Z"
   },
   {
    "duration": 58,
    "start_time": "2022-10-05T21:11:03.629Z"
   },
   {
    "duration": 339,
    "start_time": "2022-10-05T21:11:03.689Z"
   },
   {
    "duration": 183,
    "start_time": "2022-10-05T21:11:04.029Z"
   },
   {
    "duration": 56,
    "start_time": "2022-10-05T21:11:04.214Z"
   },
   {
    "duration": 350,
    "start_time": "2022-10-05T21:11:04.271Z"
   },
   {
    "duration": 177,
    "start_time": "2022-10-05T21:11:04.623Z"
   },
   {
    "duration": 58,
    "start_time": "2022-10-05T21:11:04.806Z"
   },
   {
    "duration": 313,
    "start_time": "2022-10-05T21:11:04.866Z"
   },
   {
    "duration": 163,
    "start_time": "2022-10-05T21:11:05.180Z"
   },
   {
    "duration": 44,
    "start_time": "2022-10-05T21:11:05.345Z"
   },
   {
    "duration": 323,
    "start_time": "2022-10-05T21:11:05.391Z"
   },
   {
    "duration": 57,
    "start_time": "2022-10-05T21:11:05.716Z"
   },
   {
    "duration": 297,
    "start_time": "2022-10-05T21:11:05.774Z"
   },
   {
    "duration": 35,
    "start_time": "2022-10-05T21:11:06.073Z"
   },
   {
    "duration": 67,
    "start_time": "2022-10-05T21:11:06.110Z"
   },
   {
    "duration": 451,
    "start_time": "2022-10-05T21:11:06.180Z"
   },
   {
    "duration": 6,
    "start_time": "2022-10-05T21:11:06.633Z"
   },
   {
    "duration": 89,
    "start_time": "2022-10-05T21:11:06.641Z"
   },
   {
    "duration": 87,
    "start_time": "2022-10-05T21:11:06.733Z"
   },
   {
    "duration": 33,
    "start_time": "2022-10-05T21:11:06.822Z"
   },
   {
    "duration": 134,
    "start_time": "2022-10-05T21:11:06.857Z"
   },
   {
    "duration": 62,
    "start_time": "2022-10-05T21:11:06.993Z"
   },
   {
    "duration": 230,
    "start_time": "2022-10-05T21:11:07.056Z"
   },
   {
    "duration": 73,
    "start_time": "2022-10-05T21:11:07.288Z"
   },
   {
    "duration": 52,
    "start_time": "2022-10-05T21:11:07.363Z"
   },
   {
    "duration": 180,
    "start_time": "2022-10-05T21:11:07.416Z"
   },
   {
    "duration": 67,
    "start_time": "2022-10-05T21:11:07.598Z"
   },
   {
    "duration": 54,
    "start_time": "2022-10-05T21:11:07.667Z"
   },
   {
    "duration": 52,
    "start_time": "2022-10-05T21:11:07.723Z"
   },
   {
    "duration": 7,
    "start_time": "2022-10-05T21:11:07.777Z"
   },
   {
    "duration": 18,
    "start_time": "2022-10-05T21:11:07.786Z"
   },
   {
    "duration": 24,
    "start_time": "2022-10-05T21:11:07.805Z"
   },
   {
    "duration": 82,
    "start_time": "2022-10-05T21:11:07.830Z"
   },
   {
    "duration": 34,
    "start_time": "2022-10-05T21:11:07.913Z"
   },
   {
    "duration": 89,
    "start_time": "2022-10-05T21:11:07.954Z"
   },
   {
    "duration": 16,
    "start_time": "2022-10-05T21:11:08.045Z"
   },
   {
    "duration": 158,
    "start_time": "2022-10-05T21:11:08.063Z"
   },
   {
    "duration": 5,
    "start_time": "2022-10-05T21:11:08.223Z"
   },
   {
    "duration": 32,
    "start_time": "2022-10-05T21:11:08.231Z"
   },
   {
    "duration": 40,
    "start_time": "2022-10-05T21:11:08.265Z"
   },
   {
    "duration": 316,
    "start_time": "2022-10-05T21:11:08.306Z"
   },
   {
    "duration": 106,
    "start_time": "2022-10-05T21:11:08.624Z"
   },
   {
    "duration": 11,
    "start_time": "2022-10-05T21:11:08.732Z"
   },
   {
    "duration": 6,
    "start_time": "2022-10-05T21:11:08.753Z"
   },
   {
    "duration": 15,
    "start_time": "2022-10-05T21:11:08.761Z"
   },
   {
    "duration": 43,
    "start_time": "2022-10-05T21:11:08.778Z"
   },
   {
    "duration": 5,
    "start_time": "2022-10-05T21:11:08.823Z"
   },
   {
    "duration": 812,
    "start_time": "2022-10-05T21:11:08.829Z"
   },
   {
    "duration": 41,
    "start_time": "2022-10-05T21:11:09.643Z"
   },
   {
    "duration": 68,
    "start_time": "2022-10-05T21:11:09.686Z"
   },
   {
    "duration": 4,
    "start_time": "2022-10-05T21:11:09.756Z"
   },
   {
    "duration": 662,
    "start_time": "2022-10-05T21:11:09.762Z"
   },
   {
    "duration": 153,
    "start_time": "2022-10-05T21:11:10.426Z"
   },
   {
    "duration": 2505,
    "start_time": "2022-10-05T21:11:10.580Z"
   },
   {
    "duration": 128,
    "start_time": "2022-10-05T21:11:13.088Z"
   },
   {
    "duration": 89638,
    "start_time": "2022-10-05T21:11:13.218Z"
   },
   {
    "duration": 209,
    "start_time": "2022-10-05T21:12:42.858Z"
   },
   {
    "duration": 6,
    "start_time": "2022-10-05T21:12:43.069Z"
   }
  ],
  "kernelspec": {
   "display_name": "Python 3 (ipykernel)",
   "language": "python",
   "name": "python3"
  },
  "language_info": {
   "codemirror_mode": {
    "name": "ipython",
    "version": 3
   },
   "file_extension": ".py",
   "mimetype": "text/x-python",
   "name": "python",
   "nbconvert_exporter": "python",
   "pygments_lexer": "ipython3",
   "version": "3.9.7"
  },
  "toc": {
   "base_numbering": 1,
   "nav_menu": {},
   "number_sections": false,
   "sideBar": true,
   "skip_h1_title": false,
   "title_cell": "Table of Contents",
   "title_sidebar": "Contents",
   "toc_cell": false,
   "toc_position": {},
   "toc_section_display": true,
   "toc_window_display": false
  },
  "varInspector": {
   "cols": {
    "lenName": 16,
    "lenType": 16,
    "lenVar": 40
   },
   "kernels_config": {
    "python": {
     "delete_cmd_postfix": "",
     "delete_cmd_prefix": "del ",
     "library": "var_list.py",
     "varRefreshCmd": "print(var_dic_list())"
    },
    "r": {
     "delete_cmd_postfix": ") ",
     "delete_cmd_prefix": "rm(",
     "library": "var_list.r",
     "varRefreshCmd": "cat(var_dic_list()) "
    }
   },
   "types_to_exclude": [
    "module",
    "function",
    "builtin_function_or_method",
    "instance",
    "_Feature"
   ],
   "window_display": false
  }
 },
 "nbformat": 4,
 "nbformat_minor": 5
}
